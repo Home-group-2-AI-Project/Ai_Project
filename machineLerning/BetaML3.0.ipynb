{
 "cells": [
  {
   "cell_type": "code",
   "execution_count": 2,
   "id": "6f2714de-75d6-4bad-934b-5b50c01825dc",
   "metadata": {},
   "outputs": [],
   "source": [
    "#pip install datasets\n",
    "#pip install numpy\n",
    "#pip install pandas\n",
    "#pip install seaborn\n",
    "#pip install scikit-learn\n",
    "#pip install openpyxl\n",
    "import numpy as np\n",
    "import pandas as pd\n",
    "import seaborn as sn\n",
    "import matplotlib.pyplot as plt\n",
    "from sklearn.feature_extraction.text import CountVectorizer, TfidfVectorizer\n",
    "from sklearn.linear_model import LogisticRegression\n",
    "from sklearn.metrics import roc_auc_score, f1_score, confusion_matrix\n",
    "from sklearn.model_selection import train_test_split\n",
    "from datasets import load_dataset"
   ]
  },
  {
   "cell_type": "code",
   "execution_count": 3,
   "id": "3a3bb315-c1d4-48a0-bedb-3d7df01215f8",
   "metadata": {},
   "outputs": [],
   "source": [
    "dataset = load_dataset(\"alexcom/analisis-sentimientos-textos-turisitcos-mx-polaridad\")"
   ]
  },
  {
   "cell_type": "code",
   "execution_count": 4,
   "id": "71668b15-9285-41ed-a738-53268a7c249c",
   "metadata": {},
   "outputs": [],
   "source": [
    "df_test = pd.DataFrame(dataset['test'])\n",
    "df_train = pd.DataFrame(dataset['train'])"
   ]
  },
  {
   "cell_type": "code",
   "execution_count": 5,
   "id": "5a0643c2-cb89-42e3-94d4-31e74bea8281",
   "metadata": {},
   "outputs": [
    {
     "data": {
      "text/html": [
       "<div>\n",
       "<style scoped>\n",
       "    .dataframe tbody tr th:only-of-type {\n",
       "        vertical-align: middle;\n",
       "    }\n",
       "\n",
       "    .dataframe tbody tr th {\n",
       "        vertical-align: top;\n",
       "    }\n",
       "\n",
       "    .dataframe thead th {\n",
       "        text-align: right;\n",
       "    }\n",
       "</style>\n",
       "<table border=\"1\" class=\"dataframe\">\n",
       "  <thead>\n",
       "    <tr style=\"text-align: right;\">\n",
       "      <th></th>\n",
       "      <th>text</th>\n",
       "      <th>label</th>\n",
       "    </tr>\n",
       "  </thead>\n",
       "  <tbody>\n",
       "    <tr>\n",
       "      <th>0</th>\n",
       "      <td>parece familiar?. probablemente no, ya que se ...</td>\n",
       "      <td>3</td>\n",
       "    </tr>\n",
       "    <tr>\n",
       "      <th>1</th>\n",
       "      <td>el hotel, espectacular. el hotel es muy bonito...</td>\n",
       "      <td>5</td>\n",
       "    </tr>\n",
       "    <tr>\n",
       "      <th>2</th>\n",
       "      <td>lugar bueno escondido. amabilidad profesionali...</td>\n",
       "      <td>4</td>\n",
       "    </tr>\n",
       "    <tr>\n",
       "      <th>3</th>\n",
       "      <td>situacion privilegiada. hotel con una situacio...</td>\n",
       "      <td>5</td>\n",
       "    </tr>\n",
       "    <tr>\n",
       "      <th>4</th>\n",
       "      <td>caminata y visita al cerro monserrate. buen lu...</td>\n",
       "      <td>5</td>\n",
       "    </tr>\n",
       "    <tr>\n",
       "      <th>...</th>\n",
       "      <td>...</td>\n",
       "      <td>...</td>\n",
       "    </tr>\n",
       "    <tr>\n",
       "      <th>75505</th>\n",
       "      <td>execelente!. el fin de semana pasado, llevé un...</td>\n",
       "      <td>5</td>\n",
       "    </tr>\n",
       "    <tr>\n",
       "      <th>75506</th>\n",
       "      <td>oaxaca caprichos en santa lucía. quiero decir,...</td>\n",
       "      <td>4</td>\n",
       "    </tr>\n",
       "    <tr>\n",
       "      <th>75507</th>\n",
       "      <td>visita de familia. realmente disfrutamos visit...</td>\n",
       "      <td>5</td>\n",
       "    </tr>\n",
       "    <tr>\n",
       "      <th>75508</th>\n",
       "      <td>vista de la ciudad genial!!. excelente experie...</td>\n",
       "      <td>4</td>\n",
       "    </tr>\n",
       "    <tr>\n",
       "      <th>75509</th>\n",
       "      <td>un aparcamiento grande. nuestro tour general d...</td>\n",
       "      <td>1</td>\n",
       "    </tr>\n",
       "  </tbody>\n",
       "</table>\n",
       "<p>75510 rows × 2 columns</p>\n",
       "</div>"
      ],
      "text/plain": [
       "                                                    text  label\n",
       "0      parece familiar?. probablemente no, ya que se ...      3\n",
       "1      el hotel, espectacular. el hotel es muy bonito...      5\n",
       "2      lugar bueno escondido. amabilidad profesionali...      4\n",
       "3      situacion privilegiada. hotel con una situacio...      5\n",
       "4      caminata y visita al cerro monserrate. buen lu...      5\n",
       "...                                                  ...    ...\n",
       "75505  execelente!. el fin de semana pasado, llevé un...      5\n",
       "75506  oaxaca caprichos en santa lucía. quiero decir,...      4\n",
       "75507  visita de familia. realmente disfrutamos visit...      5\n",
       "75508  vista de la ciudad genial!!. excelente experie...      4\n",
       "75509  un aparcamiento grande. nuestro tour general d...      1\n",
       "\n",
       "[75510 rows x 2 columns]"
      ]
     },
     "execution_count": 5,
     "metadata": {},
     "output_type": "execute_result"
    }
   ],
   "source": [
    "df_test"
   ]
  },
  {
   "cell_type": "code",
   "execution_count": 6,
   "id": "da8863a3-a1f6-435e-b71c-cadcd130cf87",
   "metadata": {},
   "outputs": [
    {
     "data": {
      "text/html": [
       "<div>\n",
       "<style scoped>\n",
       "    .dataframe tbody tr th:only-of-type {\n",
       "        vertical-align: middle;\n",
       "    }\n",
       "\n",
       "    .dataframe tbody tr th {\n",
       "        vertical-align: top;\n",
       "    }\n",
       "\n",
       "    .dataframe thead th {\n",
       "        text-align: right;\n",
       "    }\n",
       "</style>\n",
       "<table border=\"1\" class=\"dataframe\">\n",
       "  <thead>\n",
       "    <tr style=\"text-align: right;\">\n",
       "      <th></th>\n",
       "      <th>text</th>\n",
       "      <th>label</th>\n",
       "    </tr>\n",
       "  </thead>\n",
       "  <tbody>\n",
       "    <tr>\n",
       "      <th>0</th>\n",
       "      <td>el mejor lugar para comer sushi. excelente lug...</td>\n",
       "      <td>5</td>\n",
       "    </tr>\n",
       "    <tr>\n",
       "      <th>1</th>\n",
       "      <td>vista hermosa!. me sorprendió la maravillosa v...</td>\n",
       "      <td>5</td>\n",
       "    </tr>\n",
       "    <tr>\n",
       "      <th>2</th>\n",
       "      <td>desastroso. buenas noches,  ante todo explicar...</td>\n",
       "      <td>1</td>\n",
       "    </tr>\n",
       "    <tr>\n",
       "      <th>3</th>\n",
       "      <td>todo bien excepto que se niegan a dar vasos de...</td>\n",
       "      <td>3</td>\n",
       "    </tr>\n",
       "    <tr>\n",
       "      <th>4</th>\n",
       "      <td>el mejor zoologico de méxico. el ambiente es m...</td>\n",
       "      <td>5</td>\n",
       "    </tr>\n",
       "    <tr>\n",
       "      <th>...</th>\n",
       "      <td>...</td>\n",
       "      <td>...</td>\n",
       "    </tr>\n",
       "    <tr>\n",
       "      <th>176187</th>\n",
       "      <td>gran hotel con buen servicio. hotel muy bueno,...</td>\n",
       "      <td>5</td>\n",
       "    </tr>\n",
       "    <tr>\n",
       "      <th>176188</th>\n",
       "      <td>estancia cómoda en la frontera de puebla y tla...</td>\n",
       "      <td>5</td>\n",
       "    </tr>\n",
       "    <tr>\n",
       "      <th>176189</th>\n",
       "      <td>encantador. realmente nos gustó quedarnos en e...</td>\n",
       "      <td>5</td>\n",
       "    </tr>\n",
       "    <tr>\n",
       "      <th>176190</th>\n",
       "      <td>en general la atención del personal fue excele...</td>\n",
       "      <td>5</td>\n",
       "    </tr>\n",
       "    <tr>\n",
       "      <th>176191</th>\n",
       "      <td>una bellesa en la ciudad. exelente lugar debaj...</td>\n",
       "      <td>5</td>\n",
       "    </tr>\n",
       "  </tbody>\n",
       "</table>\n",
       "<p>176192 rows × 2 columns</p>\n",
       "</div>"
      ],
      "text/plain": [
       "                                                     text  label\n",
       "0       el mejor lugar para comer sushi. excelente lug...      5\n",
       "1       vista hermosa!. me sorprendió la maravillosa v...      5\n",
       "2       desastroso. buenas noches,  ante todo explicar...      1\n",
       "3       todo bien excepto que se niegan a dar vasos de...      3\n",
       "4       el mejor zoologico de méxico. el ambiente es m...      5\n",
       "...                                                   ...    ...\n",
       "176187  gran hotel con buen servicio. hotel muy bueno,...      5\n",
       "176188  estancia cómoda en la frontera de puebla y tla...      5\n",
       "176189  encantador. realmente nos gustó quedarnos en e...      5\n",
       "176190  en general la atención del personal fue excele...      5\n",
       "176191  una bellesa en la ciudad. exelente lugar debaj...      5\n",
       "\n",
       "[176192 rows x 2 columns]"
      ]
     },
     "execution_count": 6,
     "metadata": {},
     "output_type": "execute_result"
    }
   ],
   "source": [
    "df_train"
   ]
  },
  {
   "cell_type": "code",
   "execution_count": 7,
   "id": "7c4bce16-3715-4f98-b531-5868a6114822",
   "metadata": {},
   "outputs": [],
   "source": [
    "#etiqueta y enumeracion\n",
    "target_map = {1 : 'muy negativo', 2 : 'Negativo', 3 : 'Neutro', 4 : 'bueno', 5 : 'muy bueno'}\n",
    "df_train['category'] = df_train['label'].map(target_map)"
   ]
  },
  {
   "cell_type": "code",
   "execution_count": 8,
   "id": "60448374-025b-49ce-9a39-07cc030f8c6f",
   "metadata": {},
   "outputs": [
    {
     "data": {
      "text/html": [
       "<div>\n",
       "<style scoped>\n",
       "    .dataframe tbody tr th:only-of-type {\n",
       "        vertical-align: middle;\n",
       "    }\n",
       "\n",
       "    .dataframe tbody tr th {\n",
       "        vertical-align: top;\n",
       "    }\n",
       "\n",
       "    .dataframe thead th {\n",
       "        text-align: right;\n",
       "    }\n",
       "</style>\n",
       "<table border=\"1\" class=\"dataframe\">\n",
       "  <thead>\n",
       "    <tr style=\"text-align: right;\">\n",
       "      <th></th>\n",
       "      <th>text</th>\n",
       "      <th>label</th>\n",
       "      <th>category</th>\n",
       "    </tr>\n",
       "  </thead>\n",
       "  <tbody>\n",
       "    <tr>\n",
       "      <th>0</th>\n",
       "      <td>el mejor lugar para comer sushi. excelente lug...</td>\n",
       "      <td>5</td>\n",
       "      <td>muy bueno</td>\n",
       "    </tr>\n",
       "    <tr>\n",
       "      <th>1</th>\n",
       "      <td>vista hermosa!. me sorprendió la maravillosa v...</td>\n",
       "      <td>5</td>\n",
       "      <td>muy bueno</td>\n",
       "    </tr>\n",
       "    <tr>\n",
       "      <th>2</th>\n",
       "      <td>desastroso. buenas noches,  ante todo explicar...</td>\n",
       "      <td>1</td>\n",
       "      <td>muy negativo</td>\n",
       "    </tr>\n",
       "    <tr>\n",
       "      <th>3</th>\n",
       "      <td>todo bien excepto que se niegan a dar vasos de...</td>\n",
       "      <td>3</td>\n",
       "      <td>Neutro</td>\n",
       "    </tr>\n",
       "    <tr>\n",
       "      <th>4</th>\n",
       "      <td>el mejor zoologico de méxico. el ambiente es m...</td>\n",
       "      <td>5</td>\n",
       "      <td>muy bueno</td>\n",
       "    </tr>\n",
       "    <tr>\n",
       "      <th>...</th>\n",
       "      <td>...</td>\n",
       "      <td>...</td>\n",
       "      <td>...</td>\n",
       "    </tr>\n",
       "    <tr>\n",
       "      <th>176187</th>\n",
       "      <td>gran hotel con buen servicio. hotel muy bueno,...</td>\n",
       "      <td>5</td>\n",
       "      <td>muy bueno</td>\n",
       "    </tr>\n",
       "    <tr>\n",
       "      <th>176188</th>\n",
       "      <td>estancia cómoda en la frontera de puebla y tla...</td>\n",
       "      <td>5</td>\n",
       "      <td>muy bueno</td>\n",
       "    </tr>\n",
       "    <tr>\n",
       "      <th>176189</th>\n",
       "      <td>encantador. realmente nos gustó quedarnos en e...</td>\n",
       "      <td>5</td>\n",
       "      <td>muy bueno</td>\n",
       "    </tr>\n",
       "    <tr>\n",
       "      <th>176190</th>\n",
       "      <td>en general la atención del personal fue excele...</td>\n",
       "      <td>5</td>\n",
       "      <td>muy bueno</td>\n",
       "    </tr>\n",
       "    <tr>\n",
       "      <th>176191</th>\n",
       "      <td>una bellesa en la ciudad. exelente lugar debaj...</td>\n",
       "      <td>5</td>\n",
       "      <td>muy bueno</td>\n",
       "    </tr>\n",
       "  </tbody>\n",
       "</table>\n",
       "<p>176192 rows × 3 columns</p>\n",
       "</div>"
      ],
      "text/plain": [
       "                                                     text  label      category\n",
       "0       el mejor lugar para comer sushi. excelente lug...      5     muy bueno\n",
       "1       vista hermosa!. me sorprendió la maravillosa v...      5     muy bueno\n",
       "2       desastroso. buenas noches,  ante todo explicar...      1  muy negativo\n",
       "3       todo bien excepto que se niegan a dar vasos de...      3        Neutro\n",
       "4       el mejor zoologico de méxico. el ambiente es m...      5     muy bueno\n",
       "...                                                   ...    ...           ...\n",
       "176187  gran hotel con buen servicio. hotel muy bueno,...      5     muy bueno\n",
       "176188  estancia cómoda en la frontera de puebla y tla...      5     muy bueno\n",
       "176189  encantador. realmente nos gustó quedarnos en e...      5     muy bueno\n",
       "176190  en general la atención del personal fue excele...      5     muy bueno\n",
       "176191  una bellesa en la ciudad. exelente lugar debaj...      5     muy bueno\n",
       "\n",
       "[176192 rows x 3 columns]"
      ]
     },
     "execution_count": 8,
     "metadata": {},
     "output_type": "execute_result"
    }
   ],
   "source": [
    "df_train"
   ]
  },
  {
   "cell_type": "code",
   "execution_count": 9,
   "id": "c8d6395e-5bbc-4fe9-8b9a-74620d0b217c",
   "metadata": {},
   "outputs": [],
   "source": [
    "#etiqueta y enumeracion\n",
    "target_map = {1 : 'muy negativo', 2 : 'Negativo', 3 : 'Neutro', 4 : 'bueno', 5 : 'muy bueno'}\n",
    "df_test['category'] = df_test['label'].map(target_map)"
   ]
  },
  {
   "cell_type": "code",
   "execution_count": 10,
   "id": "5a9ca5ea-4a9c-419b-9461-a80ffa1b699c",
   "metadata": {},
   "outputs": [
    {
     "data": {
      "text/html": [
       "<div>\n",
       "<style scoped>\n",
       "    .dataframe tbody tr th:only-of-type {\n",
       "        vertical-align: middle;\n",
       "    }\n",
       "\n",
       "    .dataframe tbody tr th {\n",
       "        vertical-align: top;\n",
       "    }\n",
       "\n",
       "    .dataframe thead th {\n",
       "        text-align: right;\n",
       "    }\n",
       "</style>\n",
       "<table border=\"1\" class=\"dataframe\">\n",
       "  <thead>\n",
       "    <tr style=\"text-align: right;\">\n",
       "      <th></th>\n",
       "      <th>text</th>\n",
       "      <th>label</th>\n",
       "      <th>category</th>\n",
       "    </tr>\n",
       "  </thead>\n",
       "  <tbody>\n",
       "    <tr>\n",
       "      <th>0</th>\n",
       "      <td>parece familiar?. probablemente no, ya que se ...</td>\n",
       "      <td>3</td>\n",
       "      <td>Neutro</td>\n",
       "    </tr>\n",
       "    <tr>\n",
       "      <th>1</th>\n",
       "      <td>el hotel, espectacular. el hotel es muy bonito...</td>\n",
       "      <td>5</td>\n",
       "      <td>muy bueno</td>\n",
       "    </tr>\n",
       "    <tr>\n",
       "      <th>2</th>\n",
       "      <td>lugar bueno escondido. amabilidad profesionali...</td>\n",
       "      <td>4</td>\n",
       "      <td>bueno</td>\n",
       "    </tr>\n",
       "    <tr>\n",
       "      <th>3</th>\n",
       "      <td>situacion privilegiada. hotel con una situacio...</td>\n",
       "      <td>5</td>\n",
       "      <td>muy bueno</td>\n",
       "    </tr>\n",
       "    <tr>\n",
       "      <th>4</th>\n",
       "      <td>caminata y visita al cerro monserrate. buen lu...</td>\n",
       "      <td>5</td>\n",
       "      <td>muy bueno</td>\n",
       "    </tr>\n",
       "    <tr>\n",
       "      <th>...</th>\n",
       "      <td>...</td>\n",
       "      <td>...</td>\n",
       "      <td>...</td>\n",
       "    </tr>\n",
       "    <tr>\n",
       "      <th>75505</th>\n",
       "      <td>execelente!. el fin de semana pasado, llevé un...</td>\n",
       "      <td>5</td>\n",
       "      <td>muy bueno</td>\n",
       "    </tr>\n",
       "    <tr>\n",
       "      <th>75506</th>\n",
       "      <td>oaxaca caprichos en santa lucía. quiero decir,...</td>\n",
       "      <td>4</td>\n",
       "      <td>bueno</td>\n",
       "    </tr>\n",
       "    <tr>\n",
       "      <th>75507</th>\n",
       "      <td>visita de familia. realmente disfrutamos visit...</td>\n",
       "      <td>5</td>\n",
       "      <td>muy bueno</td>\n",
       "    </tr>\n",
       "    <tr>\n",
       "      <th>75508</th>\n",
       "      <td>vista de la ciudad genial!!. excelente experie...</td>\n",
       "      <td>4</td>\n",
       "      <td>bueno</td>\n",
       "    </tr>\n",
       "    <tr>\n",
       "      <th>75509</th>\n",
       "      <td>un aparcamiento grande. nuestro tour general d...</td>\n",
       "      <td>1</td>\n",
       "      <td>muy negativo</td>\n",
       "    </tr>\n",
       "  </tbody>\n",
       "</table>\n",
       "<p>75510 rows × 3 columns</p>\n",
       "</div>"
      ],
      "text/plain": [
       "                                                    text  label      category\n",
       "0      parece familiar?. probablemente no, ya que se ...      3        Neutro\n",
       "1      el hotel, espectacular. el hotel es muy bonito...      5     muy bueno\n",
       "2      lugar bueno escondido. amabilidad profesionali...      4         bueno\n",
       "3      situacion privilegiada. hotel con una situacio...      5     muy bueno\n",
       "4      caminata y visita al cerro monserrate. buen lu...      5     muy bueno\n",
       "...                                                  ...    ...           ...\n",
       "75505  execelente!. el fin de semana pasado, llevé un...      5     muy bueno\n",
       "75506  oaxaca caprichos en santa lucía. quiero decir,...      4         bueno\n",
       "75507  visita de familia. realmente disfrutamos visit...      5     muy bueno\n",
       "75508  vista de la ciudad genial!!. excelente experie...      4         bueno\n",
       "75509  un aparcamiento grande. nuestro tour general d...      1  muy negativo\n",
       "\n",
       "[75510 rows x 3 columns]"
      ]
     },
     "execution_count": 10,
     "metadata": {},
     "output_type": "execute_result"
    }
   ],
   "source": [
    "df_test"
   ]
  },
  {
   "cell_type": "code",
   "execution_count": 11,
   "id": "e128e946-1a85-4462-8ddc-45a728891b82",
   "metadata": {},
   "outputs": [
    {
     "data": {
      "text/plain": [
       "<176192x2000 sparse matrix of type '<class 'numpy.float64'>'\n",
       "\twith 6691608 stored elements in Compressed Sparse Row format>"
      ]
     },
     "execution_count": 11,
     "metadata": {},
     "output_type": "execute_result"
    }
   ],
   "source": [
    "vectorizer = TfidfVectorizer(max_features=2000)\n",
    "X_train = vectorizer.fit_transform(df_train['text'])\n",
    "X_train"
   ]
  },
  {
   "cell_type": "code",
   "execution_count": 12,
   "id": "cfddbe58-b956-429f-8571-270a6dd05c24",
   "metadata": {},
   "outputs": [
    {
     "data": {
      "text/plain": [
       "<75510x2000 sparse matrix of type '<class 'numpy.float64'>'\n",
       "\twith 2877745 stored elements in Compressed Sparse Row format>"
      ]
     },
     "execution_count": 12,
     "metadata": {},
     "output_type": "execute_result"
    }
   ],
   "source": [
    "X_test = vectorizer.transform(df_test['text'])\n",
    "X_test"
   ]
  },
  {
   "cell_type": "code",
   "execution_count": 13,
   "id": "8e85b54f-6a06-4102-a3df-1e2e9e6304c6",
   "metadata": {},
   "outputs": [],
   "source": [
    "Y_train = df_train['label']\n",
    "Y_test = df_test['label']"
   ]
  },
  {
   "cell_type": "code",
   "execution_count": 14,
   "id": "81378f3f-b3b0-4606-b736-c1fbf94b6903",
   "metadata": {},
   "outputs": [
    {
     "name": "stdout",
     "output_type": "stream",
     "text": [
      "Train acc: 0.7164116418452597\n",
      "Test acc: 0.7052046086611045\n"
     ]
    }
   ],
   "source": [
    "#entranar modelo con regresion logistica\n",
    "model = LogisticRegression(max_iter=1000)\n",
    "model.fit(X_train, Y_train)\n",
    "print(\"Train acc:\", model.score(X_train, Y_train))\n",
    "print(\"Test acc:\", model.score(X_test, Y_test))"
   ]
  },
  {
   "cell_type": "code",
   "execution_count": 15,
   "id": "aca33d71-9cec-49c7-b492-d4dd1d02267a",
   "metadata": {},
   "outputs": [],
   "source": [
    "P_train = model.predict(X_train)\n",
    "P_test = model.predict(X_test)"
   ]
  },
  {
   "cell_type": "code",
   "execution_count": 16,
   "id": "19e31e53-cd2d-44a4-861d-89deb8c882d5",
   "metadata": {},
   "outputs": [
    {
     "data": {
      "text/plain": [
       "array([[5.78024691e-01, 1.10370370e-01, 1.64938272e-01, 4.54320988e-02,\n",
       "        1.01234568e-01],\n",
       "       [1.46079040e-01, 2.49534451e-01, 3.71404924e-01, 1.18766812e-01,\n",
       "        1.14214773e-01],\n",
       "       [2.43103335e-02, 3.13871961e-02, 4.37127318e-01, 2.93231112e-01,\n",
       "        2.13944040e-01],\n",
       "       [2.13108543e-03, 1.70486835e-03, 5.68526236e-02, 3.53262929e-01,\n",
       "        5.86048494e-01],\n",
       "       [4.18882494e-04, 3.09608800e-04, 7.50346033e-03, 7.12373425e-02,\n",
       "        9.20530706e-01]])"
      ]
     },
     "execution_count": 16,
     "metadata": {},
     "output_type": "execute_result"
    }
   ],
   "source": [
    "cm = confusion_matrix(Y_train, P_train, normalize='true')\n",
    "cm"
   ]
  },
  {
   "cell_type": "code",
   "execution_count": 17,
   "id": "f673de66-425b-4a7a-b0a7-f80d3d437dc5",
   "metadata": {},
   "outputs": [],
   "source": [
    "def plot_cm(cm):\n",
    "    classes = ['muy negativo', 'negativo', 'neutro', 'bueno' , 'muy bueno']\n",
    "    df_cm = pd.DataFrame(cm, index=classes, columns=classes)\n",
    "    ax = sn.heatmap(df_cm, annot=True, fmt='g')\n",
    "    ax.set_xlabel(\"Predicted\")\n",
    "    ax.set_ylabel(\"label\")"
   ]
  },
  {
   "cell_type": "code",
   "execution_count": 18,
   "id": "e2a940a4-710f-48e1-9c3c-7f6fe76aa041",
   "metadata": {},
   "outputs": [
    {
     "data": {
      "image/png": "[encoded data removed]",
      "text/plain": [
       "<Figure size 640x480 with 2 Axes>"
      ]
     },
     "metadata": {},
     "output_type": "display_data"
    }
   ],
   "source": [
    "cm_test = confusion_matrix(Y_test, P_test, normalize='true')\n",
    "plot_cm(cm_test)"
   ]
  },
  {
   "cell_type": "code",
   "execution_count": 19,
   "id": "96d2713f-8da4-4a44-a9ae-43516382b510",
   "metadata": {},
   "outputs": [
    {
     "data": {
      "text/plain": [
       "<Axes: >"
      ]
     },
     "execution_count": 19,
     "metadata": {},
     "output_type": "execute_result"
    },
    {
     "data": {
      "image/png": "[encoded data removed]",
      "text/plain": [
       "<Figure size 640x480 with 1 Axes>"
      ]
     },
     "metadata": {},
     "output_type": "display_data"
    }
   ],
   "source": [
    "df_train['category'].hist()"
   ]
  },
  {
   "cell_type": "code",
   "execution_count": null,
   "id": "ef4641af-eb9e-4ee6-ba29-671f0c2bd67a",
   "metadata": {},
   "outputs": [],
   "source": []
  }
 ],
 "metadata": {
  "kernelspec": {
   "display_name": "Python 3 (ipykernel)",
   "language": "python",
   "name": "python3"
  },
  "language_info": {
   "codemirror_mode": {
    "name": "ipython",
    "version": 3
   },
   "file_extension": ".py",
   "mimetype": "text/x-python",
   "name": "python",
   "nbconvert_exporter": "python",
   "pygments_lexer": "ipython3",
   "version": "3.11.9"
  }
 },
 "nbformat": 4,
 "nbformat_minor": 5
}
