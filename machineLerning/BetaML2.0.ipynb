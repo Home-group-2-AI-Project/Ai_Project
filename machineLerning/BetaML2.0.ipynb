{
 "cells": [
  {
   "cell_type": "code",
   "execution_count": 1,
   "id": "f81e5596-73f8-4061-a967-f42c0e2aef9f",
   "metadata": {},
   "outputs": [],
   "source": [
    "#pip install datasets\n",
    "#pip install numpy\n",
    "#pip install pandas\n",
    "#pip install seaborn\n",
    "#pip install scikit-learn\n",
    "#pip install openpyxl\n",
    "import numpy as np\n",
    "import pandas as pd\n",
    "import seaborn as sn\n",
    "import matplotlib.pyplot as plt\n",
    "from sklearn.feature_extraction.text import CountVectorizer, TfidfVectorizer\n",
    "from sklearn.linear_model import LogisticRegression\n",
    "from sklearn.metrics import roc_auc_score, f1_score, confusion_matrix\n",
    "from sklearn.model_selection import train_test_split\n",
    "from datasets import load_dataset"
   ]
  },
  {
   "cell_type": "code",
   "execution_count": 2,
   "id": "23ee29ab-8e3e-423f-be84-ca342966c3ef",
   "metadata": {},
   "outputs": [
    {
     "data": {
      "text/html": [
       "<div>\n",
       "<style scoped>\n",
       "    .dataframe tbody tr th:only-of-type {\n",
       "        vertical-align: middle;\n",
       "    }\n",
       "\n",
       "    .dataframe tbody tr th {\n",
       "        vertical-align: top;\n",
       "    }\n",
       "\n",
       "    .dataframe thead th {\n",
       "        text-align: right;\n",
       "    }\n",
       "</style>\n",
       "<table border=\"1\" class=\"dataframe\">\n",
       "  <thead>\n",
       "    <tr style=\"text-align: right;\">\n",
       "      <th></th>\n",
       "      <th>clean_text</th>\n",
       "      <th>category</th>\n",
       "    </tr>\n",
       "  </thead>\n",
       "  <tbody>\n",
       "    <tr>\n",
       "      <th>0</th>\n",
       "      <td>when modi promised “minimum government maximum...</td>\n",
       "      <td>Negativo</td>\n",
       "    </tr>\n",
       "    <tr>\n",
       "      <th>1</th>\n",
       "      <td>talk all the nonsense and continue all the dra...</td>\n",
       "      <td>Neutro</td>\n",
       "    </tr>\n",
       "    <tr>\n",
       "      <th>2</th>\n",
       "      <td>what did just say vote for modi  welcome bjp t...</td>\n",
       "      <td>Positivo</td>\n",
       "    </tr>\n",
       "    <tr>\n",
       "      <th>3</th>\n",
       "      <td>asking his supporters prefix chowkidar their n...</td>\n",
       "      <td>Positivo</td>\n",
       "    </tr>\n",
       "    <tr>\n",
       "      <th>4</th>\n",
       "      <td>answer who among these the most powerful world...</td>\n",
       "      <td>Positivo</td>\n",
       "    </tr>\n",
       "    <tr>\n",
       "      <th>...</th>\n",
       "      <td>...</td>\n",
       "      <td>...</td>\n",
       "    </tr>\n",
       "    <tr>\n",
       "      <th>162963</th>\n",
       "      <td>why these 456 crores paid neerav modi not reco...</td>\n",
       "      <td>Negativo</td>\n",
       "    </tr>\n",
       "    <tr>\n",
       "      <th>162964</th>\n",
       "      <td>dear rss terrorist payal gawar what about modi...</td>\n",
       "      <td>Negativo</td>\n",
       "    </tr>\n",
       "    <tr>\n",
       "      <th>162965</th>\n",
       "      <td>did you cover her interaction forum where she ...</td>\n",
       "      <td>Neutro</td>\n",
       "    </tr>\n",
       "    <tr>\n",
       "      <th>162966</th>\n",
       "      <td>there big project came into india modi dream p...</td>\n",
       "      <td>Neutro</td>\n",
       "    </tr>\n",
       "    <tr>\n",
       "      <th>162967</th>\n",
       "      <td>have you ever listen about like gurukul where ...</td>\n",
       "      <td>Positivo</td>\n",
       "    </tr>\n",
       "  </tbody>\n",
       "</table>\n",
       "<p>162968 rows × 2 columns</p>\n",
       "</div>"
      ],
      "text/plain": [
       "                                               clean_text  category\n",
       "0       when modi promised “minimum government maximum...  Negativo\n",
       "1       talk all the nonsense and continue all the dra...    Neutro\n",
       "2       what did just say vote for modi  welcome bjp t...  Positivo\n",
       "3       asking his supporters prefix chowkidar their n...  Positivo\n",
       "4       answer who among these the most powerful world...  Positivo\n",
       "...                                                   ...       ...\n",
       "162963  why these 456 crores paid neerav modi not reco...  Negativo\n",
       "162964  dear rss terrorist payal gawar what about modi...  Negativo\n",
       "162965  did you cover her interaction forum where she ...    Neutro\n",
       "162966  there big project came into india modi dream p...    Neutro\n",
       "162967  have you ever listen about like gurukul where ...  Positivo\n",
       "\n",
       "[162968 rows x 2 columns]"
      ]
     },
     "execution_count": 2,
     "metadata": {},
     "output_type": "execute_result"
    }
   ],
   "source": [
    "df = pd.read_csv('Twitter_Data.csv')\n",
    "df"
   ]
  },
  {
   "cell_type": "code",
   "execution_count": 3,
   "id": "71cf61ce-e97b-46e1-85da-bc714ad9b86a",
   "metadata": {},
   "outputs": [
    {
     "data": {
      "text/plain": [
       "<Axes: >"
      ]
     },
     "execution_count": 3,
     "metadata": {},
     "output_type": "execute_result"
    },
    {
     "data": {
      "image/png": "[encoded data removed]",
      "text/plain": [
       "<Figure size 640x480 with 1 Axes>"
      ]
     },
     "metadata": {},
     "output_type": "display_data"
    }
   ],
   "source": [
    "df['category'].hist()"
   ]
  },
  {
   "cell_type": "code",
   "execution_count": 4,
   "id": "95f8ce4b-164f-4d62-92d2-495a530a2590",
   "metadata": {},
   "outputs": [],
   "source": [
    "#etiqueta y enumeracion\n",
    "target_map = {'Positivo': 1, 'Negativo': 0, 'Neutro': 2}\n",
    "df['target'] = df['category'].map(target_map)"
   ]
  },
  {
   "cell_type": "code",
   "execution_count": 5,
   "id": "d4217db2-47d5-47e8-a92a-51a53b2e6f47",
   "metadata": {},
   "outputs": [
    {
     "data": {
      "text/html": [
       "<div>\n",
       "<style scoped>\n",
       "    .dataframe tbody tr th:only-of-type {\n",
       "        vertical-align: middle;\n",
       "    }\n",
       "\n",
       "    .dataframe tbody tr th {\n",
       "        vertical-align: top;\n",
       "    }\n",
       "\n",
       "    .dataframe thead th {\n",
       "        text-align: right;\n",
       "    }\n",
       "</style>\n",
       "<table border=\"1\" class=\"dataframe\">\n",
       "  <thead>\n",
       "    <tr style=\"text-align: right;\">\n",
       "      <th></th>\n",
       "      <th>clean_text</th>\n",
       "      <th>category</th>\n",
       "      <th>target</th>\n",
       "    </tr>\n",
       "  </thead>\n",
       "  <tbody>\n",
       "    <tr>\n",
       "      <th>0</th>\n",
       "      <td>when modi promised “minimum government maximum...</td>\n",
       "      <td>Negativo</td>\n",
       "      <td>0</td>\n",
       "    </tr>\n",
       "    <tr>\n",
       "      <th>1</th>\n",
       "      <td>talk all the nonsense and continue all the dra...</td>\n",
       "      <td>Neutro</td>\n",
       "      <td>2</td>\n",
       "    </tr>\n",
       "    <tr>\n",
       "      <th>2</th>\n",
       "      <td>what did just say vote for modi  welcome bjp t...</td>\n",
       "      <td>Positivo</td>\n",
       "      <td>1</td>\n",
       "    </tr>\n",
       "    <tr>\n",
       "      <th>3</th>\n",
       "      <td>asking his supporters prefix chowkidar their n...</td>\n",
       "      <td>Positivo</td>\n",
       "      <td>1</td>\n",
       "    </tr>\n",
       "    <tr>\n",
       "      <th>4</th>\n",
       "      <td>answer who among these the most powerful world...</td>\n",
       "      <td>Positivo</td>\n",
       "      <td>1</td>\n",
       "    </tr>\n",
       "    <tr>\n",
       "      <th>...</th>\n",
       "      <td>...</td>\n",
       "      <td>...</td>\n",
       "      <td>...</td>\n",
       "    </tr>\n",
       "    <tr>\n",
       "      <th>162963</th>\n",
       "      <td>why these 456 crores paid neerav modi not reco...</td>\n",
       "      <td>Negativo</td>\n",
       "      <td>0</td>\n",
       "    </tr>\n",
       "    <tr>\n",
       "      <th>162964</th>\n",
       "      <td>dear rss terrorist payal gawar what about modi...</td>\n",
       "      <td>Negativo</td>\n",
       "      <td>0</td>\n",
       "    </tr>\n",
       "    <tr>\n",
       "      <th>162965</th>\n",
       "      <td>did you cover her interaction forum where she ...</td>\n",
       "      <td>Neutro</td>\n",
       "      <td>2</td>\n",
       "    </tr>\n",
       "    <tr>\n",
       "      <th>162966</th>\n",
       "      <td>there big project came into india modi dream p...</td>\n",
       "      <td>Neutro</td>\n",
       "      <td>2</td>\n",
       "    </tr>\n",
       "    <tr>\n",
       "      <th>162967</th>\n",
       "      <td>have you ever listen about like gurukul where ...</td>\n",
       "      <td>Positivo</td>\n",
       "      <td>1</td>\n",
       "    </tr>\n",
       "  </tbody>\n",
       "</table>\n",
       "<p>162968 rows × 3 columns</p>\n",
       "</div>"
      ],
      "text/plain": [
       "                                               clean_text  category  target\n",
       "0       when modi promised “minimum government maximum...  Negativo       0\n",
       "1       talk all the nonsense and continue all the dra...    Neutro       2\n",
       "2       what did just say vote for modi  welcome bjp t...  Positivo       1\n",
       "3       asking his supporters prefix chowkidar their n...  Positivo       1\n",
       "4       answer who among these the most powerful world...  Positivo       1\n",
       "...                                                   ...       ...     ...\n",
       "162963  why these 456 crores paid neerav modi not reco...  Negativo       0\n",
       "162964  dear rss terrorist payal gawar what about modi...  Negativo       0\n",
       "162965  did you cover her interaction forum where she ...    Neutro       2\n",
       "162966  there big project came into india modi dream p...    Neutro       2\n",
       "162967  have you ever listen about like gurukul where ...  Positivo       1\n",
       "\n",
       "[162968 rows x 3 columns]"
      ]
     },
     "execution_count": 5,
     "metadata": {},
     "output_type": "execute_result"
    }
   ],
   "source": [
    "df"
   ]
  },
  {
   "cell_type": "code",
   "execution_count": 6,
   "id": "0518f51f-58e4-4ae9-9306-e576691f53b6",
   "metadata": {},
   "outputs": [],
   "source": [
    "#divicion de datos para test y train\n",
    "df_train, df_test = train_test_split(df)"
   ]
  },
  {
   "cell_type": "code",
   "execution_count": 7,
   "id": "ddc87476-bc30-49d0-af0f-ca08be07000c",
   "metadata": {},
   "outputs": [
    {
     "data": {
      "text/html": [
       "<div>\n",
       "<style scoped>\n",
       "    .dataframe tbody tr th:only-of-type {\n",
       "        vertical-align: middle;\n",
       "    }\n",
       "\n",
       "    .dataframe tbody tr th {\n",
       "        vertical-align: top;\n",
       "    }\n",
       "\n",
       "    .dataframe thead th {\n",
       "        text-align: right;\n",
       "    }\n",
       "</style>\n",
       "<table border=\"1\" class=\"dataframe\">\n",
       "  <thead>\n",
       "    <tr style=\"text-align: right;\">\n",
       "      <th></th>\n",
       "      <th>clean_text</th>\n",
       "      <th>category</th>\n",
       "      <th>target</th>\n",
       "    </tr>\n",
       "  </thead>\n",
       "  <tbody>\n",
       "    <tr>\n",
       "      <th>107185</th>\n",
       "      <td>congress will hardly get seats because their p...</td>\n",
       "      <td>Negativo</td>\n",
       "      <td>0</td>\n",
       "    </tr>\n",
       "    <tr>\n",
       "      <th>110007</th>\n",
       "      <td>there will vote favour modieven pole will win ...</td>\n",
       "      <td>Positivo</td>\n",
       "      <td>1</td>\n",
       "    </tr>\n",
       "    <tr>\n",
       "      <th>36152</th>\n",
       "      <td>you need attend college understand saying and ...</td>\n",
       "      <td>Positivo</td>\n",
       "      <td>1</td>\n",
       "    </tr>\n",
       "    <tr>\n",
       "      <th>27052</th>\n",
       "      <td>lol whoever their candidate heo she will not f...</td>\n",
       "      <td>Positivo</td>\n",
       "      <td>1</td>\n",
       "    </tr>\n",
       "    <tr>\n",
       "      <th>102399</th>\n",
       "      <td>must put its foot down and not permit release ...</td>\n",
       "      <td>Negativo</td>\n",
       "      <td>0</td>\n",
       "    </tr>\n",
       "  </tbody>\n",
       "</table>\n",
       "</div>"
      ],
      "text/plain": [
       "                                               clean_text  category  target\n",
       "107185  congress will hardly get seats because their p...  Negativo       0\n",
       "110007  there will vote favour modieven pole will win ...  Positivo       1\n",
       "36152   you need attend college understand saying and ...  Positivo       1\n",
       "27052   lol whoever their candidate heo she will not f...  Positivo       1\n",
       "102399  must put its foot down and not permit release ...  Negativo       0"
      ]
     },
     "execution_count": 7,
     "metadata": {},
     "output_type": "execute_result"
    }
   ],
   "source": [
    "df_train.head()"
   ]
  },
  {
   "cell_type": "code",
   "execution_count": 8,
   "id": "2c3e39a0-a762-44c7-a51a-9cefe1bf5c41",
   "metadata": {},
   "outputs": [
    {
     "data": {
      "text/html": [
       "<div>\n",
       "<style scoped>\n",
       "    .dataframe tbody tr th:only-of-type {\n",
       "        vertical-align: middle;\n",
       "    }\n",
       "\n",
       "    .dataframe tbody tr th {\n",
       "        vertical-align: top;\n",
       "    }\n",
       "\n",
       "    .dataframe thead th {\n",
       "        text-align: right;\n",
       "    }\n",
       "</style>\n",
       "<table border=\"1\" class=\"dataframe\">\n",
       "  <thead>\n",
       "    <tr style=\"text-align: right;\">\n",
       "      <th></th>\n",
       "      <th>clean_text</th>\n",
       "      <th>category</th>\n",
       "      <th>target</th>\n",
       "    </tr>\n",
       "  </thead>\n",
       "  <tbody>\n",
       "    <tr>\n",
       "      <th>107185</th>\n",
       "      <td>congress will hardly get seats because their p...</td>\n",
       "      <td>Negativo</td>\n",
       "      <td>0</td>\n",
       "    </tr>\n",
       "    <tr>\n",
       "      <th>110007</th>\n",
       "      <td>there will vote favour modieven pole will win ...</td>\n",
       "      <td>Positivo</td>\n",
       "      <td>1</td>\n",
       "    </tr>\n",
       "    <tr>\n",
       "      <th>36152</th>\n",
       "      <td>you need attend college understand saying and ...</td>\n",
       "      <td>Positivo</td>\n",
       "      <td>1</td>\n",
       "    </tr>\n",
       "    <tr>\n",
       "      <th>27052</th>\n",
       "      <td>lol whoever their candidate heo she will not f...</td>\n",
       "      <td>Positivo</td>\n",
       "      <td>1</td>\n",
       "    </tr>\n",
       "    <tr>\n",
       "      <th>102399</th>\n",
       "      <td>must put its foot down and not permit release ...</td>\n",
       "      <td>Negativo</td>\n",
       "      <td>0</td>\n",
       "    </tr>\n",
       "    <tr>\n",
       "      <th>...</th>\n",
       "      <td>...</td>\n",
       "      <td>...</td>\n",
       "      <td>...</td>\n",
       "    </tr>\n",
       "    <tr>\n",
       "      <th>120915</th>\n",
       "      <td>people are voting for modi not for bjp\\n</td>\n",
       "      <td>Neutro</td>\n",
       "      <td>2</td>\n",
       "    </tr>\n",
       "    <tr>\n",
       "      <th>101533</th>\n",
       "      <td>pakistan and terrorist dont want modi india yo...</td>\n",
       "      <td>Negativo</td>\n",
       "      <td>0</td>\n",
       "    </tr>\n",
       "    <tr>\n",
       "      <th>1047</th>\n",
       "      <td>please dont forget remove fakendra modis corru...</td>\n",
       "      <td>Negativo</td>\n",
       "      <td>0</td>\n",
       "    </tr>\n",
       "    <tr>\n",
       "      <th>45749</th>\n",
       "      <td>latest news india election 2019 modi says indi...</td>\n",
       "      <td>Positivo</td>\n",
       "      <td>1</td>\n",
       "    </tr>\n",
       "    <tr>\n",
       "      <th>77467</th>\n",
       "      <td>what difference will they make the most will r...</td>\n",
       "      <td>Positivo</td>\n",
       "      <td>1</td>\n",
       "    </tr>\n",
       "  </tbody>\n",
       "</table>\n",
       "<p>122226 rows × 3 columns</p>\n",
       "</div>"
      ],
      "text/plain": [
       "                                               clean_text  category  target\n",
       "107185  congress will hardly get seats because their p...  Negativo       0\n",
       "110007  there will vote favour modieven pole will win ...  Positivo       1\n",
       "36152   you need attend college understand saying and ...  Positivo       1\n",
       "27052   lol whoever their candidate heo she will not f...  Positivo       1\n",
       "102399  must put its foot down and not permit release ...  Negativo       0\n",
       "...                                                   ...       ...     ...\n",
       "120915           people are voting for modi not for bjp\\n    Neutro       2\n",
       "101533  pakistan and terrorist dont want modi india yo...  Negativo       0\n",
       "1047    please dont forget remove fakendra modis corru...  Negativo       0\n",
       "45749   latest news india election 2019 modi says indi...  Positivo       1\n",
       "77467   what difference will they make the most will r...  Positivo       1\n",
       "\n",
       "[122226 rows x 3 columns]"
      ]
     },
     "execution_count": 8,
     "metadata": {},
     "output_type": "execute_result"
    }
   ],
   "source": [
    "df_train"
   ]
  },
  {
   "cell_type": "code",
   "execution_count": 9,
   "id": "5f0552d0-022f-4a69-bc4f-d2f99c25dcef",
   "metadata": {},
   "outputs": [
    {
     "data": {
      "text/plain": [
       "<122226x2000 sparse matrix of type '<class 'numpy.float64'>'\n",
       "\twith 1763603 stored elements in Compressed Sparse Row format>"
      ]
     },
     "execution_count": 9,
     "metadata": {},
     "output_type": "execute_result"
    }
   ],
   "source": [
    "#vetorizasr datos\n",
    "vectorizer = TfidfVectorizer(max_features=2000)\n",
    "X_train = vectorizer.fit_transform(df_train['clean_text'])\n",
    "X_train"
   ]
  },
  {
   "cell_type": "code",
   "execution_count": 10,
   "id": "48e6771c-8901-49aa-ba00-57afa147ef9a",
   "metadata": {},
   "outputs": [
    {
     "data": {
      "text/plain": [
       "<40742x2000 sparse matrix of type '<class 'numpy.float64'>'\n",
       "\twith 588985 stored elements in Compressed Sparse Row format>"
      ]
     },
     "execution_count": 10,
     "metadata": {},
     "output_type": "execute_result"
    }
   ],
   "source": [
    "X_test = vectorizer.transform(df_test['clean_text'])\n",
    "X_test"
   ]
  },
  {
   "cell_type": "code",
   "execution_count": 11,
   "id": "babe7e15-18ff-4b6d-8411-09e211b87578",
   "metadata": {},
   "outputs": [],
   "source": [
    "#definir targets\n",
    "Y_train = df_train['target']\n",
    "Y_test = df_test['target']"
   ]
  },
  {
   "cell_type": "code",
   "execution_count": 12,
   "id": "57e9773e-a54a-4546-b9e7-5ba11b86ef10",
   "metadata": {},
   "outputs": [
    {
     "name": "stdout",
     "output_type": "stream",
     "text": [
      "Train acc: 0.8964050202084662\n",
      "Test acc: 0.892322419125227\n"
     ]
    }
   ],
   "source": [
    "#entranar modelo con regresion logistica\n",
    "model = LogisticRegression(max_iter=1000)\n",
    "model.fit(X_train, Y_train)\n",
    "print(\"Train acc:\", model.score(X_train, Y_train))\n",
    "print(\"Test acc:\", model.score(X_test, Y_test))"
   ]
  },
  {
   "cell_type": "code",
   "execution_count": 13,
   "id": "b6455cd2-d7ce-407b-8373-e011c4d8715c",
   "metadata": {},
   "outputs": [],
   "source": [
    "#predecir modelo\n",
    "P_train = model.predict(X_train)\n",
    "P_test = model.predict(X_test)"
   ]
  },
  {
   "cell_type": "code",
   "execution_count": 14,
   "id": "9c1bc069-86c9-43da-805d-be8dd77e527b",
   "metadata": {},
   "outputs": [
    {
     "data": {
      "text/plain": [
       "array([[0.75718104, 0.12220005, 0.12061891],\n",
       "       [0.03682699, 0.90240848, 0.06076453],\n",
       "       [0.00831822, 0.01373474, 0.97794704]])"
      ]
     },
     "execution_count": 14,
     "metadata": {},
     "output_type": "execute_result"
    }
   ],
   "source": [
    "#matriz de confucion\n",
    "cm = confusion_matrix(Y_train, P_train, normalize='true')\n",
    "cm"
   ]
  },
  {
   "cell_type": "code",
   "execution_count": 15,
   "id": "630086dc-dcbc-47cc-be5f-72b72fadec98",
   "metadata": {},
   "outputs": [],
   "source": [
    "#plot\n",
    "def plot_cm(cm):\n",
    "    classes = ['negativo', 'positivo', 'neutro']\n",
    "    df_cm = pd.DataFrame(cm, index=classes, columns=classes)\n",
    "    ax = sn.heatmap(df_cm, annot=True, fmt='g')\n",
    "    ax.set_xlabel(\"Predicted\")\n",
    "    ax.set_ylabel(\"Target\")"
   ]
  },
  {
   "cell_type": "code",
   "execution_count": 16,
   "id": "12b2be19-d821-4ed8-b892-af212b78c356",
   "metadata": {},
   "outputs": [
    {
     "data": {
      "image/png": "[encoded data removed]",
      "text/plain": [
       "<Figure size 640x480 with 2 Axes>"
      ]
     },
     "metadata": {},
     "output_type": "display_data"
    }
   ],
   "source": [
    "#impirmir matrzi de confucion\n",
    "cm_test = confusion_matrix(Y_test, P_test, normalize='true')\n",
    "plot_cm(cm_test)"
   ]
  },
  {
   "cell_type": "code",
   "execution_count": null,
   "id": "c077f720-07d0-485b-bb0b-fa89e783ca29",
   "metadata": {},
   "outputs": [],
   "source": []
  }
 ],
 "metadata": {
  "kernelspec": {
   "display_name": "Python 3 (ipykernel)",
   "language": "python",
   "name": "python3"
  },
  "language_info": {
   "codemirror_mode": {
    "name": "ipython",
    "version": 3
   },
   "file_extension": ".py",
   "mimetype": "text/x-python",
   "name": "python",
   "nbconvert_exporter": "python",
   "pygments_lexer": "ipython3",
   "version": "3.11.9"
  }
 },
 "nbformat": 4,
 "nbformat_minor": 5
}
