{
 "cells": [
  {
   "cell_type": "markdown",
   "metadata": {},
   "source": [
    "# AI Training\n",
    "## Se trabajan con 1 base de datos\n",
    "\n",
    "estas bases de datos la base de datos convertida llamada **merged_dataset.csv**, que se obtiene corriendo el codigo del archivo **Unify_dataset.ipynb**\n"
   ]
  },
  {
   "cell_type": "code",
   "execution_count": 62,
   "metadata": {},
   "outputs": [],
   "source": [
    "import numpy as np\n",
    "import pandas as pd\n",
    "import seaborn as sn\n",
    "import matplotlib.pyplot as plt\n",
    "from sklearn.feature_extraction.text import CountVectorizer , TfidfVectorizer\n",
    "from sklearn.linear_model import LogisticRegression\n",
    "from sklearn.metrics import roc_auc_score, f1_score, confusion_matrix\n",
    "from sklearn.model_selection import train_test_split\n",
    "from joblib import dump\n"
   ]
  },
  {
   "cell_type": "code",
   "execution_count": 9,
   "metadata": {},
   "outputs": [
    {
     "data": {
      "text/html": [
       "<div>\n",
       "<style scoped>\n",
       "    .dataframe tbody tr th:only-of-type {\n",
       "        vertical-align: middle;\n",
       "    }\n",
       "\n",
       "    .dataframe tbody tr th {\n",
       "        vertical-align: top;\n",
       "    }\n",
       "\n",
       "    .dataframe thead th {\n",
       "        text-align: right;\n",
       "    }\n",
       "</style>\n",
       "<table border=\"1\" class=\"dataframe\">\n",
       "  <thead>\n",
       "    <tr style=\"text-align: right;\">\n",
       "      <th></th>\n",
       "      <th>text</th>\n",
       "      <th>label</th>\n",
       "    </tr>\n",
       "  </thead>\n",
       "  <tbody>\n",
       "    <tr>\n",
       "      <th>0</th>\n",
       "      <td>i just feel really helpless and heavy hearted</td>\n",
       "      <td>4.0</td>\n",
       "    </tr>\n",
       "    <tr>\n",
       "      <th>1</th>\n",
       "      <td>ive enjoyed being able to slouch about relax a...</td>\n",
       "      <td>0.0</td>\n",
       "    </tr>\n",
       "    <tr>\n",
       "      <th>2</th>\n",
       "      <td>i gave up my internship with the dmrg and am f...</td>\n",
       "      <td>4.0</td>\n",
       "    </tr>\n",
       "    <tr>\n",
       "      <th>3</th>\n",
       "      <td>i dont know i feel so lost</td>\n",
       "      <td>0.0</td>\n",
       "    </tr>\n",
       "    <tr>\n",
       "      <th>4</th>\n",
       "      <td>i am a kindergarten teacher and i am thoroughl...</td>\n",
       "      <td>4.0</td>\n",
       "    </tr>\n",
       "    <tr>\n",
       "      <th>...</th>\n",
       "      <td>...</td>\n",
       "      <td>...</td>\n",
       "    </tr>\n",
       "    <tr>\n",
       "      <th>1034185</th>\n",
       "      <td>his fighting skills were legendary, making him...</td>\n",
       "      <td>115.0</td>\n",
       "    </tr>\n",
       "    <tr>\n",
       "      <th>1034186</th>\n",
       "      <td>the news of his tragic death left the communit...</td>\n",
       "      <td>160.0</td>\n",
       "    </tr>\n",
       "    <tr>\n",
       "      <th>1034187</th>\n",
       "      <td>their marriage was a celebration of love and u...</td>\n",
       "      <td>90.0</td>\n",
       "    </tr>\n",
       "    <tr>\n",
       "      <th>1034188</th>\n",
       "      <td>he embarked on a thrilling travel adventure, e...</td>\n",
       "      <td>327.0</td>\n",
       "    </tr>\n",
       "    <tr>\n",
       "      <th>1034189</th>\n",
       "      <td>the fighters faced off in an intense battle, t...</td>\n",
       "      <td>296.0</td>\n",
       "    </tr>\n",
       "  </tbody>\n",
       "</table>\n",
       "<p>1034190 rows × 2 columns</p>\n",
       "</div>"
      ],
      "text/plain": [
       "                                                      text  label\n",
       "0            i just feel really helpless and heavy hearted    4.0\n",
       "1        ive enjoyed being able to slouch about relax a...    0.0\n",
       "2        i gave up my internship with the dmrg and am f...    4.0\n",
       "3                               i dont know i feel so lost    0.0\n",
       "4        i am a kindergarten teacher and i am thoroughl...    4.0\n",
       "...                                                    ...    ...\n",
       "1034185  his fighting skills were legendary, making him...  115.0\n",
       "1034186  the news of his tragic death left the communit...  160.0\n",
       "1034187  their marriage was a celebration of love and u...   90.0\n",
       "1034188  he embarked on a thrilling travel adventure, e...  327.0\n",
       "1034189  the fighters faced off in an intense battle, t...  296.0\n",
       "\n",
       "[1034190 rows x 2 columns]"
      ]
     },
     "execution_count": 9,
     "metadata": {},
     "output_type": "execute_result"
    }
   ],
   "source": [
    "df=pd.read_csv('ModelosCSV/merged_dataset.csv')\n",
    "df"
   ]
  },
  {
   "cell_type": "code",
   "execution_count": 20,
   "metadata": {},
   "outputs": [
    {
     "data": {
      "text/plain": [
       "text     0\n",
       "label    0\n",
       "dtype: int64"
      ]
     },
     "execution_count": 20,
     "metadata": {},
     "output_type": "execute_result"
    }
   ],
   "source": [
    "df = df.dropna()\n",
    "df.isnull().sum()"
   ]
  },
  {
   "cell_type": "code",
   "execution_count": 30,
   "metadata": {},
   "outputs": [],
   "source": [
    "df_train, df_test = train_test_split(df , test_size=0.2 , random_state=50)"
   ]
  },
  {
   "cell_type": "code",
   "execution_count": 32,
   "metadata": {},
   "outputs": [
    {
     "data": {
      "text/html": [
       "<div>\n",
       "<style scoped>\n",
       "    .dataframe tbody tr th:only-of-type {\n",
       "        vertical-align: middle;\n",
       "    }\n",
       "\n",
       "    .dataframe tbody tr th {\n",
       "        vertical-align: top;\n",
       "    }\n",
       "\n",
       "    .dataframe thead th {\n",
       "        text-align: right;\n",
       "    }\n",
       "</style>\n",
       "<table border=\"1\" class=\"dataframe\">\n",
       "  <thead>\n",
       "    <tr style=\"text-align: right;\">\n",
       "      <th></th>\n",
       "      <th>text</th>\n",
       "      <th>label</th>\n",
       "    </tr>\n",
       "  </thead>\n",
       "  <tbody>\n",
       "    <tr>\n",
       "      <th>553501</th>\n",
       "      <td>i feel im doing something genuinely worthwhile</td>\n",
       "      <td>1.0</td>\n",
       "    </tr>\n",
       "    <tr>\n",
       "      <th>178950</th>\n",
       "      <td>i feel disappointed amp so sorry to my bb</td>\n",
       "      <td>0.0</td>\n",
       "    </tr>\n",
       "    <tr>\n",
       "      <th>521283</th>\n",
       "      <td>Yes . To develop my knowledge , I studied Econ...</td>\n",
       "      <td>7.0</td>\n",
       "    </tr>\n",
       "    <tr>\n",
       "      <th>714291</th>\n",
       "      <td>i feel more energetic tomorrow</td>\n",
       "      <td>1.0</td>\n",
       "    </tr>\n",
       "    <tr>\n",
       "      <th>305845</th>\n",
       "      <td>i was standing in the theatre feeling decidedl...</td>\n",
       "      <td>0.0</td>\n",
       "    </tr>\n",
       "    <tr>\n",
       "      <th>...</th>\n",
       "      <td>...</td>\n",
       "      <td>...</td>\n",
       "    </tr>\n",
       "    <tr>\n",
       "      <th>441633</th>\n",
       "      <td>Fine , thanks .</td>\n",
       "      <td>7.0</td>\n",
       "    </tr>\n",
       "    <tr>\n",
       "      <th>677997</th>\n",
       "      <td>i get this really disturbing feeling that make...</td>\n",
       "      <td>0.0</td>\n",
       "    </tr>\n",
       "    <tr>\n",
       "      <th>239499</th>\n",
       "      <td>i know i probably shouldnt write with that sor...</td>\n",
       "      <td>4.0</td>\n",
       "    </tr>\n",
       "    <tr>\n",
       "      <th>103904</th>\n",
       "      <td>i have been feeling a little insecure to share...</td>\n",
       "      <td>4.0</td>\n",
       "    </tr>\n",
       "    <tr>\n",
       "      <th>931504</th>\n",
       "      <td>i am feeling rejuvenated and delighted to see ...</td>\n",
       "      <td>1.0</td>\n",
       "    </tr>\n",
       "  </tbody>\n",
       "</table>\n",
       "<p>827339 rows × 2 columns</p>\n",
       "</div>"
      ],
      "text/plain": [
       "                                                     text  label\n",
       "553501     i feel im doing something genuinely worthwhile    1.0\n",
       "178950          i feel disappointed amp so sorry to my bb    0.0\n",
       "521283  Yes . To develop my knowledge , I studied Econ...    7.0\n",
       "714291                     i feel more energetic tomorrow    1.0\n",
       "305845  i was standing in the theatre feeling decidedl...    0.0\n",
       "...                                                   ...    ...\n",
       "441633                                    Fine , thanks .    7.0\n",
       "677997  i get this really disturbing feeling that make...    0.0\n",
       "239499  i know i probably shouldnt write with that sor...    4.0\n",
       "103904  i have been feeling a little insecure to share...    4.0\n",
       "931504  i am feeling rejuvenated and delighted to see ...    1.0\n",
       "\n",
       "[827339 rows x 2 columns]"
      ]
     },
     "execution_count": 32,
     "metadata": {},
     "output_type": "execute_result"
    }
   ],
   "source": [
    "df_train"
   ]
  },
  {
   "cell_type": "code",
   "execution_count": 33,
   "metadata": {},
   "outputs": [
    {
     "data": {
      "text/plain": [
       "<827339x2000 sparse matrix of type '<class 'numpy.float64'>'\n",
       "\twith 10637065 stored elements in Compressed Sparse Row format>"
      ]
     },
     "execution_count": 33,
     "metadata": {},
     "output_type": "execute_result"
    }
   ],
   "source": [
    "vectorizer = TfidfVectorizer(max_features=2000)\n",
    "X_train = vectorizer.fit_transform(df_train['text'])\n",
    "X_train"
   ]
  },
  {
   "cell_type": "code",
   "execution_count": 34,
   "metadata": {},
   "outputs": [
    {
     "data": {
      "text/plain": [
       "<206835x2000 sparse matrix of type '<class 'numpy.float64'>'\n",
       "\twith 2662227 stored elements in Compressed Sparse Row format>"
      ]
     },
     "execution_count": 34,
     "metadata": {},
     "output_type": "execute_result"
    }
   ],
   "source": [
    "X_test = vectorizer.transform(df_test['text'])\n",
    "X_test"
   ]
  },
  {
   "cell_type": "code",
   "execution_count": 35,
   "metadata": {},
   "outputs": [
    {
     "data": {
      "text/plain": [
       "<827339x2000 sparse matrix of type '<class 'numpy.float64'>'\n",
       "\twith 10637065 stored elements in Compressed Sparse Row format>"
      ]
     },
     "execution_count": 35,
     "metadata": {},
     "output_type": "execute_result"
    }
   ],
   "source": [
    "Y_train = df_train['label']\n",
    "Y_test = df_test['label']\n",
    "\n",
    "X_train\n"
   ]
  },
  {
   "cell_type": "code",
   "execution_count": 53,
   "metadata": {},
   "outputs": [
    {
     "name": "stdout",
     "output_type": "stream",
     "text": [
      "Train acc: 0.8741289846121119\n",
      "Test acc: 0.8701815456765054\n"
     ]
    }
   ],
   "source": [
    "model = LogisticRegression(max_iter=1000)\n",
    "model.fit(X_train, Y_train)\n",
    "print(\"Train acc:\", model.score(X_train, Y_train))\n",
    "print(\"Test acc:\", model.score(X_test, Y_test))"
   ]
  },
  {
   "cell_type": "code",
   "execution_count": 54,
   "metadata": {},
   "outputs": [
    {
     "data": {
      "text/plain": [
       "array([1., 0., 7., ..., 0., 4., 1.])"
      ]
     },
     "execution_count": 54,
     "metadata": {},
     "output_type": "execute_result"
    }
   ],
   "source": [
    "P_train = model.predict(X_train)\n",
    "P_test = model.predict(X_test)\n",
    "P_train"
   ]
  },
  {
   "cell_type": "code",
   "execution_count": 55,
   "metadata": {},
   "outputs": [
    {
     "data": {
      "text/plain": [
       "array([[0.9227546 , 0.02060181, 0.00324386, ..., 0.        , 0.        ,\n",
       "        0.        ],\n",
       "       [0.01220955, 0.89778404, 0.03373648, ..., 0.        , 0.        ,\n",
       "        0.        ],\n",
       "       [0.01240887, 0.18249625, 0.76589834, ..., 0.        , 0.        ,\n",
       "        0.        ],\n",
       "       ...,\n",
       "       [0.        , 0.        , 1.        , ..., 0.        , 0.        ,\n",
       "        0.        ],\n",
       "       [0.        , 0.        , 0.        , ..., 0.        , 0.        ,\n",
       "        0.        ],\n",
       "       [0.        , 1.        , 0.        , ..., 0.        , 0.        ,\n",
       "        0.        ]])"
      ]
     },
     "execution_count": 55,
     "metadata": {},
     "output_type": "execute_result"
    }
   ],
   "source": [
    "cm = confusion_matrix(Y_train, P_train, normalize='true')\n",
    "cm"
   ]
  },
  {
   "cell_type": "code",
   "execution_count": 56,
   "metadata": {},
   "outputs": [
    {
     "data": {
      "text/plain": [
       "(array([ 1.,  0.,  0.,  0.,  0.,  0.,  0.,  0.,  0.,  0.,  0.,  0.,  0.,\n",
       "         0.,  0.,  0.,  0.,  0.,  1.,  0.,  1.,  1.,  0.,  1.,  1.,  0.,\n",
       "         1.,  0.,  0.,  0.,  0.,  1.,  0.,  0.,  1.,  2.,  0.,  1.,  2.,\n",
       "         2.,  0.,  3.,  2.,  0.,  2.,  2.,  3.,  3.,  1.,  1.,  3.,  2.,\n",
       "         0.,  2.,  7.,  3.,  1.,  3.,  4.,  4.,  5.,  2.,  4.,  5.,  5.,\n",
       "         4.,  8.,  8.,  5., 11.,  9.,  5.,  5.,  6.,  5.,  9.,  9.,  9.,\n",
       "         2.,  2.,  3.,  6.,  3.,  7.,  6.,  3.,  2.,  2.,  3.,  6.,  3.,\n",
       "         0.,  1.,  3.,  1.,  3.,  3.,  1.,  3.,  5.,  1.,  2.,  3.,  2.,\n",
       "         4.,  2.,  5., 10., 10., 16., 13., 16., 14., 19., 26., 37., 35.,\n",
       "        43., 49., 45., 60., 66., 87., 70., 81., 97., 75., 77., 77., 90.,\n",
       "        68., 70., 58., 50., 50., 26., 24., 25., 18., 27.,  8.,  8., 14.,\n",
       "         9.,  7.,  5.,  6., 11.,  3.,  3.,  0.,  0.,  4.,  1.,  1.,  2.,\n",
       "         4.,  1.,  0.,  1.,  2.,  1.,  0.,  0.,  2.,  0.,  0.,  0.,  0.,\n",
       "         1.,  1.,  0.,  0.,  1.,  0.,  0.,  0.,  0.,  0.,  0.,  0.,  0.,\n",
       "         0.,  1.,  0.,  1.,  0.,  0.,  0.,  0.,  0.,  0.,  0.,  0.,  0.,\n",
       "         0.,  0.,  0.,  0.,  1.,  0.,  0.,  0.,  0.,  0.,  0.,  0.,  0.,\n",
       "         0.,  0.,  0.,  0.,  0.,  0.,  0.,  0.,  0.,  0.,  1.,  0.,  0.,\n",
       "         0.,  2.,  0.,  0.,  0.,  0.,  0.,  0.,  0.,  2.,  0.,  0.,  0.,\n",
       "         0.,  0.,  0.,  0.,  0.,  0.,  1.,  0.,  1.,  0.,  0.,  3.,  1.,\n",
       "         0.,  1.,  0.,  0.,  0.,  0.,  1.,  1.,  0.,  0.,  1.,  1.,  2.,\n",
       "         2.,  0.,  1.,  1.,  0.,  0.,  1.,  1.,  0.,  0.,  1.,  1.,  1.,\n",
       "         0.,  2.,  3.,  2.,  2.,  1.,  1.,  0.,  0.,  2.,  0.,  1.,  1.,\n",
       "         1.,  3.,  3.,  1.,  3.,  0.,  1.,  1.,  2.,  0.,  0.,  0.,  0.,\n",
       "         0.,  0.,  1.,  1.,  0.,  2.,  0.,  2.,  2.,  3.,  1.,  2.,  1.,\n",
       "         1.,  2.,  0.,  0.,  1.,  0.,  2.,  0.,  2.,  2.,  1.,  1.,  2.,\n",
       "         2.,  1.,  1.,  1.,  0.,  2.,  0.,  2.,  1.,  1.,  2.,  1.,  1.,\n",
       "         1.,  1.,  1.,  1.,  0.,  1.,  0.,  0.,  0.,  0.,  0.,  0.,  0.,\n",
       "         0.,  0.,  0.,  0.,  0.,  0.,  0.,  0.,  1.,  1.,  0.,  0.,  0.,\n",
       "         0.,  0.,  0.,  0.,  0.,  0.,  0.,  0.,  0.,  0.,  0.,  0.,  0.,\n",
       "         0.,  0.,  0.,  0.,  0.,  0.,  0.,  0.,  0.,  0.,  0.,  0.,  0.,\n",
       "         0.,  0.,  0.,  0.,  0.,  0.,  0.,  0.,  0.,  1.]),\n",
       " array([-7.04279451, -6.98484124, -6.92688796, -6.86893469, -6.81098141,\n",
       "        -6.75302814, -6.69507487, -6.63712159, -6.57916832, -6.52121504,\n",
       "        -6.46326177, -6.40530849, -6.34735522, -6.28940194, -6.23144867,\n",
       "        -6.1734954 , -6.11554212, -6.05758885, -5.99963557, -5.9416823 ,\n",
       "        -5.88372902, -5.82577575, -5.76782247, -5.7098692 , -5.65191593,\n",
       "        -5.59396265, -5.53600938, -5.4780561 , -5.42010283, -5.36214955,\n",
       "        -5.30419628, -5.246243  , -5.18828973, -5.13033646, -5.07238318,\n",
       "        -5.01442991, -4.95647663, -4.89852336, -4.84057008, -4.78261681,\n",
       "        -4.72466353, -4.66671026, -4.60875699, -4.55080371, -4.49285044,\n",
       "        -4.43489716, -4.37694389, -4.31899061, -4.26103734, -4.20308406,\n",
       "        -4.14513079, -4.08717752, -4.02922424, -3.97127097, -3.91331769,\n",
       "        -3.85536442, -3.79741114, -3.73945787, -3.68150459, -3.62355132,\n",
       "        -3.56559805, -3.50764477, -3.4496915 , -3.39173822, -3.33378495,\n",
       "        -3.27583167, -3.2178784 , -3.15992512, -3.10197185, -3.04401858,\n",
       "        -2.9860653 , -2.92811203, -2.87015875, -2.81220548, -2.7542522 ,\n",
       "        -2.69629893, -2.63834565, -2.58039238, -2.5224391 , -2.46448583,\n",
       "        -2.40653256, -2.34857928, -2.29062601, -2.23267273, -2.17471946,\n",
       "        -2.11676618, -2.05881291, -2.00085963, -1.94290636, -1.88495309,\n",
       "        -1.82699981, -1.76904654, -1.71109326, -1.65313999, -1.59518671,\n",
       "        -1.53723344, -1.47928016, -1.42132689, -1.36337362, -1.30542034,\n",
       "        -1.24746707, -1.18951379, -1.13156052, -1.07360724, -1.01565397,\n",
       "        -0.95770069, -0.89974742, -0.84179415, -0.78384087, -0.7258876 ,\n",
       "        -0.66793432, -0.60998105, -0.55202777, -0.4940745 , -0.43612122,\n",
       "        -0.37816795, -0.32021468, -0.2622614 , -0.20430813, -0.14635485,\n",
       "        -0.08840158, -0.0304483 ,  0.02750497,  0.08545825,  0.14341152,\n",
       "         0.20136479,  0.25931807,  0.31727134,  0.37522462,  0.43317789,\n",
       "         0.49113117,  0.54908444,  0.60703772,  0.66499099,  0.72294426,\n",
       "         0.78089754,  0.83885081,  0.89680409,  0.95475736,  1.01271064,\n",
       "         1.07066391,  1.12861719,  1.18657046,  1.24452374,  1.30247701,\n",
       "         1.36043028,  1.41838356,  1.47633683,  1.53429011,  1.59224338,\n",
       "         1.65019666,  1.70814993,  1.76610321,  1.82405648,  1.88200975,\n",
       "         1.93996303,  1.9979163 ,  2.05586958,  2.11382285,  2.17177613,\n",
       "         2.2297294 ,  2.28768268,  2.34563595,  2.40358922,  2.4615425 ,\n",
       "         2.51949577,  2.57744905,  2.63540232,  2.6933556 ,  2.75130887,\n",
       "         2.80926215,  2.86721542,  2.92516869,  2.98312197,  3.04107524,\n",
       "         3.09902852,  3.15698179,  3.21493507,  3.27288834,  3.33084162,\n",
       "         3.38879489,  3.44674816,  3.50470144,  3.56265471,  3.62060799,\n",
       "         3.67856126,  3.73651454,  3.79446781,  3.85242109,  3.91037436,\n",
       "         3.96832763,  4.02628091,  4.08423418,  4.14218746,  4.20014073,\n",
       "         4.25809401,  4.31604728,  4.37400056,  4.43195383,  4.4899071 ,\n",
       "         4.54786038,  4.60581365,  4.66376693,  4.7217202 ,  4.77967348,\n",
       "         4.83762675,  4.89558003,  4.9535333 ,  5.01148657,  5.06943985,\n",
       "         5.12739312,  5.1853464 ,  5.24329967,  5.30125295,  5.35920622,\n",
       "         5.4171595 ,  5.47511277,  5.53306605,  5.59101932,  5.64897259,\n",
       "         5.70692587,  5.76487914,  5.82283242,  5.88078569,  5.93873897,\n",
       "         5.99669224,  6.05464552,  6.11259879,  6.17055206,  6.22850534,\n",
       "         6.28645861,  6.34441189,  6.40236516,  6.46031844,  6.51827171,\n",
       "         6.57622499,  6.63417826,  6.69213153,  6.75008481,  6.80803808,\n",
       "         6.86599136,  6.92394463,  6.98189791,  7.03985118,  7.09780446,\n",
       "         7.15575773,  7.213711  ,  7.27166428,  7.32961755,  7.38757083,\n",
       "         7.4455241 ,  7.50347738,  7.56143065,  7.61938393,  7.6773372 ,\n",
       "         7.73529047,  7.79324375,  7.85119702,  7.9091503 ,  7.96710357,\n",
       "         8.02505685,  8.08301012,  8.1409634 ,  8.19891667,  8.25686994,\n",
       "         8.31482322,  8.37277649,  8.43072977,  8.48868304,  8.54663632,\n",
       "         8.60458959,  8.66254287,  8.72049614,  8.77844941,  8.83640269,\n",
       "         8.89435596,  8.95230924,  9.01026251,  9.06821579,  9.12616906,\n",
       "         9.18412234,  9.24207561,  9.30002889,  9.35798216,  9.41593543,\n",
       "         9.47388871,  9.53184198,  9.58979526,  9.64774853,  9.70570181,\n",
       "         9.76365508,  9.82160836,  9.87956163,  9.9375149 ,  9.99546818,\n",
       "        10.05342145, 10.11137473, 10.169328  , 10.22728128, 10.28523455,\n",
       "        10.34318783, 10.4011411 , 10.45909437, 10.51704765, 10.57500092,\n",
       "        10.6329542 , 10.69090747, 10.74886075, 10.80681402, 10.8647673 ,\n",
       "        10.92272057, 10.98067384, 11.03862712, 11.09658039, 11.15453367,\n",
       "        11.21248694, 11.27044022, 11.32839349, 11.38634677, 11.44430004,\n",
       "        11.50225331, 11.56020659, 11.61815986, 11.67611314, 11.73406641,\n",
       "        11.79201969, 11.84997296, 11.90792624, 11.96587951, 12.02383278,\n",
       "        12.08178606, 12.13973933, 12.19769261, 12.25564588, 12.31359916,\n",
       "        12.37155243, 12.42950571, 12.48745898, 12.54541225, 12.60336553,\n",
       "        12.6613188 , 12.71927208, 12.77722535, 12.83517863, 12.8931319 ,\n",
       "        12.95108518, 13.00903845, 13.06699173, 13.124945  , 13.18289827,\n",
       "        13.24085155, 13.29880482, 13.3567581 , 13.41471137, 13.47266465,\n",
       "        13.53061792, 13.5885712 , 13.64652447, 13.70447774, 13.76243102,\n",
       "        13.82038429, 13.87833757, 13.93629084, 13.99424412, 14.05219739,\n",
       "        14.11015067, 14.16810394, 14.22605721, 14.28401049, 14.34196376,\n",
       "        14.39991704, 14.45787031, 14.51582359, 14.57377686, 14.63173014,\n",
       "        14.68968341, 14.74763668, 14.80558996, 14.86354323, 14.92149651,\n",
       "        14.97944978, 15.03740306, 15.09535633, 15.15330961, 15.21126288,\n",
       "        15.26921615, 15.32716943, 15.3851227 , 15.44307598, 15.50102925,\n",
       "        15.55898253, 15.6169358 , 15.67488908, 15.73284235, 15.79079562,\n",
       "        15.8487489 , 15.90670217, 15.96465545, 16.02260872, 16.080562  ,\n",
       "        16.13851527]),\n",
       " <BarContainer object of 400 artists>)"
      ]
     },
     "execution_count": 56,
     "metadata": {},
     "output_type": "execute_result"
    },
    {
     "data": {
      "image/png": "[encoded data removed]",
      "text/plain": [
       "<Figure size 640x480 with 1 Axes>"
      ]
     },
     "metadata": {},
     "output_type": "display_data"
    }
   ],
   "source": [
    "plt.hist(model.coef_[0], bins=400)"
   ]
  },
  {
   "cell_type": "code",
   "execution_count": 64,
   "metadata": {},
   "outputs": [
    {
     "name": "stdout",
     "output_type": "stream",
     "text": [
      "Sentimiento predicho para la oración: [7.]\n"
     ]
    },
    {
     "data": {
      "text/plain": [
       "['ModelosCSV/modelo_AI.pkl']"
      ]
     },
     "execution_count": 64,
     "metadata": {},
     "output_type": "execute_result"
    }
   ],
   "source": [
    "mi_oracion = \" his fighting skills were legendary, making\"\n",
    "mi_oracion_vectorizada = vectorizer.transform([mi_oracion])\n",
    "sentimiento_predicho = model.predict(mi_oracion_vectorizada)\n",
    "print(\"Sentimiento predicho para la oración:\", sentimiento_predicho)\n",
    "dump(model, 'ModelosCSV/modelo_AI.pkl')"
   ]
  }
 ],
 "metadata": {
  "kernelspec": {
   "display_name": "base",
   "language": "python",
   "name": "python3"
  },
  "language_info": {
   "codemirror_mode": {
    "name": "ipython",
    "version": 3
   },
   "file_extension": ".py",
   "mimetype": "text/x-python",
   "name": "python",
   "nbconvert_exporter": "python",
   "pygments_lexer": "ipython3",
   "version": "3.11.7"
  }
 },
 "nbformat": 4,
 "nbformat_minor": 2
}
