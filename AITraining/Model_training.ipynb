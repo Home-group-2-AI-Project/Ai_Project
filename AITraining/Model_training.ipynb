{
 "cells": [
  {
   "cell_type": "markdown",
   "metadata": {},
   "source": [
    "# AI Training\n",
    "## Se trabajan con 1 base de datos\n",
    "\n",
    "estas bases de datos la base de datos convertida llamada **merged_dataset.csv**, que se obtiene corriendo el codigo del archivo **Unify_dataset.ipynb**\n",
    "\n",
    "los sentimientos usados son\n",
    "| sadness | joy/happ | love | anger | fear | surprise | neutral |\n",
    "|---------|-----|------|-------|-----|------|-------|\n",
    "| 0      | 1  | 2   | 3   |  4  | 5    | 6     | \n"
   ]
  },
  {
   "cell_type": "code",
   "execution_count": 51,
   "metadata": {},
   "outputs": [],
   "source": [
    "import numpy as np\n",
    "import pandas as pd\n",
    "import seaborn as sn\n",
    "import matplotlib.pyplot as plt\n",
    "from sklearn.feature_extraction.text import CountVectorizer , TfidfVectorizer\n",
    "from sklearn.linear_model import LogisticRegression\n",
    "from sklearn.metrics import roc_auc_score, f1_score, confusion_matrix\n",
    "from sklearn.model_selection import train_test_split\n",
    "from joblib import dump\n"
   ]
  },
  {
   "cell_type": "code",
   "execution_count": 52,
   "metadata": {},
   "outputs": [
    {
     "data": {
      "text/html": [
       "<div>\n",
       "<style scoped>\n",
       "    .dataframe tbody tr th:only-of-type {\n",
       "        vertical-align: middle;\n",
       "    }\n",
       "\n",
       "    .dataframe tbody tr th {\n",
       "        vertical-align: top;\n",
       "    }\n",
       "\n",
       "    .dataframe thead th {\n",
       "        text-align: right;\n",
       "    }\n",
       "</style>\n",
       "<table border=\"1\" class=\"dataframe\">\n",
       "  <thead>\n",
       "    <tr style=\"text-align: right;\">\n",
       "      <th></th>\n",
       "      <th>text</th>\n",
       "      <th>label</th>\n",
       "    </tr>\n",
       "  </thead>\n",
       "  <tbody>\n",
       "    <tr>\n",
       "      <th>0</th>\n",
       "      <td>i just feel really helpless and heavy hearted</td>\n",
       "      <td>4.0</td>\n",
       "    </tr>\n",
       "    <tr>\n",
       "      <th>1</th>\n",
       "      <td>ive enjoyed being able to slouch about relax a...</td>\n",
       "      <td>0.0</td>\n",
       "    </tr>\n",
       "    <tr>\n",
       "      <th>2</th>\n",
       "      <td>i gave up my internship with the dmrg and am f...</td>\n",
       "      <td>4.0</td>\n",
       "    </tr>\n",
       "    <tr>\n",
       "      <th>3</th>\n",
       "      <td>i dont know i feel so lost</td>\n",
       "      <td>0.0</td>\n",
       "    </tr>\n",
       "    <tr>\n",
       "      <th>4</th>\n",
       "      <td>i am a kindergarten teacher and i am thoroughl...</td>\n",
       "      <td>4.0</td>\n",
       "    </tr>\n",
       "    <tr>\n",
       "      <th>...</th>\n",
       "      <td>...</td>\n",
       "      <td>...</td>\n",
       "    </tr>\n",
       "    <tr>\n",
       "      <th>1034185</th>\n",
       "      <td>his fighting skills were legendary, making him...</td>\n",
       "      <td>NaN</td>\n",
       "    </tr>\n",
       "    <tr>\n",
       "      <th>1034186</th>\n",
       "      <td>the news of his tragic death left the communit...</td>\n",
       "      <td>NaN</td>\n",
       "    </tr>\n",
       "    <tr>\n",
       "      <th>1034187</th>\n",
       "      <td>their marriage was a celebration of love and u...</td>\n",
       "      <td>NaN</td>\n",
       "    </tr>\n",
       "    <tr>\n",
       "      <th>1034188</th>\n",
       "      <td>he embarked on a thrilling travel adventure, e...</td>\n",
       "      <td>NaN</td>\n",
       "    </tr>\n",
       "    <tr>\n",
       "      <th>1034189</th>\n",
       "      <td>the fighters faced off in an intense battle, t...</td>\n",
       "      <td>NaN</td>\n",
       "    </tr>\n",
       "  </tbody>\n",
       "</table>\n",
       "<p>1034190 rows × 2 columns</p>\n",
       "</div>"
      ],
      "text/plain": [
       "                                                      text  label\n",
       "0            i just feel really helpless and heavy hearted    4.0\n",
       "1        ive enjoyed being able to slouch about relax a...    0.0\n",
       "2        i gave up my internship with the dmrg and am f...    4.0\n",
       "3                               i dont know i feel so lost    0.0\n",
       "4        i am a kindergarten teacher and i am thoroughl...    4.0\n",
       "...                                                    ...    ...\n",
       "1034185  his fighting skills were legendary, making him...    NaN\n",
       "1034186  the news of his tragic death left the communit...    NaN\n",
       "1034187  their marriage was a celebration of love and u...    NaN\n",
       "1034188  he embarked on a thrilling travel adventure, e...    NaN\n",
       "1034189  the fighters faced off in an intense battle, t...    NaN\n",
       "\n",
       "[1034190 rows x 2 columns]"
      ]
     },
     "execution_count": 52,
     "metadata": {},
     "output_type": "execute_result"
    }
   ],
   "source": [
    "df=pd.read_csv('ModelosCSV/merged_dataset_seven_sentiments.csv')\n",
    "df"
   ]
  },
  {
   "cell_type": "code",
   "execution_count": 53,
   "metadata": {},
   "outputs": [
    {
     "data": {
      "text/plain": [
       "text     0\n",
       "label    0\n",
       "dtype: int64"
      ]
     },
     "execution_count": 53,
     "metadata": {},
     "output_type": "execute_result"
    }
   ],
   "source": [
    "df = df.dropna()\n",
    "df.isnull().sum()"
   ]
  },
  {
   "cell_type": "code",
   "execution_count": 54,
   "metadata": {},
   "outputs": [],
   "source": [
    "df_train, df_test = train_test_split(df , test_size=0.2 , random_state=50)"
   ]
  },
  {
   "cell_type": "code",
   "execution_count": 55,
   "metadata": {},
   "outputs": [
    {
     "data": {
      "text/html": [
       "<div>\n",
       "<style scoped>\n",
       "    .dataframe tbody tr th:only-of-type {\n",
       "        vertical-align: middle;\n",
       "    }\n",
       "\n",
       "    .dataframe tbody tr th {\n",
       "        vertical-align: top;\n",
       "    }\n",
       "\n",
       "    .dataframe thead th {\n",
       "        text-align: right;\n",
       "    }\n",
       "</style>\n",
       "<table border=\"1\" class=\"dataframe\">\n",
       "  <thead>\n",
       "    <tr style=\"text-align: right;\">\n",
       "      <th></th>\n",
       "      <th>text</th>\n",
       "      <th>label</th>\n",
       "    </tr>\n",
       "  </thead>\n",
       "  <tbody>\n",
       "    <tr>\n",
       "      <th>1027993</th>\n",
       "      <td>Tech hobbyist scifi fan (me): That fridge is g...</td>\n",
       "      <td>3.0</td>\n",
       "    </tr>\n",
       "    <tr>\n",
       "      <th>329637</th>\n",
       "      <td>i just feel ashamed about everything that i am</td>\n",
       "      <td>0.0</td>\n",
       "    </tr>\n",
       "    <tr>\n",
       "      <th>231494</th>\n",
       "      <td>i didn t feel anything though which was also s...</td>\n",
       "      <td>4.0</td>\n",
       "    </tr>\n",
       "    <tr>\n",
       "      <th>86900</th>\n",
       "      <td>i am happy but at the same time feeling sentim...</td>\n",
       "      <td>0.0</td>\n",
       "    </tr>\n",
       "    <tr>\n",
       "      <th>486699</th>\n",
       "      <td>Maybe they were just attracted to each other b...</td>\n",
       "      <td>7.0</td>\n",
       "    </tr>\n",
       "    <tr>\n",
       "      <th>...</th>\n",
       "      <td>...</td>\n",
       "      <td>...</td>\n",
       "    </tr>\n",
       "    <tr>\n",
       "      <th>441633</th>\n",
       "      <td>Fine , thanks .</td>\n",
       "      <td>7.0</td>\n",
       "    </tr>\n",
       "    <tr>\n",
       "      <th>677997</th>\n",
       "      <td>i get this really disturbing feeling that make...</td>\n",
       "      <td>0.0</td>\n",
       "    </tr>\n",
       "    <tr>\n",
       "      <th>239499</th>\n",
       "      <td>i know i probably shouldnt write with that sor...</td>\n",
       "      <td>4.0</td>\n",
       "    </tr>\n",
       "    <tr>\n",
       "      <th>103904</th>\n",
       "      <td>i have been feeling a little insecure to share...</td>\n",
       "      <td>4.0</td>\n",
       "    </tr>\n",
       "    <tr>\n",
       "      <th>931504</th>\n",
       "      <td>i am feeling rejuvenated and delighted to see ...</td>\n",
       "      <td>1.0</td>\n",
       "    </tr>\n",
       "  </tbody>\n",
       "</table>\n",
       "<p>826954 rows × 2 columns</p>\n",
       "</div>"
      ],
      "text/plain": [
       "                                                      text  label\n",
       "1027993  Tech hobbyist scifi fan (me): That fridge is g...    3.0\n",
       "329637      i just feel ashamed about everything that i am    0.0\n",
       "231494   i didn t feel anything though which was also s...    4.0\n",
       "86900    i am happy but at the same time feeling sentim...    0.0\n",
       "486699   Maybe they were just attracted to each other b...    7.0\n",
       "...                                                    ...    ...\n",
       "441633                                     Fine , thanks .    7.0\n",
       "677997   i get this really disturbing feeling that make...    0.0\n",
       "239499   i know i probably shouldnt write with that sor...    4.0\n",
       "103904   i have been feeling a little insecure to share...    4.0\n",
       "931504   i am feeling rejuvenated and delighted to see ...    1.0\n",
       "\n",
       "[826954 rows x 2 columns]"
      ]
     },
     "execution_count": 55,
     "metadata": {},
     "output_type": "execute_result"
    }
   ],
   "source": [
    "df_train"
   ]
  },
  {
   "cell_type": "code",
   "execution_count": 56,
   "metadata": {},
   "outputs": [
    {
     "data": {
      "text/plain": [
       "<826954x2000 sparse matrix of type '<class 'numpy.float64'>'\n",
       "\twith 10637162 stored elements in Compressed Sparse Row format>"
      ]
     },
     "execution_count": 56,
     "metadata": {},
     "output_type": "execute_result"
    }
   ],
   "source": [
    "vectorizer = TfidfVectorizer(max_features=2000)\n",
    "X_train = vectorizer.fit_transform(df_train['text'])\n",
    "X_train"
   ]
  },
  {
   "cell_type": "code",
   "execution_count": 57,
   "metadata": {},
   "outputs": [
    {
     "data": {
      "text/plain": [
       "<206739x2000 sparse matrix of type '<class 'numpy.float64'>'\n",
       "\twith 2658725 stored elements in Compressed Sparse Row format>"
      ]
     },
     "execution_count": 57,
     "metadata": {},
     "output_type": "execute_result"
    }
   ],
   "source": [
    "X_test = vectorizer.transform(df_test['text'])\n",
    "X_test"
   ]
  },
  {
   "cell_type": "code",
   "execution_count": 58,
   "metadata": {},
   "outputs": [
    {
     "data": {
      "text/plain": [
       "<826954x2000 sparse matrix of type '<class 'numpy.float64'>'\n",
       "\twith 10637162 stored elements in Compressed Sparse Row format>"
      ]
     },
     "execution_count": 58,
     "metadata": {},
     "output_type": "execute_result"
    }
   ],
   "source": [
    "Y_train = df_train['label']\n",
    "Y_test = df_test['label']\n",
    "\n",
    "X_train\n"
   ]
  },
  {
   "cell_type": "code",
   "execution_count": 59,
   "metadata": {},
   "outputs": [
    {
     "name": "stderr",
     "output_type": "stream",
     "text": [
      "c:\\ProgramData\\anaconda3\\Lib\\site-packages\\sklearn\\linear_model\\_logistic.py:458: ConvergenceWarning: lbfgs failed to converge (status=1):\n",
      "STOP: TOTAL NO. of ITERATIONS REACHED LIMIT.\n",
      "\n",
      "Increase the number of iterations (max_iter) or scale the data as shown in:\n",
      "    https://scikit-learn.org/stable/modules/preprocessing.html\n",
      "Please also refer to the documentation for alternative solver options:\n",
      "    https://scikit-learn.org/stable/modules/linear_model.html#logistic-regression\n",
      "  n_iter_i = _check_optimize_result(\n"
     ]
    },
    {
     "name": "stdout",
     "output_type": "stream",
     "text": [
      "Train acc: 0.8746508270109341\n",
      "Test acc: 0.8710257861361427\n"
     ]
    }
   ],
   "source": [
    "model = LogisticRegression(max_iter=1500)\n",
    "model.fit(X_train, Y_train)\n",
    "print(\"Train acc:\", model.score(X_train, Y_train))\n",
    "print(\"Test acc:\", model.score(X_test, Y_test))"
   ]
  },
  {
   "cell_type": "code",
   "execution_count": 60,
   "metadata": {},
   "outputs": [
    {
     "data": {
      "text/plain": [
       "array([7., 0., 5., ..., 0., 4., 1.])"
      ]
     },
     "execution_count": 60,
     "metadata": {},
     "output_type": "execute_result"
    }
   ],
   "source": [
    "P_train = model.predict(X_train)\n",
    "P_test = model.predict(X_test)\n",
    "P_train"
   ]
  },
  {
   "cell_type": "code",
   "execution_count": 61,
   "metadata": {},
   "outputs": [
    {
     "data": {
      "text/plain": [
       "array([[9.22489430e-01, 2.06139221e-02, 3.28832720e-03, 2.06189733e-02,\n",
       "        1.48454587e-02, 1.49010219e-03, 5.05119385e-05, 1.66032742e-02,\n",
       "        0.00000000e+00, 0.00000000e+00, 0.00000000e+00, 0.00000000e+00],\n",
       "       [1.21724193e-02, 8.97738527e-01, 3.36200413e-02, 5.08759457e-03,\n",
       "        4.71773713e-03, 5.91360952e-03, 6.16429068e-05, 4.06884280e-02,\n",
       "        0.00000000e+00, 0.00000000e+00, 0.00000000e+00, 0.00000000e+00],\n",
       "       [1.20631930e-02, 1.83118260e-01, 7.65852920e-01, 6.02318421e-03,\n",
       "        3.09571479e-03, 1.78340091e-03, 0.00000000e+00, 2.80633276e-02,\n",
       "        0.00000000e+00, 0.00000000e+00, 0.00000000e+00, 0.00000000e+00],\n",
       "       [4.52974204e-02, 2.85831319e-02, 3.62659100e-03, 8.37113114e-01,\n",
       "        2.36577617e-02, 1.66843167e-03, 4.39586788e-04, 5.96139629e-02,\n",
       "        0.00000000e+00, 0.00000000e+00, 0.00000000e+00, 0.00000000e+00],\n",
       "       [4.47476059e-02, 2.65864949e-02, 2.90234882e-03, 3.15217125e-02,\n",
       "        8.25307992e-01, 3.40199368e-02, 4.00450660e-03, 3.09094026e-02,\n",
       "        0.00000000e+00, 0.00000000e+00, 0.00000000e+00, 0.00000000e+00],\n",
       "       [1.67526684e-02, 7.66593624e-02, 4.91270234e-03, 7.70481374e-03,\n",
       "        1.14653283e-01, 6.65406093e-01, 7.06863646e-05, 1.13840390e-01,\n",
       "        0.00000000e+00, 0.00000000e+00, 0.00000000e+00, 0.00000000e+00],\n",
       "       [1.45547945e-02, 2.25456621e-02, 1.14155251e-03, 1.68378995e-02,\n",
       "        8.73287671e-02, 8.27625571e-03, 7.16324201e-01, 1.32990868e-01,\n",
       "        0.00000000e+00, 0.00000000e+00, 0.00000000e+00, 0.00000000e+00],\n",
       "       [1.16994910e-02, 3.85896650e-02, 5.88083753e-03, 1.00471711e-02,\n",
       "        3.51784239e-03, 4.55720491e-03, 3.02036973e-04, 9.25405751e-01,\n",
       "        0.00000000e+00, 0.00000000e+00, 0.00000000e+00, 0.00000000e+00],\n",
       "       [0.00000000e+00, 1.66666667e-01, 5.55555556e-02, 0.00000000e+00,\n",
       "        0.00000000e+00, 0.00000000e+00, 0.00000000e+00, 7.77777778e-01,\n",
       "        0.00000000e+00, 0.00000000e+00, 0.00000000e+00, 0.00000000e+00],\n",
       "       [0.00000000e+00, 2.18181818e-01, 1.45454545e-01, 1.81818182e-02,\n",
       "        0.00000000e+00, 0.00000000e+00, 0.00000000e+00, 5.63636364e-01,\n",
       "        0.00000000e+00, 5.45454545e-02, 0.00000000e+00, 0.00000000e+00],\n",
       "       [0.00000000e+00, 2.00000000e-01, 0.00000000e+00, 0.00000000e+00,\n",
       "        0.00000000e+00, 0.00000000e+00, 0.00000000e+00, 8.00000000e-01,\n",
       "        0.00000000e+00, 0.00000000e+00, 0.00000000e+00, 0.00000000e+00],\n",
       "       [2.00000000e-01, 0.00000000e+00, 0.00000000e+00, 5.00000000e-01,\n",
       "        0.00000000e+00, 0.00000000e+00, 0.00000000e+00, 3.00000000e-01,\n",
       "        0.00000000e+00, 0.00000000e+00, 0.00000000e+00, 0.00000000e+00]])"
      ]
     },
     "execution_count": 61,
     "metadata": {},
     "output_type": "execute_result"
    }
   ],
   "source": [
    "cm = confusion_matrix(Y_train, P_train, normalize='true')\n",
    "cm"
   ]
  },
  {
   "cell_type": "code",
   "execution_count": 62,
   "metadata": {},
   "outputs": [
    {
     "data": {
      "text/plain": [
       "(array([ 1.,  0.,  0.,  0.,  0.,  0.,  0.,  0.,  0.,  0.,  0.,  0.,  1.,\n",
       "         1.,  0.,  1.,  0.,  1.,  0.,  0.,  0.,  0.,  0.,  1.,  1.,  1.,\n",
       "         0.,  0.,  0.,  0.,  1.,  1.,  1.,  2.,  0.,  0.,  0.,  1.,  1.,\n",
       "         2.,  2.,  1.,  1.,  3.,  0.,  2.,  3.,  2.,  0.,  1.,  3.,  3.,\n",
       "         4.,  4.,  1.,  7.,  0.,  4.,  1.,  3.,  3.,  5.,  6.,  7.,  3.,\n",
       "         6.,  3., 12.,  3.,  8.,  3.,  7.,  9.,  5.,  7.,  1.,  8.,  7.,\n",
       "         7.,  4.,  6.,  2.,  6.,  7.,  1.,  5.,  2.,  2.,  3.,  2.,  2.,\n",
       "         4.,  3.,  1.,  0.,  3.,  1.,  1.,  1.,  0.,  1.,  3.,  3.,  0.,\n",
       "         2.,  1.,  2.,  4.,  4.,  4.,  4.,  6.,  5., 13.,  9., 15., 18.,\n",
       "        23., 25., 41., 31., 49., 49., 66., 62., 66., 94., 68., 92., 74.,\n",
       "        88., 77., 71., 80., 87., 64., 58., 38., 44., 34., 32., 18., 20.,\n",
       "        16., 14., 14., 13.,  7.,  7.,  4.,  2.,  5.,  4.,  6.,  2.,  2.,\n",
       "         4.,  2.,  0.,  1.,  0.,  1.,  0.,  1.,  0.,  2.,  0.,  1.,  0.,\n",
       "         0.,  0.,  1.,  0.,  0.,  2.,  2.,  0.,  0.,  0.,  1.,  0.,  0.,\n",
       "         0.,  1.,  0.,  0.,  0.,  0.,  0.,  1.,  1.,  0.,  0.,  0.,  0.,\n",
       "         0.,  0.,  0.,  0.,  0.,  0.,  0.,  0.,  0.,  0.,  1.,  0.,  0.,\n",
       "         0.,  0.,  0.,  0.,  0.,  0.,  0.,  0.,  0.,  0.,  0.,  0.,  0.,\n",
       "         0.,  0.,  0.,  0.,  0.,  0.,  1.,  0.,  1.,  0.,  0.,  0.,  1.,\n",
       "         0.,  0.,  0.,  0.,  0.,  0.,  1.,  1.,  0.,  0.,  0.,  0.,  0.,\n",
       "         0.,  1.,  0.,  0.,  0.,  0.,  0.,  0.,  0.,  1.,  2.,  0.,  1.,\n",
       "         0.,  2.,  0.,  0.,  0.,  1.,  0.,  0.,  0.,  1.,  0.,  2.,  0.,\n",
       "         1.,  0.,  1.,  0.,  2.,  0.,  0.,  1.,  0.,  0.,  1.,  1.,  0.,\n",
       "         1.,  0.,  0.,  1.,  1.,  4.,  2.,  0.,  1.,  2.,  2.,  1.,  0.,\n",
       "         2.,  0.,  1.,  0.,  0.,  1.,  2.,  2.,  1.,  1.,  2.,  5.,  0.,\n",
       "         0.,  1.,  0.,  0.,  1.,  0.,  0.,  0.,  0.,  0.,  0.,  0.,  1.,\n",
       "         3.,  1.,  1.,  3.,  2.,  1.,  2.,  1.,  0.,  1.,  1.,  2.,  0.,\n",
       "         0.,  3.,  1.,  0.,  0.,  0.,  0.,  3.,  0.,  3.,  2.,  1.,  1.,\n",
       "         1.,  0.,  1.,  1.,  0.,  4.,  2.,  0.,  1.,  1.,  0.,  0.,  1.,\n",
       "         3.,  0.,  0.,  1.,  0.,  0.,  0.,  0.,  0.,  0.,  0.,  0.,  0.,\n",
       "         0.,  0.,  0.,  0.,  0.,  1.,  0.,  0.,  0.,  1.,  0.,  0.,  0.,\n",
       "         0.,  0.,  0.,  0.,  0.,  0.,  0.,  0.,  0.,  1.]),\n",
       " array([-6.68607959e+00, -6.63303839e+00, -6.57999719e+00, -6.52695599e+00,\n",
       "        -6.47391478e+00, -6.42087358e+00, -6.36783238e+00, -6.31479118e+00,\n",
       "        -6.26174997e+00, -6.20870877e+00, -6.15566757e+00, -6.10262636e+00,\n",
       "        -6.04958516e+00, -5.99654396e+00, -5.94350276e+00, -5.89046155e+00,\n",
       "        -5.83742035e+00, -5.78437915e+00, -5.73133795e+00, -5.67829674e+00,\n",
       "        -5.62525554e+00, -5.57221434e+00, -5.51917313e+00, -5.46613193e+00,\n",
       "        -5.41309073e+00, -5.36004953e+00, -5.30700832e+00, -5.25396712e+00,\n",
       "        -5.20092592e+00, -5.14788472e+00, -5.09484351e+00, -5.04180231e+00,\n",
       "        -4.98876111e+00, -4.93571990e+00, -4.88267870e+00, -4.82963750e+00,\n",
       "        -4.77659630e+00, -4.72355509e+00, -4.67051389e+00, -4.61747269e+00,\n",
       "        -4.56443148e+00, -4.51139028e+00, -4.45834908e+00, -4.40530788e+00,\n",
       "        -4.35226667e+00, -4.29922547e+00, -4.24618427e+00, -4.19314307e+00,\n",
       "        -4.14010186e+00, -4.08706066e+00, -4.03401946e+00, -3.98097825e+00,\n",
       "        -3.92793705e+00, -3.87489585e+00, -3.82185465e+00, -3.76881344e+00,\n",
       "        -3.71577224e+00, -3.66273104e+00, -3.60968984e+00, -3.55664863e+00,\n",
       "        -3.50360743e+00, -3.45056623e+00, -3.39752502e+00, -3.34448382e+00,\n",
       "        -3.29144262e+00, -3.23840142e+00, -3.18536021e+00, -3.13231901e+00,\n",
       "        -3.07927781e+00, -3.02623661e+00, -2.97319540e+00, -2.92015420e+00,\n",
       "        -2.86711300e+00, -2.81407179e+00, -2.76103059e+00, -2.70798939e+00,\n",
       "        -2.65494819e+00, -2.60190698e+00, -2.54886578e+00, -2.49582458e+00,\n",
       "        -2.44278337e+00, -2.38974217e+00, -2.33670097e+00, -2.28365977e+00,\n",
       "        -2.23061856e+00, -2.17757736e+00, -2.12453616e+00, -2.07149496e+00,\n",
       "        -2.01845375e+00, -1.96541255e+00, -1.91237135e+00, -1.85933014e+00,\n",
       "        -1.80628894e+00, -1.75324774e+00, -1.70020654e+00, -1.64716533e+00,\n",
       "        -1.59412413e+00, -1.54108293e+00, -1.48804173e+00, -1.43500052e+00,\n",
       "        -1.38195932e+00, -1.32891812e+00, -1.27587691e+00, -1.22283571e+00,\n",
       "        -1.16979451e+00, -1.11675331e+00, -1.06371210e+00, -1.01067090e+00,\n",
       "        -9.57629698e-01, -9.04588495e-01, -8.51547292e-01, -7.98506090e-01,\n",
       "        -7.45464887e-01, -6.92423684e-01, -6.39382481e-01, -5.86341279e-01,\n",
       "        -5.33300076e-01, -4.80258873e-01, -4.27217670e-01, -3.74176468e-01,\n",
       "        -3.21135265e-01, -2.68094062e-01, -2.15052859e-01, -1.62011657e-01,\n",
       "        -1.08970454e-01, -5.59292512e-02, -2.88804843e-03,  5.01531543e-02,\n",
       "         1.03194357e-01,  1.56235560e-01,  2.09276763e-01,  2.62317965e-01,\n",
       "         3.15359168e-01,  3.68400371e-01,  4.21441574e-01,  4.74482776e-01,\n",
       "         5.27523979e-01,  5.80565182e-01,  6.33606385e-01,  6.86647587e-01,\n",
       "         7.39688790e-01,  7.92729993e-01,  8.45771196e-01,  8.98812398e-01,\n",
       "         9.51853601e-01,  1.00489480e+00,  1.05793601e+00,  1.11097721e+00,\n",
       "         1.16401841e+00,  1.21705961e+00,  1.27010082e+00,  1.32314202e+00,\n",
       "         1.37618322e+00,  1.42922443e+00,  1.48226563e+00,  1.53530683e+00,\n",
       "         1.58834803e+00,  1.64138924e+00,  1.69443044e+00,  1.74747164e+00,\n",
       "         1.80051285e+00,  1.85355405e+00,  1.90659525e+00,  1.95963645e+00,\n",
       "         2.01267766e+00,  2.06571886e+00,  2.11876006e+00,  2.17180126e+00,\n",
       "         2.22484247e+00,  2.27788367e+00,  2.33092487e+00,  2.38396608e+00,\n",
       "         2.43700728e+00,  2.49004848e+00,  2.54308968e+00,  2.59613089e+00,\n",
       "         2.64917209e+00,  2.70221329e+00,  2.75525449e+00,  2.80829570e+00,\n",
       "         2.86133690e+00,  2.91437810e+00,  2.96741931e+00,  3.02046051e+00,\n",
       "         3.07350171e+00,  3.12654291e+00,  3.17958412e+00,  3.23262532e+00,\n",
       "         3.28566652e+00,  3.33870772e+00,  3.39174893e+00,  3.44479013e+00,\n",
       "         3.49783133e+00,  3.55087254e+00,  3.60391374e+00,  3.65695494e+00,\n",
       "         3.70999614e+00,  3.76303735e+00,  3.81607855e+00,  3.86911975e+00,\n",
       "         3.92216096e+00,  3.97520216e+00,  4.02824336e+00,  4.08128456e+00,\n",
       "         4.13432577e+00,  4.18736697e+00,  4.24040817e+00,  4.29344937e+00,\n",
       "         4.34649058e+00,  4.39953178e+00,  4.45257298e+00,  4.50561419e+00,\n",
       "         4.55865539e+00,  4.61169659e+00,  4.66473779e+00,  4.71777900e+00,\n",
       "         4.77082020e+00,  4.82386140e+00,  4.87690260e+00,  4.92994381e+00,\n",
       "         4.98298501e+00,  5.03602621e+00,  5.08906742e+00,  5.14210862e+00,\n",
       "         5.19514982e+00,  5.24819102e+00,  5.30123223e+00,  5.35427343e+00,\n",
       "         5.40731463e+00,  5.46035583e+00,  5.51339704e+00,  5.56643824e+00,\n",
       "         5.61947944e+00,  5.67252065e+00,  5.72556185e+00,  5.77860305e+00,\n",
       "         5.83164425e+00,  5.88468546e+00,  5.93772666e+00,  5.99076786e+00,\n",
       "         6.04380907e+00,  6.09685027e+00,  6.14989147e+00,  6.20293267e+00,\n",
       "         6.25597388e+00,  6.30901508e+00,  6.36205628e+00,  6.41509748e+00,\n",
       "         6.46813869e+00,  6.52117989e+00,  6.57422109e+00,  6.62726230e+00,\n",
       "         6.68030350e+00,  6.73334470e+00,  6.78638590e+00,  6.83942711e+00,\n",
       "         6.89246831e+00,  6.94550951e+00,  6.99855071e+00,  7.05159192e+00,\n",
       "         7.10463312e+00,  7.15767432e+00,  7.21071553e+00,  7.26375673e+00,\n",
       "         7.31679793e+00,  7.36983913e+00,  7.42288034e+00,  7.47592154e+00,\n",
       "         7.52896274e+00,  7.58200394e+00,  7.63504515e+00,  7.68808635e+00,\n",
       "         7.74112755e+00,  7.79416876e+00,  7.84720996e+00,  7.90025116e+00,\n",
       "         7.95329236e+00,  8.00633357e+00,  8.05937477e+00,  8.11241597e+00,\n",
       "         8.16545718e+00,  8.21849838e+00,  8.27153958e+00,  8.32458078e+00,\n",
       "         8.37762199e+00,  8.43066319e+00,  8.48370439e+00,  8.53674559e+00,\n",
       "         8.58978680e+00,  8.64282800e+00,  8.69586920e+00,  8.74891041e+00,\n",
       "         8.80195161e+00,  8.85499281e+00,  8.90803401e+00,  8.96107522e+00,\n",
       "         9.01411642e+00,  9.06715762e+00,  9.12019882e+00,  9.17324003e+00,\n",
       "         9.22628123e+00,  9.27932243e+00,  9.33236364e+00,  9.38540484e+00,\n",
       "         9.43844604e+00,  9.49148724e+00,  9.54452845e+00,  9.59756965e+00,\n",
       "         9.65061085e+00,  9.70365205e+00,  9.75669326e+00,  9.80973446e+00,\n",
       "         9.86277566e+00,  9.91581687e+00,  9.96885807e+00,  1.00218993e+01,\n",
       "         1.00749405e+01,  1.01279817e+01,  1.01810229e+01,  1.02340641e+01,\n",
       "         1.02871053e+01,  1.03401465e+01,  1.03931877e+01,  1.04462289e+01,\n",
       "         1.04992701e+01,  1.05523113e+01,  1.06053525e+01,  1.06583937e+01,\n",
       "         1.07114349e+01,  1.07644761e+01,  1.08175173e+01,  1.08705585e+01,\n",
       "         1.09235997e+01,  1.09766409e+01,  1.10296821e+01,  1.10827233e+01,\n",
       "         1.11357645e+01,  1.11888057e+01,  1.12418469e+01,  1.12948881e+01,\n",
       "         1.13479293e+01,  1.14009705e+01,  1.14540117e+01,  1.15070529e+01,\n",
       "         1.15600942e+01,  1.16131354e+01,  1.16661766e+01,  1.17192178e+01,\n",
       "         1.17722590e+01,  1.18253002e+01,  1.18783414e+01,  1.19313826e+01,\n",
       "         1.19844238e+01,  1.20374650e+01,  1.20905062e+01,  1.21435474e+01,\n",
       "         1.21965886e+01,  1.22496298e+01,  1.23026710e+01,  1.23557122e+01,\n",
       "         1.24087534e+01,  1.24617946e+01,  1.25148358e+01,  1.25678770e+01,\n",
       "         1.26209182e+01,  1.26739594e+01,  1.27270006e+01,  1.27800418e+01,\n",
       "         1.28330830e+01,  1.28861242e+01,  1.29391654e+01,  1.29922066e+01,\n",
       "         1.30452478e+01,  1.30982890e+01,  1.31513302e+01,  1.32043714e+01,\n",
       "         1.32574126e+01,  1.33104538e+01,  1.33634950e+01,  1.34165362e+01,\n",
       "         1.34695775e+01,  1.35226187e+01,  1.35756599e+01,  1.36287011e+01,\n",
       "         1.36817423e+01,  1.37347835e+01,  1.37878247e+01,  1.38408659e+01,\n",
       "         1.38939071e+01,  1.39469483e+01,  1.39999895e+01,  1.40530307e+01,\n",
       "         1.41060719e+01,  1.41591131e+01,  1.42121543e+01,  1.42651955e+01,\n",
       "         1.43182367e+01,  1.43712779e+01,  1.44243191e+01,  1.44773603e+01,\n",
       "         1.45304015e+01]),\n",
       " <BarContainer object of 400 artists>)"
      ]
     },
     "execution_count": 62,
     "metadata": {},
     "output_type": "execute_result"
    },
    {
     "data": {
      "image/png": "[encoded data removed]",
      "text/plain": [
       "<Figure size 640x480 with 1 Axes>"
      ]
     },
     "metadata": {},
     "output_type": "display_data"
    }
   ],
   "source": [
    "plt.hist(model.coef_[0], bins=400)"
   ]
  },
  {
   "cell_type": "code",
   "execution_count": 63,
   "metadata": {},
   "outputs": [
    {
     "name": "stdout",
     "output_type": "stream",
     "text": [
      "Sentimiento predicho para la oración: [3.]\n"
     ]
    },
    {
     "data": {
      "text/plain": [
       "['ModelosCSV/modelo_AI.pkl']"
      ]
     },
     "execution_count": 63,
     "metadata": {},
     "output_type": "execute_result"
    }
   ],
   "source": [
    "mi_oracion = \"this text i so complicated  im impacient\"\n",
    "mi_oracion_vectorizada = vectorizer.transform([mi_oracion])\n",
    "sentimiento_predicho = model.predict(mi_oracion_vectorizada)\n",
    "print(\"Sentimiento predicho para la oración:\", sentimiento_predicho)\n",
    "dump(model, 'ModelosCSV/modelo_AI.pkl')"
   ]
  }
 ],
 "metadata": {
  "kernelspec": {
   "display_name": "base",
   "language": "python",
   "name": "python3"
  },
  "language_info": {
   "codemirror_mode": {
    "name": "ipython",
    "version": 3
   },
   "file_extension": ".py",
   "mimetype": "text/x-python",
   "name": "python",
   "nbconvert_exporter": "python",
   "pygments_lexer": "ipython3",
   "version": "3.11.7"
  }
 },
 "nbformat": 4,
 "nbformat_minor": 2
}
