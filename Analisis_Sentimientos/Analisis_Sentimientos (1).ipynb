{
  "cells": [
    {
      "cell_type": "code",
      "execution_count": 1,
      "id": "692c80e2",
      "metadata": {
        "id": "692c80e2"
      },
      "outputs": [],
      "source": [
        "import numpy as np\n",
        "import pandas as pd\n",
        "import seaborn as sn\n",
        "import matplotlib.pyplot as plt\n",
        "from sklearn.feature_extraction.text import CountVectorizer, TfidfVectorizer\n",
        "from sklearn.linear_model import LogisticRegression\n",
        "from sklearn.metrics import roc_auc_score, f1_score, confusion_matrix\n",
        "from sklearn.model_selection import train_test_split"
      ]
    },
    {
      "cell_type": "code",
      "execution_count": 2,
      "id": "f779d58b",
      "metadata": {
        "id": "f779d58b"
      },
      "outputs": [],
      "source": [
        "df = pd.read_excel('BBDD.xlsx')"
      ]
    },
    {
      "cell_type": "markdown",
      "id": "8cf12b26",
      "metadata": {
        "id": "8cf12b26"
      },
      "source": [
        "# Multiclases"
      ]
    },
    {
      "cell_type": "code",
      "execution_count": 3,
      "id": "07c2dc07",
      "metadata": {
        "colab": {
          "base_uri": "https://localhost:8080/",
          "height": 200
        },
        "id": "07c2dc07",
        "outputId": "0e2aef5f-0ded-4bea-e80c-28971512cfd8"
      },
      "outputs": [],
      "source": [
        "df = pd.read_csv('Twitter_Data2.csv')"
      ]
    },
    {
      "cell_type": "code",
      "execution_count": 4,
      "id": "5e9721a0",
      "metadata": {
        "id": "5e9721a0"
      },
      "outputs": [
        {
          "data": {
            "text/html": [
              "<div>\n",
              "<style scoped>\n",
              "    .dataframe tbody tr th:only-of-type {\n",
              "        vertical-align: middle;\n",
              "    }\n",
              "\n",
              "    .dataframe tbody tr th {\n",
              "        vertical-align: top;\n",
              "    }\n",
              "\n",
              "    .dataframe thead th {\n",
              "        text-align: right;\n",
              "    }\n",
              "</style>\n",
              "<table border=\"1\" class=\"dataframe\">\n",
              "  <thead>\n",
              "    <tr style=\"text-align: right;\">\n",
              "      <th></th>\n",
              "      <th>clean_text</th>\n",
              "      <th>category</th>\n",
              "    </tr>\n",
              "  </thead>\n",
              "  <tbody>\n",
              "    <tr>\n",
              "      <th>0</th>\n",
              "      <td>when modi promised “minimum government maximum...</td>\n",
              "      <td>Negativo</td>\n",
              "    </tr>\n",
              "    <tr>\n",
              "      <th>1</th>\n",
              "      <td>talk all the nonsense and continue all the dra...</td>\n",
              "      <td>Neutro</td>\n",
              "    </tr>\n",
              "    <tr>\n",
              "      <th>2</th>\n",
              "      <td>what did just say vote for modi  welcome bjp t...</td>\n",
              "      <td>Positivo</td>\n",
              "    </tr>\n",
              "    <tr>\n",
              "      <th>3</th>\n",
              "      <td>asking his supporters prefix chowkidar their n...</td>\n",
              "      <td>Positivo</td>\n",
              "    </tr>\n",
              "    <tr>\n",
              "      <th>4</th>\n",
              "      <td>answer who among these the most powerful world...</td>\n",
              "      <td>Positivo</td>\n",
              "    </tr>\n",
              "    <tr>\n",
              "      <th>...</th>\n",
              "      <td>...</td>\n",
              "      <td>...</td>\n",
              "    </tr>\n",
              "    <tr>\n",
              "      <th>162963</th>\n",
              "      <td>why these 456 crores paid neerav modi not reco...</td>\n",
              "      <td>Negativo</td>\n",
              "    </tr>\n",
              "    <tr>\n",
              "      <th>162964</th>\n",
              "      <td>dear rss terrorist payal gawar what about modi...</td>\n",
              "      <td>Negativo</td>\n",
              "    </tr>\n",
              "    <tr>\n",
              "      <th>162965</th>\n",
              "      <td>did you cover her interaction forum where she ...</td>\n",
              "      <td>Neutro</td>\n",
              "    </tr>\n",
              "    <tr>\n",
              "      <th>162966</th>\n",
              "      <td>there big project came into india modi dream p...</td>\n",
              "      <td>Neutro</td>\n",
              "    </tr>\n",
              "    <tr>\n",
              "      <th>162967</th>\n",
              "      <td>have you ever listen about like gurukul where ...</td>\n",
              "      <td>Positivo</td>\n",
              "    </tr>\n",
              "  </tbody>\n",
              "</table>\n",
              "<p>162968 rows × 2 columns</p>\n",
              "</div>"
            ],
            "text/plain": [
              "                                               clean_text  category\n",
              "0       when modi promised “minimum government maximum...  Negativo\n",
              "1       talk all the nonsense and continue all the dra...    Neutro\n",
              "2       what did just say vote for modi  welcome bjp t...  Positivo\n",
              "3       asking his supporters prefix chowkidar their n...  Positivo\n",
              "4       answer who among these the most powerful world...  Positivo\n",
              "...                                                   ...       ...\n",
              "162963  why these 456 crores paid neerav modi not reco...  Negativo\n",
              "162964  dear rss terrorist payal gawar what about modi...  Negativo\n",
              "162965  did you cover her interaction forum where she ...    Neutro\n",
              "162966  there big project came into india modi dream p...    Neutro\n",
              "162967  have you ever listen about like gurukul where ...  Positivo\n",
              "\n",
              "[162968 rows x 2 columns]"
            ]
          },
          "execution_count": 4,
          "metadata": {},
          "output_type": "execute_result"
        }
      ],
      "source": [
        "df"
      ]
    },
    {
      "cell_type": "code",
      "execution_count": 5,
      "id": "8dc0ee91",
      "metadata": {
        "id": "8dc0ee91"
      },
      "outputs": [
        {
          "data": {
            "text/plain": [
              "<Axes: >"
            ]
          },
          "execution_count": 5,
          "metadata": {},
          "output_type": "execute_result"
        },
        {
          "data": {
            "image/png": "[encoded data removed]",
            "text/plain": [
              "<Figure size 640x480 with 1 Axes>"
            ]
          },
          "metadata": {},
          "output_type": "display_data"
        }
      ],
      "source": [
        "df['category'].hist()"
      ]
    },
    {
      "cell_type": "code",
      "execution_count": 6,
      "id": "0c6efc5e",
      "metadata": {
        "id": "0c6efc5e"
      },
      "outputs": [],
      "source": [
        "target_map = {'Positivo': 1, 'Negativo': 0, 'Neutro': 2}\n",
        "df['target'] = df['category'].map(target_map)"
      ]
    },
    {
      "cell_type": "code",
      "execution_count": 7,
      "id": "06b0e978",
      "metadata": {
        "id": "06b0e978"
      },
      "outputs": [
        {
          "data": {
            "text/html": [
              "<div>\n",
              "<style scoped>\n",
              "    .dataframe tbody tr th:only-of-type {\n",
              "        vertical-align: middle;\n",
              "    }\n",
              "\n",
              "    .dataframe tbody tr th {\n",
              "        vertical-align: top;\n",
              "    }\n",
              "\n",
              "    .dataframe thead th {\n",
              "        text-align: right;\n",
              "    }\n",
              "</style>\n",
              "<table border=\"1\" class=\"dataframe\">\n",
              "  <thead>\n",
              "    <tr style=\"text-align: right;\">\n",
              "      <th></th>\n",
              "      <th>clean_text</th>\n",
              "      <th>category</th>\n",
              "      <th>target</th>\n",
              "    </tr>\n",
              "  </thead>\n",
              "  <tbody>\n",
              "    <tr>\n",
              "      <th>0</th>\n",
              "      <td>when modi promised “minimum government maximum...</td>\n",
              "      <td>Negativo</td>\n",
              "      <td>0</td>\n",
              "    </tr>\n",
              "    <tr>\n",
              "      <th>1</th>\n",
              "      <td>talk all the nonsense and continue all the dra...</td>\n",
              "      <td>Neutro</td>\n",
              "      <td>2</td>\n",
              "    </tr>\n",
              "    <tr>\n",
              "      <th>2</th>\n",
              "      <td>what did just say vote for modi  welcome bjp t...</td>\n",
              "      <td>Positivo</td>\n",
              "      <td>1</td>\n",
              "    </tr>\n",
              "    <tr>\n",
              "      <th>3</th>\n",
              "      <td>asking his supporters prefix chowkidar their n...</td>\n",
              "      <td>Positivo</td>\n",
              "      <td>1</td>\n",
              "    </tr>\n",
              "    <tr>\n",
              "      <th>4</th>\n",
              "      <td>answer who among these the most powerful world...</td>\n",
              "      <td>Positivo</td>\n",
              "      <td>1</td>\n",
              "    </tr>\n",
              "    <tr>\n",
              "      <th>...</th>\n",
              "      <td>...</td>\n",
              "      <td>...</td>\n",
              "      <td>...</td>\n",
              "    </tr>\n",
              "    <tr>\n",
              "      <th>162963</th>\n",
              "      <td>why these 456 crores paid neerav modi not reco...</td>\n",
              "      <td>Negativo</td>\n",
              "      <td>0</td>\n",
              "    </tr>\n",
              "    <tr>\n",
              "      <th>162964</th>\n",
              "      <td>dear rss terrorist payal gawar what about modi...</td>\n",
              "      <td>Negativo</td>\n",
              "      <td>0</td>\n",
              "    </tr>\n",
              "    <tr>\n",
              "      <th>162965</th>\n",
              "      <td>did you cover her interaction forum where she ...</td>\n",
              "      <td>Neutro</td>\n",
              "      <td>2</td>\n",
              "    </tr>\n",
              "    <tr>\n",
              "      <th>162966</th>\n",
              "      <td>there big project came into india modi dream p...</td>\n",
              "      <td>Neutro</td>\n",
              "      <td>2</td>\n",
              "    </tr>\n",
              "    <tr>\n",
              "      <th>162967</th>\n",
              "      <td>have you ever listen about like gurukul where ...</td>\n",
              "      <td>Positivo</td>\n",
              "      <td>1</td>\n",
              "    </tr>\n",
              "  </tbody>\n",
              "</table>\n",
              "<p>162968 rows × 3 columns</p>\n",
              "</div>"
            ],
            "text/plain": [
              "                                               clean_text  category  target\n",
              "0       when modi promised “minimum government maximum...  Negativo       0\n",
              "1       talk all the nonsense and continue all the dra...    Neutro       2\n",
              "2       what did just say vote for modi  welcome bjp t...  Positivo       1\n",
              "3       asking his supporters prefix chowkidar their n...  Positivo       1\n",
              "4       answer who among these the most powerful world...  Positivo       1\n",
              "...                                                   ...       ...     ...\n",
              "162963  why these 456 crores paid neerav modi not reco...  Negativo       0\n",
              "162964  dear rss terrorist payal gawar what about modi...  Negativo       0\n",
              "162965  did you cover her interaction forum where she ...    Neutro       2\n",
              "162966  there big project came into india modi dream p...    Neutro       2\n",
              "162967  have you ever listen about like gurukul where ...  Positivo       1\n",
              "\n",
              "[162968 rows x 3 columns]"
            ]
          },
          "execution_count": 7,
          "metadata": {},
          "output_type": "execute_result"
        }
      ],
      "source": [
        "df"
      ]
    },
    {
      "cell_type": "code",
      "execution_count": 8,
      "id": "7b4c2618",
      "metadata": {
        "id": "7b4c2618"
      },
      "outputs": [],
      "source": [
        "df_train, df_test = train_test_split(df)"
      ]
    },
    {
      "cell_type": "code",
      "execution_count": 9,
      "id": "4ed0ac15",
      "metadata": {
        "id": "4ed0ac15"
      },
      "outputs": [
        {
          "data": {
            "text/html": [
              "<div>\n",
              "<style scoped>\n",
              "    .dataframe tbody tr th:only-of-type {\n",
              "        vertical-align: middle;\n",
              "    }\n",
              "\n",
              "    .dataframe tbody tr th {\n",
              "        vertical-align: top;\n",
              "    }\n",
              "\n",
              "    .dataframe thead th {\n",
              "        text-align: right;\n",
              "    }\n",
              "</style>\n",
              "<table border=\"1\" class=\"dataframe\">\n",
              "  <thead>\n",
              "    <tr style=\"text-align: right;\">\n",
              "      <th></th>\n",
              "      <th>clean_text</th>\n",
              "      <th>category</th>\n",
              "      <th>target</th>\n",
              "    </tr>\n",
              "  </thead>\n",
              "  <tbody>\n",
              "    <tr>\n",
              "      <th>127764</th>\n",
              "      <td>modi doesnt believes freebies free money distr...</td>\n",
              "      <td>Positivo</td>\n",
              "      <td>1</td>\n",
              "    </tr>\n",
              "    <tr>\n",
              "      <th>93684</th>\n",
              "      <td>your all scheme will applied modi dont worry p...</td>\n",
              "      <td>Positivo</td>\n",
              "      <td>1</td>\n",
              "    </tr>\n",
              "    <tr>\n",
              "      <th>69912</th>\n",
              "      <td>homi baba but not the greatest blunder india j...</td>\n",
              "      <td>Positivo</td>\n",
              "      <td>1</td>\n",
              "    </tr>\n",
              "    <tr>\n",
              "      <th>108083</th>\n",
              "      <td>your hypocrisy display your silence mob lynchi...</td>\n",
              "      <td>Neutro</td>\n",
              "      <td>2</td>\n",
              "    </tr>\n",
              "    <tr>\n",
              "      <th>111606</th>\n",
              "      <td>modis campaign all gas</td>\n",
              "      <td>Neutro</td>\n",
              "      <td>2</td>\n",
              "    </tr>\n",
              "  </tbody>\n",
              "</table>\n",
              "</div>"
            ],
            "text/plain": [
              "                                               clean_text  category  target\n",
              "127764  modi doesnt believes freebies free money distr...  Positivo       1\n",
              "93684   your all scheme will applied modi dont worry p...  Positivo       1\n",
              "69912   homi baba but not the greatest blunder india j...  Positivo       1\n",
              "108083  your hypocrisy display your silence mob lynchi...    Neutro       2\n",
              "111606                            modis campaign all gas     Neutro       2"
            ]
          },
          "execution_count": 9,
          "metadata": {},
          "output_type": "execute_result"
        }
      ],
      "source": [
        "df_train.head()"
      ]
    },
    {
      "cell_type": "code",
      "execution_count": 10,
      "id": "74948ec1",
      "metadata": {
        "id": "74948ec1"
      },
      "outputs": [
        {
          "data": {
            "text/html": [
              "<div>\n",
              "<style scoped>\n",
              "    .dataframe tbody tr th:only-of-type {\n",
              "        vertical-align: middle;\n",
              "    }\n",
              "\n",
              "    .dataframe tbody tr th {\n",
              "        vertical-align: top;\n",
              "    }\n",
              "\n",
              "    .dataframe thead th {\n",
              "        text-align: right;\n",
              "    }\n",
              "</style>\n",
              "<table border=\"1\" class=\"dataframe\">\n",
              "  <thead>\n",
              "    <tr style=\"text-align: right;\">\n",
              "      <th></th>\n",
              "      <th>clean_text</th>\n",
              "      <th>category</th>\n",
              "      <th>target</th>\n",
              "    </tr>\n",
              "  </thead>\n",
              "  <tbody>\n",
              "    <tr>\n",
              "      <th>127764</th>\n",
              "      <td>modi doesnt believes freebies free money distr...</td>\n",
              "      <td>Positivo</td>\n",
              "      <td>1</td>\n",
              "    </tr>\n",
              "    <tr>\n",
              "      <th>93684</th>\n",
              "      <td>your all scheme will applied modi dont worry p...</td>\n",
              "      <td>Positivo</td>\n",
              "      <td>1</td>\n",
              "    </tr>\n",
              "    <tr>\n",
              "      <th>69912</th>\n",
              "      <td>homi baba but not the greatest blunder india j...</td>\n",
              "      <td>Positivo</td>\n",
              "      <td>1</td>\n",
              "    </tr>\n",
              "    <tr>\n",
              "      <th>108083</th>\n",
              "      <td>your hypocrisy display your silence mob lynchi...</td>\n",
              "      <td>Neutro</td>\n",
              "      <td>2</td>\n",
              "    </tr>\n",
              "    <tr>\n",
              "      <th>111606</th>\n",
              "      <td>modis campaign all gas</td>\n",
              "      <td>Neutro</td>\n",
              "      <td>2</td>\n",
              "    </tr>\n",
              "    <tr>\n",
              "      <th>...</th>\n",
              "      <td>...</td>\n",
              "      <td>...</td>\n",
              "      <td>...</td>\n",
              "    </tr>\n",
              "    <tr>\n",
              "      <th>33418</th>\n",
              "      <td>\\nnarendar modi bjp being the post has not hol...</td>\n",
              "      <td>Positivo</td>\n",
              "      <td>1</td>\n",
              "    </tr>\n",
              "    <tr>\n",
              "      <th>110107</th>\n",
              "      <td>lok sabha election 2019 live modi protects the...</td>\n",
              "      <td>Positivo</td>\n",
              "      <td>1</td>\n",
              "    </tr>\n",
              "    <tr>\n",
              "      <th>25179</th>\n",
              "      <td>bjp will ahead achieve greater success being l...</td>\n",
              "      <td>Positivo</td>\n",
              "      <td>1</td>\n",
              "    </tr>\n",
              "    <tr>\n",
              "      <th>74327</th>\n",
              "      <td>unpopularity modi cms mps could cost nda seats...</td>\n",
              "      <td>Neutro</td>\n",
              "      <td>2</td>\n",
              "    </tr>\n",
              "    <tr>\n",
              "      <th>42143</th>\n",
              "      <td>where and department let modi jaitleyravishank...</td>\n",
              "      <td>Neutro</td>\n",
              "      <td>2</td>\n",
              "    </tr>\n",
              "  </tbody>\n",
              "</table>\n",
              "<p>122226 rows × 3 columns</p>\n",
              "</div>"
            ],
            "text/plain": [
              "                                               clean_text  category  target\n",
              "127764  modi doesnt believes freebies free money distr...  Positivo       1\n",
              "93684   your all scheme will applied modi dont worry p...  Positivo       1\n",
              "69912   homi baba but not the greatest blunder india j...  Positivo       1\n",
              "108083  your hypocrisy display your silence mob lynchi...    Neutro       2\n",
              "111606                            modis campaign all gas     Neutro       2\n",
              "...                                                   ...       ...     ...\n",
              "33418   \\nnarendar modi bjp being the post has not hol...  Positivo       1\n",
              "110107  lok sabha election 2019 live modi protects the...  Positivo       1\n",
              "25179   bjp will ahead achieve greater success being l...  Positivo       1\n",
              "74327   unpopularity modi cms mps could cost nda seats...    Neutro       2\n",
              "42143   where and department let modi jaitleyravishank...    Neutro       2\n",
              "\n",
              "[122226 rows x 3 columns]"
            ]
          },
          "execution_count": 10,
          "metadata": {},
          "output_type": "execute_result"
        }
      ],
      "source": [
        "df_train"
      ]
    },
    {
      "cell_type": "code",
      "execution_count": 11,
      "id": "59b9530a",
      "metadata": {
        "id": "59b9530a"
      },
      "outputs": [
        {
          "data": {
            "text/plain": [
              "<122226x2000 sparse matrix of type '<class 'numpy.float64'>'\n",
              "\twith 1764298 stored elements in Compressed Sparse Row format>"
            ]
          },
          "execution_count": 11,
          "metadata": {},
          "output_type": "execute_result"
        }
      ],
      "source": [
        "vectorizer = TfidfVectorizer(max_features=2000)\n",
        "X_train = vectorizer.fit_transform(df_train['clean_text'])\n",
        "X_train"
      ]
    },
    {
      "cell_type": "code",
      "execution_count": 12,
      "id": "39fe5184",
      "metadata": {
        "id": "39fe5184"
      },
      "outputs": [
        {
          "data": {
            "text/plain": [
              "<40742x2000 sparse matrix of type '<class 'numpy.float64'>'\n",
              "\twith 588380 stored elements in Compressed Sparse Row format>"
            ]
          },
          "execution_count": 12,
          "metadata": {},
          "output_type": "execute_result"
        }
      ],
      "source": [
        "X_test = vectorizer.transform(df_test['clean_text'])\n",
        "X_test"
      ]
    },
    {
      "cell_type": "code",
      "execution_count": 13,
      "id": "d0be1c77",
      "metadata": {
        "id": "d0be1c77"
      },
      "outputs": [],
      "source": [
        "Y_train = df_train['target']\n",
        "Y_test = df_test['target']"
      ]
    },
    {
      "cell_type": "code",
      "execution_count": 14,
      "id": "0753592b",
      "metadata": {
        "id": "0753592b"
      },
      "outputs": [
        {
          "name": "stdout",
          "output_type": "stream",
          "text": [
            "Train acc: 0.8942205422741479\n",
            "Test acc: 0.8922978744293358\n"
          ]
        }
      ],
      "source": [
        "model = LogisticRegression(max_iter=1000)\n",
        "model.fit(X_train, Y_train)\n",
        "print(\"Train acc:\", model.score(X_train, Y_train))\n",
        "print(\"Test acc:\", model.score(X_test, Y_test))"
      ]
    },
    {
      "cell_type": "code",
      "execution_count": 15,
      "id": "3ce9333d",
      "metadata": {
        "id": "3ce9333d"
      },
      "outputs": [
        {
          "data": {
            "text/plain": [
              "array([1, 1, 1, ..., 1, 2, 2], dtype=int64)"
            ]
          },
          "execution_count": 15,
          "metadata": {},
          "output_type": "execute_result"
        }
      ],
      "source": [
        "P_train = model.predict(X_train)\n",
        "P_test = model.predict(X_test)\n",
        "P_train"
      ]
    },
    {
      "cell_type": "code",
      "execution_count": 16,
      "id": "8bb18b0b",
      "metadata": {
        "id": "8bb18b0b"
      },
      "outputs": [
        {
          "data": {
            "text/plain": [
              "array([[0.75436232, 0.12338051, 0.12225717],\n",
              "       [0.03714861, 0.89999446, 0.06285693],\n",
              "       [0.00910342, 0.01402941, 0.97686717]])"
            ]
          },
          "execution_count": 16,
          "metadata": {},
          "output_type": "execute_result"
        }
      ],
      "source": [
        "cm = confusion_matrix(Y_train, P_train, normalize='true')\n",
        "cm"
      ]
    },
    {
      "cell_type": "code",
      "execution_count": 17,
      "id": "88c857d1",
      "metadata": {
        "id": "88c857d1"
      },
      "outputs": [],
      "source": [
        "def plot_cm(cm):\n",
        "    classes = ['negativo', 'positivo', 'neutro']\n",
        "    df_cm = pd.DataFrame(cm, index=classes, columns=classes)\n",
        "    ax = sn.heatmap(df_cm, annot=True, fmt='g')\n",
        "    ax.set_xlabel(\"Predicted\")\n",
        "    ax.set_ylabel(\"Target\")"
      ]
    },
    {
      "cell_type": "code",
      "execution_count": 18,
      "id": "06bbab3e",
      "metadata": {
        "id": "06bbab3e"
      },
      "outputs": [
        {
          "data": {
            "image/png": "[encoded data removed]",
            "text/plain": [
              "<Figure size 640x480 with 2 Axes>"
            ]
          },
          "metadata": {},
          "output_type": "display_data"
        }
      ],
      "source": [
        "cm_test = confusion_matrix(Y_test, P_test, normalize='true')\n",
        "plot_cm(cm_test)"
      ]
    },
    {
      "cell_type": "code",
      "execution_count": null,
      "id": "40aa00eb",
      "metadata": {
        "id": "40aa00eb"
      },
      "outputs": [],
      "source": []
    }
  ],
  "metadata": {
    "colab": {
      "provenance": []
    },
    "kernelspec": {
      "display_name": "Python 3 (ipykernel)",
      "language": "python",
      "name": "python3"
    },
    "language_info": {
      "codemirror_mode": {
        "name": "ipython",
        "version": 3
      },
      "file_extension": ".py",
      "mimetype": "text/x-python",
      "name": "python",
      "nbconvert_exporter": "python",
      "pygments_lexer": "ipython3",
      "version": "3.11.7"
    }
  },
  "nbformat": 4,
  "nbformat_minor": 5
}
