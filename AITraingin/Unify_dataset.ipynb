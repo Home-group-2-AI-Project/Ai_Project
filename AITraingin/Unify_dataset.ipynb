{
 "cells": [
  {
   "cell_type": "markdown",
   "metadata": {},
   "source": [
    "# AI Training\n",
    "## Se trabajan con 4 bases de datos\n",
    "\n",
    "estas bases de datos contien varios sentimientos\n",
    "\n",
    "- Kaggle\n",
    "    - [Dataset1](https://www.kaggle.com/datasets/nelgiriyewithana/emotions/data)\n",
    "- HugginFace\n",
    "    - [Dataset2](https://huggingface.co/datasets/LukeGPT88/feelings-text-classifier-eng-dataset)\n",
    "    - [Dataset3](https://huggingface.co/datasets/imsoumyaneel/sentiment-analysis-llama2)\n",
    "    - [Dataset4](https://huggingface.co/datasets/Falah/sentiments-dataset-381-classes)\n"
   ]
  },
  {
   "cell_type": "code",
   "execution_count": 1,
   "metadata": {},
   "outputs": [],
   "source": [
    "import numpy as np\n",
    "import pandas as pd\n",
    "import seaborn as sn\n",
    "import matplotlib.pyplot as plt\n",
    "from sklearn.feature_extraction.text import CountVectorizer , TfidfVectorizer\n",
    "from sklearn.linear_model import LogisticRegression\n",
    "from sklearn.metrics import roc_auc_score, f1_score, confusion_matrix\n",
    "from sklearn.model_selection import train_test_split"
   ]
  },
  {
   "cell_type": "markdown",
   "metadata": {},
   "source": [
    "### Tratamiento de los datos de cada DATASET, para unificarlo a uno solo\n"
   ]
  },
  {
   "cell_type": "code",
   "execution_count": 17,
   "metadata": {},
   "outputs": [],
   "source": [
    "#convertir dos dataset .parquet a .csv\n",
    "file_path = 'ModelosCSV/HsentimentsL.parquet'\n",
    "file_path_two = 'ModelosCSV/HsentimentsF.parquet'\n",
    "convert_df = pd.read_parquet(file_path)\n",
    "convert_df2 = pd.read_parquet(file_path_two)\n",
    "file_path_outout = 'ModelosCSV/HsentimentsL.csv'\n",
    "file_path_outout_two = 'ModelosCSV/HsentimentsF.csv'\n",
    "convert_df.to_csv(file_path_outout, index=False)\n",
    "convert_df2.to_csv(file_path_outout_two, index=False)\n"
   ]
  },
  {
   "cell_type": "code",
   "execution_count": 57,
   "metadata": {},
   "outputs": [
    {
     "data": {
      "text/html": [
       "<div>\n",
       "<style scoped>\n",
       "    .dataframe tbody tr th:only-of-type {\n",
       "        vertical-align: middle;\n",
       "    }\n",
       "\n",
       "    .dataframe tbody tr th {\n",
       "        vertical-align: top;\n",
       "    }\n",
       "\n",
       "    .dataframe thead th {\n",
       "        text-align: right;\n",
       "    }\n",
       "</style>\n",
       "<table border=\"1\" class=\"dataframe\">\n",
       "  <thead>\n",
       "    <tr style=\"text-align: right;\">\n",
       "      <th></th>\n",
       "      <th>text</th>\n",
       "      <th>label</th>\n",
       "    </tr>\n",
       "  </thead>\n",
       "  <tbody>\n",
       "    <tr>\n",
       "      <th>0</th>\n",
       "      <td>i just feel really helpless and heavy hearted</td>\n",
       "      <td>4</td>\n",
       "    </tr>\n",
       "    <tr>\n",
       "      <th>1</th>\n",
       "      <td>ive enjoyed being able to slouch about relax a...</td>\n",
       "      <td>0</td>\n",
       "    </tr>\n",
       "    <tr>\n",
       "      <th>2</th>\n",
       "      <td>i gave up my internship with the dmrg and am f...</td>\n",
       "      <td>4</td>\n",
       "    </tr>\n",
       "    <tr>\n",
       "      <th>3</th>\n",
       "      <td>i dont know i feel so lost</td>\n",
       "      <td>0</td>\n",
       "    </tr>\n",
       "    <tr>\n",
       "      <th>4</th>\n",
       "      <td>i am a kindergarten teacher and i am thoroughl...</td>\n",
       "      <td>4</td>\n",
       "    </tr>\n",
       "  </tbody>\n",
       "</table>\n",
       "</div>"
      ],
      "text/plain": [
       "                                                text  label\n",
       "0      i just feel really helpless and heavy hearted      4\n",
       "1  ive enjoyed being able to slouch about relax a...      0\n",
       "2  i gave up my internship with the dmrg and am f...      4\n",
       "3                         i dont know i feel so lost      0\n",
       "4  i am a kindergarten teacher and i am thoroughl...      4"
      ]
     },
     "execution_count": 57,
     "metadata": {},
     "output_type": "execute_result"
    },
    {
     "data": {
      "image/png": "[encoded data removed]",
      "text/plain": [
       "<Figure size 640x480 with 1 Axes>"
      ]
     },
     "metadata": {},
     "output_type": "display_data"
    }
   ],
   "source": [
    "#verificar primer dataset\n",
    "df1=pd.read_csv('ModelosCSV/Ksentiments.csv')\n",
    "#contiene 4 columnas dejare solo text and label\n",
    "df1['label'].hist()\n",
    "new_df1 = df1[['text','label']]\n",
    "new_df1.to_csv('ModelosCSV/Ksentimentsconvert.csv', index=False)\n",
    "df1c=pd.read_csv('ModelosCSV/Ksentimentsconvert.csv')\n",
    "df1c.head()\n"
   ]
  },
  {
   "cell_type": "markdown",
   "metadata": {},
   "source": [
    "| sadness | joy | love | anger | fear | surprise |\n",
    "|---------|-----|------|-------|------|----------|\n",
    "| 0       | 1   | 2    | 3     | 4    | 5        |\n"
   ]
  },
  {
   "cell_type": "code",
   "execution_count": 65,
   "metadata": {},
   "outputs": [
    {
     "data": {
      "text/html": [
       "<div>\n",
       "<style scoped>\n",
       "    .dataframe tbody tr th:only-of-type {\n",
       "        vertical-align: middle;\n",
       "    }\n",
       "\n",
       "    .dataframe tbody tr th {\n",
       "        vertical-align: top;\n",
       "    }\n",
       "\n",
       "    .dataframe thead th {\n",
       "        text-align: right;\n",
       "    }\n",
       "</style>\n",
       "<table border=\"1\" class=\"dataframe\">\n",
       "  <thead>\n",
       "    <tr style=\"text-align: right;\">\n",
       "      <th></th>\n",
       "      <th>text</th>\n",
       "      <th>label</th>\n",
       "    </tr>\n",
       "  </thead>\n",
       "  <tbody>\n",
       "    <tr>\n",
       "      <th>0</th>\n",
       "      <td>This company is all about profit over people.</td>\n",
       "      <td>3</td>\n",
       "    </tr>\n",
       "    <tr>\n",
       "      <th>1</th>\n",
       "      <td>I'm worried about my health, it's a constant f...</td>\n",
       "      <td>4</td>\n",
       "    </tr>\n",
       "    <tr>\n",
       "      <th>2</th>\n",
       "      <td>This morning I woke up feeling grateful for ev...</td>\n",
       "      <td>1</td>\n",
       "    </tr>\n",
       "    <tr>\n",
       "      <th>3</th>\n",
       "      <td>The thought of not being able to take care of ...</td>\n",
       "      <td>6</td>\n",
       "    </tr>\n",
       "    <tr>\n",
       "      <th>4</th>\n",
       "      <td>I've been having trouble sleeping for weeks, a...</td>\n",
       "      <td>6</td>\n",
       "    </tr>\n",
       "  </tbody>\n",
       "</table>\n",
       "</div>"
      ],
      "text/plain": [
       "                                                text  label\n",
       "0      This company is all about profit over people.      3\n",
       "1  I'm worried about my health, it's a constant f...      4\n",
       "2  This morning I woke up feeling grateful for ev...      1\n",
       "3  The thought of not being able to take care of ...      6\n",
       "4  I've been having trouble sleeping for weeks, a...      6"
      ]
     },
     "execution_count": 65,
     "metadata": {},
     "output_type": "execute_result"
    },
    {
     "data": {
      "image/png": "[encoded data removed]",
      "text/plain": [
       "<Figure size 640x480 with 1 Axes>"
      ]
     },
     "metadata": {},
     "output_type": "display_data"
    }
   ],
   "source": [
    "#verificar segundo dataset\n",
    "df2=pd.read_csv('ModelosCSV/HsentimentsL.csv')\n",
    "#contiene 4 columnas dejare solo Text and Label_encoding\n",
    "target_map = {0: 3, 1: 6, 2: 4,3:1}\n",
    "df2['label'] = df2['Label_encoding'].map(target_map)\n",
    "df2['label'].hist()\n",
    "new_df2 = df2[['Text','label']]\n",
    "new_df2.to_csv('ModelosCSV/HsentimentsLconvert.csv', index=False)\n",
    "df2c=pd.read_csv('ModelosCSV/HsentimentsLconvert.csv')\n",
    "df2c = df2c.rename(columns={'Text': 'text'})\n",
    "df2c.head()\n"
   ]
  },
  {
   "cell_type": "markdown",
   "metadata": {},
   "source": [
    "| Anger | Anxiety | Fear | Happiness |\n",
    "|---------|-----|------|-------|\n",
    "| 3       | 6  | 4    | 1     | \n"
   ]
  },
  {
   "cell_type": "markdown",
   "metadata": {},
   "source": [
    "Se creo una nueva celda en df2 llamada target en donde siguiera la secuencia del dataset1 df1"
   ]
  },
  {
   "cell_type": "code",
   "execution_count": 64,
   "metadata": {},
   "outputs": [
    {
     "data": {
      "text/html": [
       "<div>\n",
       "<style scoped>\n",
       "    .dataframe tbody tr th:only-of-type {\n",
       "        vertical-align: middle;\n",
       "    }\n",
       "\n",
       "    .dataframe tbody tr th {\n",
       "        vertical-align: top;\n",
       "    }\n",
       "\n",
       "    .dataframe thead th {\n",
       "        text-align: right;\n",
       "    }\n",
       "</style>\n",
       "<table border=\"1\" class=\"dataframe\">\n",
       "  <thead>\n",
       "    <tr style=\"text-align: right;\">\n",
       "      <th></th>\n",
       "      <th>text</th>\n",
       "      <th>label</th>\n",
       "    </tr>\n",
       "  </thead>\n",
       "  <tbody>\n",
       "    <tr>\n",
       "      <th>0</th>\n",
       "      <td>I'll throw out the garbage .</td>\n",
       "      <td>7</td>\n",
       "    </tr>\n",
       "    <tr>\n",
       "      <th>1</th>\n",
       "      <td>So Dick , how about getting some coffee for to...</td>\n",
       "      <td>1</td>\n",
       "    </tr>\n",
       "    <tr>\n",
       "      <th>2</th>\n",
       "      <td>Come on , you can at least try a little , besi...</td>\n",
       "      <td>7</td>\n",
       "    </tr>\n",
       "    <tr>\n",
       "      <th>3</th>\n",
       "      <td>What ’ s wrong with that ? Cigarette is the th...</td>\n",
       "      <td>3</td>\n",
       "    </tr>\n",
       "    <tr>\n",
       "      <th>4</th>\n",
       "      <td>Not for me , Dick .</td>\n",
       "      <td>7</td>\n",
       "    </tr>\n",
       "  </tbody>\n",
       "</table>\n",
       "</div>"
      ],
      "text/plain": [
       "                                                text  label\n",
       "0                       I'll throw out the garbage .      7\n",
       "1  So Dick , how about getting some coffee for to...      1\n",
       "2  Come on , you can at least try a little , besi...      7\n",
       "3  What ’ s wrong with that ? Cigarette is the th...      3\n",
       "4                                Not for me , Dick .      7"
      ]
     },
     "execution_count": 64,
     "metadata": {},
     "output_type": "execute_result"
    },
    {
     "data": {
      "image/png": "[encoded data removed]",
      "text/plain": [
       "<Figure size 640x480 with 1 Axes>"
      ]
     },
     "metadata": {},
     "output_type": "display_data"
    }
   ],
   "source": [
    "#verificar tercer dataset\n",
    "df3=pd.read_csv('ModelosCSV/HsentimentsI.csv')\n",
    "df3.head()\n",
    "#contiene 4 columnas dejare solo sentence and label\n",
    "target_map = {'neutral': 7, 'joy': 1, 'anger': 3,'surprise':5, 'sadness': 0,'fear':4,'love':2}\n",
    "df3['label2'] = df3['label'].map(target_map)\n",
    "df3['label2'].hist()\n",
    "df3.head()\n",
    "new_df3 = df3[['sentence','label2']]\n",
    "new_df3.to_csv('ModelosCSV/HsentimentsIconvert.csv', index=False)\n",
    "df3c=pd.read_csv('ModelosCSV/HsentimentsIconvert.csv')\n",
    "df3c = df3c.rename(columns={'sentence': 'text', 'label2': 'label'})\n",
    "df3c.head()"
   ]
  },
  {
   "cell_type": "markdown",
   "metadata": {},
   "source": [
    "| neutral | joy | anger | surprise | sadness | fear | love |\n",
    "|---------|-----|------|-------|-----|------|-------|\n",
    "| 7       | 1  | 3    | 5    |  0  | 4    | 2     | "
   ]
  },
  {
   "cell_type": "markdown",
   "metadata": {},
   "source": [
    "new_df4 = df4[['text','sentiment']]\n",
    "new_df4.to_csv('ModelosCSV/HsentimentsFconvert.csv', index=False)\n",
    "df4c=pd.read_csv('ModelosCSV/HsentimentsFconvert.csv')\n",
    "df4c = df4c.rename(columns={'sentiment': 'label'})\n",
    "labels, uniques = pd.factorize(df4['sentiment'])\n",
    "target_map = dict(zip(uniques, labels))\n",
    "df4['label'] = df4['sentiment'].map(target_map)\n",
    "\n",
    "\n",
    "target_map = {'sad': 0,'joyfull': 1,'happy': 1,'angry': 3,'surprises':5,'anxious':6,'neutral':7,'positive':8,'negative':9}\n",
    "df4['label'] = df4['sentiment'].map(target_map)"
   ]
  },
  {
   "cell_type": "code",
   "execution_count": 98,
   "metadata": {},
   "outputs": [
    {
     "name": "stdout",
     "output_type": "stream",
     "text": [
      "381\n"
     ]
    },
    {
     "data": {
      "text/html": [
       "<div>\n",
       "<style scoped>\n",
       "    .dataframe tbody tr th:only-of-type {\n",
       "        vertical-align: middle;\n",
       "    }\n",
       "\n",
       "    .dataframe tbody tr th {\n",
       "        vertical-align: top;\n",
       "    }\n",
       "\n",
       "    .dataframe thead th {\n",
       "        text-align: right;\n",
       "    }\n",
       "</style>\n",
       "<table border=\"1\" class=\"dataframe\">\n",
       "  <thead>\n",
       "    <tr style=\"text-align: right;\">\n",
       "      <th></th>\n",
       "      <th>text</th>\n",
       "      <th>label</th>\n",
       "    </tr>\n",
       "  </thead>\n",
       "  <tbody>\n",
       "    <tr>\n",
       "      <th>0</th>\n",
       "      <td>I'm overjoyed with the results! My hard work h...</td>\n",
       "      <td>8.0</td>\n",
       "    </tr>\n",
       "    <tr>\n",
       "      <th>1</th>\n",
       "      <td>This news broke my heart. I can't believe it's...</td>\n",
       "      <td>9.0</td>\n",
       "    </tr>\n",
       "    <tr>\n",
       "      <th>2</th>\n",
       "      <td>I feel ecstatic about the upcoming vacation. C...</td>\n",
       "      <td>8.0</td>\n",
       "    </tr>\n",
       "    <tr>\n",
       "      <th>3</th>\n",
       "      <td>Today was just an ordinary day. Nothing specia...</td>\n",
       "      <td>7.0</td>\n",
       "    </tr>\n",
       "    <tr>\n",
       "      <th>4</th>\n",
       "      <td>I'm furious! How could they treat me like that?</td>\n",
       "      <td>9.0</td>\n",
       "    </tr>\n",
       "    <tr>\n",
       "      <th>...</th>\n",
       "      <td>...</td>\n",
       "      <td>...</td>\n",
       "    </tr>\n",
       "    <tr>\n",
       "      <th>1056</th>\n",
       "      <td>his fighting skills were legendary, making him...</td>\n",
       "      <td>115.0</td>\n",
       "    </tr>\n",
       "    <tr>\n",
       "      <th>1057</th>\n",
       "      <td>the news of his tragic death left the communit...</td>\n",
       "      <td>160.0</td>\n",
       "    </tr>\n",
       "    <tr>\n",
       "      <th>1058</th>\n",
       "      <td>their marriage was a celebration of love and u...</td>\n",
       "      <td>90.0</td>\n",
       "    </tr>\n",
       "    <tr>\n",
       "      <th>1059</th>\n",
       "      <td>he embarked on a thrilling travel adventure, e...</td>\n",
       "      <td>327.0</td>\n",
       "    </tr>\n",
       "    <tr>\n",
       "      <th>1060</th>\n",
       "      <td>the fighters faced off in an intense battle, t...</td>\n",
       "      <td>296.0</td>\n",
       "    </tr>\n",
       "  </tbody>\n",
       "</table>\n",
       "<p>1061 rows × 2 columns</p>\n",
       "</div>"
      ],
      "text/plain": [
       "                                                   text  label\n",
       "0     I'm overjoyed with the results! My hard work h...    8.0\n",
       "1     This news broke my heart. I can't believe it's...    9.0\n",
       "2     I feel ecstatic about the upcoming vacation. C...    8.0\n",
       "3     Today was just an ordinary day. Nothing specia...    7.0\n",
       "4       I'm furious! How could they treat me like that?    9.0\n",
       "...                                                 ...    ...\n",
       "1056  his fighting skills were legendary, making him...  115.0\n",
       "1057  the news of his tragic death left the communit...  160.0\n",
       "1058  their marriage was a celebration of love and u...   90.0\n",
       "1059  he embarked on a thrilling travel adventure, e...  327.0\n",
       "1060  the fighters faced off in an intense battle, t...  296.0\n",
       "\n",
       "[1061 rows x 2 columns]"
      ]
     },
     "execution_count": 98,
     "metadata": {},
     "output_type": "execute_result"
    }
   ],
   "source": [
    "#verificar cuarta dataset\n",
    "df4=pd.read_csv('ModelosCSV/HsentimentsF.csv')\n",
    "#contiene 4 columnas dejare solo text and sentiment\n",
    "print(len(df4['sentiment'].unique()))\n",
    "df4['sentiment'] = df4['sentiment'].str.lower()\n",
    "sentimientos_unicos = df4['sentiment'].unique()\n",
    "lista_sentimientos = sentimientos_unicos.tolist()\n",
    "sentimientos_eliminar = ['sad', 'joyful', 'happy', 'angry', 'surprises', 'anxious', 'neutral', 'positive', 'negative']\n",
    "for sentimiento in sentimientos_eliminar:\n",
    "    if sentimiento in lista_sentimientos:\n",
    "        lista_sentimientos.remove(sentimiento)\n",
    "target_map = {sentimiento: valor for valor, sentimiento in enumerate(lista_sentimientos, start=9)}\n",
    "target_map_original = {'sad': 0,'joyfull': 1,'happy': 1,'angry': 3,'surprises':5,'anxious':6,'neutral':7,'positive':8,'negative':9}\n",
    "target_map.update(target_map_original)\n",
    "df4['label'] = df4['sentiment'].map(target_map)\n",
    "df4\n",
    "\n",
    "new_df4_use = df4[['text','label']]\n",
    "new_df4_data = df4[['text','sentiment','label']]\n",
    "new_df4_use.to_csv('ModelosCSV/HsentimentsFconvert.csv', index=False)\n",
    "new_df4_data.to_csv('ModelosCSV/HsentimentsFconvert_data.csv', index=False)\n",
    "df4c=pd.read_csv('ModelosCSV/HsentimentsFconvert.csv')\n",
    "df4c\n"
   ]
  },
  {
   "cell_type": "markdown",
   "metadata": {},
   "source": [
    "### para el Dataset anterior se tienen 381 sentimientos\n",
    "\n",
    "- lo que se hizo en la anterior celda, fue guardar los datos en dos csv diferentes.\n",
    "    - el primero, tiene dos culumnas, text y label, las cuales contiene lo que necesitamos para entrenar a la IA.\n",
    "    - la segunda, contiene text,sentiment,label para tener un orden de a que sentimiento, pertenece cada dato"
   ]
  },
  {
   "cell_type": "markdown",
   "metadata": {},
   "source": [
    "## Union de datasets\n"
   ]
  },
  {
   "cell_type": "code",
   "execution_count": 100,
   "metadata": {},
   "outputs": [
    {
     "name": "stdout",
     "output_type": "stream",
     "text": [
      "                                                text  label\n",
      "0      i just feel really helpless and heavy hearted    4.0\n",
      "1  ive enjoyed being able to slouch about relax a...    0.0\n",
      "2  i gave up my internship with the dmrg and am f...    4.0\n",
      "3                         i dont know i feel so lost    0.0\n",
      "4  i am a kindergarten teacher and i am thoroughl...    4.0\n"
     ]
    }
   ],
   "source": [
    "merged_df = pd.concat([df1c, df2c, df3c, df4c], ignore_index=True)\n",
    "print(merged_df.head())\n",
    "len(merged_df)\n",
    "merged_df.to_csv('ModelosCSV/merged_dataset.csv', index=False)"
   ]
  }
 ],
 "metadata": {
  "kernelspec": {
   "display_name": "base",
   "language": "python",
   "name": "python3"
  },
  "language_info": {
   "codemirror_mode": {
    "name": "ipython",
    "version": 3
   },
   "file_extension": ".py",
   "mimetype": "text/x-python",
   "name": "python",
   "nbconvert_exporter": "python",
   "pygments_lexer": "ipython3",
   "version": "3.11.7"
  }
 },
 "nbformat": 4,
 "nbformat_minor": 2
}
