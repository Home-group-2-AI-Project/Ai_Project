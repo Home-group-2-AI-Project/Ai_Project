{
 "cells": [
  {
   "cell_type": "markdown",
   "metadata": {},
   "source": [
    "# AI Training\n",
    "\n",
    "## Cargado de Datos\n",
    "\n",
    "Se trabaja con la base de datos llamada **merged_dataset_seven_sentiments.csv**, que se obtiene corriendo el codigo del archivo **Unify_dataset.ipynb**\n"
   ]
  },
  {
   "cell_type": "markdown",
   "metadata": {},
   "source": [
    "los sentimientos usados son\n",
    "| sadness | joy/happ | love | anger | fear | surprise | neutral |\n",
    "|---------|-----|------|-------|-----|------|-------|\n",
    "| 0      | 1  | 2   | 3   |  4  | 5    | 6     | "
   ]
  },
  {
   "cell_type": "code",
   "execution_count": 1,
   "metadata": {},
   "outputs": [],
   "source": [
    "import numpy as np\n",
    "import pandas as pd\n",
    "import seaborn as sn\n",
    "import matplotlib.pyplot as plt\n",
    "from sklearn.feature_extraction.text import CountVectorizer , TfidfVectorizer\n",
    "from sklearn.linear_model import LogisticRegression\n",
    "from sklearn.metrics import roc_auc_score, f1_score, confusion_matrix\n",
    "from sklearn.model_selection import train_test_split\n",
    "from joblib import dump"
   ]
  },
  {
   "cell_type": "code",
   "execution_count": 4,
   "metadata": {},
   "outputs": [
    {
     "data": {
      "text/html": [
       "<div>\n",
       "<style scoped>\n",
       "    .dataframe tbody tr th:only-of-type {\n",
       "        vertical-align: middle;\n",
       "    }\n",
       "\n",
       "    .dataframe tbody tr th {\n",
       "        vertical-align: top;\n",
       "    }\n",
       "\n",
       "    .dataframe thead th {\n",
       "        text-align: right;\n",
       "    }\n",
       "</style>\n",
       "<table border=\"1\" class=\"dataframe\">\n",
       "  <thead>\n",
       "    <tr style=\"text-align: right;\">\n",
       "      <th></th>\n",
       "      <th>text</th>\n",
       "      <th>label</th>\n",
       "    </tr>\n",
       "  </thead>\n",
       "  <tbody>\n",
       "    <tr>\n",
       "      <th>0</th>\n",
       "      <td>i always feel ashamed for losing my temper at ...</td>\n",
       "      <td>0.0</td>\n",
       "    </tr>\n",
       "    <tr>\n",
       "      <th>1</th>\n",
       "      <td>i just want to tell people i feel humiliated</td>\n",
       "      <td>0.0</td>\n",
       "    </tr>\n",
       "    <tr>\n",
       "      <th>2</th>\n",
       "      <td>i was feeling rotten but i didnt let that be a...</td>\n",
       "      <td>0.0</td>\n",
       "    </tr>\n",
       "    <tr>\n",
       "      <th>3</th>\n",
       "      <td>i started missing my natural hair colour and f...</td>\n",
       "      <td>0.0</td>\n",
       "    </tr>\n",
       "    <tr>\n",
       "      <th>4</th>\n",
       "      <td>i am tired of feeling beaten and bruised and s...</td>\n",
       "      <td>0.0</td>\n",
       "    </tr>\n",
       "    <tr>\n",
       "      <th>...</th>\n",
       "      <td>...</td>\n",
       "      <td>...</td>\n",
       "    </tr>\n",
       "    <tr>\n",
       "      <th>509330</th>\n",
       "      <td>So many players from the current crop are goin...</td>\n",
       "      <td>6.0</td>\n",
       "    </tr>\n",
       "    <tr>\n",
       "      <th>509331</th>\n",
       "      <td>:((</td>\n",
       "      <td>6.0</td>\n",
       "    </tr>\n",
       "    <tr>\n",
       "      <th>509332</th>\n",
       "      <td>Hi , do you know what ’ s for dinner ? I ’ m s...</td>\n",
       "      <td>6.0</td>\n",
       "    </tr>\n",
       "    <tr>\n",
       "      <th>509333</th>\n",
       "      <td>But I still think AC milan's defence seems bet...</td>\n",
       "      <td>6.0</td>\n",
       "    </tr>\n",
       "    <tr>\n",
       "      <th>509334</th>\n",
       "      <td>Do you have a fever ?</td>\n",
       "      <td>6.0</td>\n",
       "    </tr>\n",
       "  </tbody>\n",
       "</table>\n",
       "<p>509335 rows × 2 columns</p>\n",
       "</div>"
      ],
      "text/plain": [
       "                                                     text  label\n",
       "0       i always feel ashamed for losing my temper at ...    0.0\n",
       "1            i just want to tell people i feel humiliated    0.0\n",
       "2       i was feeling rotten but i didnt let that be a...    0.0\n",
       "3       i started missing my natural hair colour and f...    0.0\n",
       "4       i am tired of feeling beaten and bruised and s...    0.0\n",
       "...                                                   ...    ...\n",
       "509330  So many players from the current crop are goin...    6.0\n",
       "509331                                                :((    6.0\n",
       "509332  Hi , do you know what ’ s for dinner ? I ’ m s...    6.0\n",
       "509333  But I still think AC milan's defence seems bet...    6.0\n",
       "509334                              Do you have a fever ?    6.0\n",
       "\n",
       "[509335 rows x 2 columns]"
      ]
     },
     "execution_count": 4,
     "metadata": {},
     "output_type": "execute_result"
    }
   ],
   "source": [
    "df=pd.read_csv('./Modeloscsv/merged_dataset_seven_sentiments.csv')\n",
    "df"
   ]
  },
  {
   "cell_type": "code",
   "execution_count": 5,
   "metadata": {},
   "outputs": [
    {
     "data": {
      "text/plain": [
       "text     0\n",
       "label    0\n",
       "dtype: int64"
      ]
     },
     "execution_count": 5,
     "metadata": {},
     "output_type": "execute_result"
    }
   ],
   "source": [
    "df = df.dropna()\n",
    "df.isnull().sum()"
   ]
  },
  {
   "cell_type": "markdown",
   "metadata": {},
   "source": [
    "## Visualización de Datos"
   ]
  },
  {
   "cell_type": "code",
   "execution_count": 6,
   "metadata": {},
   "outputs": [
    {
     "data": {
      "text/plain": [
       "<Axes: title={'center': 'Count of Sentiments'}, xlabel='label'>"
      ]
     },
     "execution_count": 6,
     "metadata": {},
     "output_type": "execute_result"
    },
    {
     "data": {
      "image/png": "[encoded data removed]",
      "text/plain": [
       "<Figure size 640x480 with 1 Axes>"
      ]
     },
     "metadata": {},
     "output_type": "display_data"
    }
   ],
   "source": [
    "sentiment_count = df.label.value_counts()\n",
    "sentiment_count.plot(kind=\"bar\", title=\"Count of Sentiments\")"
   ]
  },
  {
   "cell_type": "code",
   "execution_count": 7,
   "metadata": {},
   "outputs": [
    {
     "data": {
      "image/png": "[encoded data removed]",
      "text/plain": [
       "<Figure size 640x480 with 1 Axes>"
      ]
     },
     "metadata": {},
     "output_type": "display_data"
    }
   ],
   "source": [
    "labels = df[\"label\"].value_counts().index\n",
    "plt.pie(df[\"label\"].value_counts(), autopct='%1.1f%%')\n",
    "plt.legend(labels, bbox_to_anchor=(1.27, 1))\n",
    "plt.title(\"Sentiments (%)\")\n",
    "plt.show()"
   ]
  },
  {
   "cell_type": "markdown",
   "metadata": {},
   "source": [
    "## Preprocesado de datos"
   ]
  },
  {
   "cell_type": "code",
   "execution_count": 8,
   "metadata": {},
   "outputs": [
    {
     "data": {
      "text/plain": [
       "array([0., 1., 2., 3., 4., 5., 6.])"
      ]
     },
     "execution_count": 8,
     "metadata": {},
     "output_type": "execute_result"
    }
   ],
   "source": [
    "df[\"label\"].unique()"
   ]
  },
  {
   "cell_type": "code",
   "execution_count": 10,
   "metadata": {},
   "outputs": [
    {
     "name": "stderr",
     "output_type": "stream",
     "text": [
      "[nltk_data] Downloading package punkt to /home/davidcv/nltk_data...\n",
      "[nltk_data]   Package punkt is already up-to-date!\n",
      "[nltk_data] Downloading package stopwords to\n",
      "[nltk_data]     /home/davidcv/nltk_data...\n",
      "[nltk_data]   Package stopwords is already up-to-date!\n"
     ]
    },
    {
     "data": {
      "text/plain": [
       "True"
      ]
     },
     "execution_count": 10,
     "metadata": {},
     "output_type": "execute_result"
    }
   ],
   "source": [
    "from nltk.tokenize import word_tokenize\n",
    "from nltk.corpus import stopwords\n",
    "import re\n",
    "import nltk\n",
    "nltk.download(\"punkt\")\n",
    "nltk.download(\"stopwords\")"
   ]
  },
  {
   "cell_type": "code",
   "execution_count": 11,
   "metadata": {},
   "outputs": [],
   "source": [
    "\n",
    "# Contraction dictionary\n",
    "contractions = {\n",
    "    \"aren't\": \"are not\",\n",
    "    \"can't\": \"cannot\",\n",
    "    \"couldn't\": \"could not\",\n",
    "    \"didn't\": \"did not\",\n",
    "    \"doesn't\": \"does not\",\n",
    "    \"don't\": \"do not\",\n",
    "    \"hadn't\": \"had not\",\n",
    "    \"hasn't\": \"has not\",\n",
    "    \"haven't\": \"have not\",\n",
    "    \"he'd\": \"he had\",\n",
    "    \"he'll\": \"he will\",\n",
    "    \"he's\": \"he is\",\n",
    "    \"I'd\": \"I had\",\n",
    "    \"I'll\": \"I will\",\n",
    "    \"I'm\": \"I am\",\n",
    "    \"I've\": \"I have\",\n",
    "    \"isn't\": \"is not\",\n",
    "    \"let's\": \"let us\",\n",
    "    \"mightn't\": \"might not\",\n",
    "    \"mustn't\": \"must not\",\n",
    "    \"shan't\": \"shall not\",\n",
    "    \"she'd\": \"she had\",\n",
    "    \"she'll\": \"she will\",\n",
    "    \"she's\": \"she is\",\n",
    "    \"shouldn't\": \"should not\",\n",
    "    \"that's\": \"that is\",\n",
    "    \"there's\": \"there is\",\n",
    "    \"they'd\": \"they had\",\n",
    "    \"they'll\": \"they will\",\n",
    "    \"they're\": \"they are\",\n",
    "    \"they've\": \"they have\",\n",
    "    \"we'd\": \"we had\",\n",
    "    \"we're\": \"we are\",\n",
    "    \"we've\": \"we have\",\n",
    "    \"weren't\": \"were not\",\n",
    "    \"what'll\": \"what will\",\n",
    "    \"what're\": \"what are\",\n",
    "    \"what's\": \"what is\",\n",
    "    \"what've\": \"what have\",\n",
    "    \"where's\": \"where is\",\n",
    "    \"who's\": \"who had\",\n",
    "    \"who'll\": \"who will\",\n",
    "    \"who're\": \"who are\",\n",
    "    \"who's\": \"who is\",\n",
    "    \"who've\": \"who have\",\n",
    "    \"won't\": \"will not\",\n",
    "    \"wouldn't\": \"would not\",\n",
    "    \"wouldnt\": \"would not\",\n",
    "    \"you'd\": \"you had\",\n",
    "    \"you'll\": \"you will\",\n",
    "    \"you're\": \"you are\",\n",
    "    \"you've\": \"you have\",\n",
    "    \"arent\": \"are not\",\n",
    "    \"cant\": \"cannot\",\n",
    "    \"couldnt\": \"could not\",\n",
    "    \"didnt\": \"did not\",\n",
    "    \"doesnt\": \"does not\",\n",
    "    \"dont\": \"do not\",\n",
    "    \"hadnt\": \"had not\",\n",
    "    \"hasnt\": \"has not\",\n",
    "    \"havent\": \"have not\",\n",
    "    \"Id\": \"I had\",\n",
    "    \"Ill\": \"I will\",\n",
    "    \"Im\": \"I am\",\n",
    "    \"Ive\": \"I have\",\n",
    "    \"isnt\": \"is not\",\n",
    "    \"lets\": \"let us\",\n",
    "    \"mightnt\": \"might not\",\n",
    "    \"mustnt\": \"must not\",\n",
    "    \"shouldnt\": \"should not\",\n",
    "    \"werent\": \"were not\",\n",
    "    \"gonna\": \"going to\",\n",
    "    \"imma\": \"i am going to\"\n",
    "}"
   ]
  },
  {
   "cell_type": "code",
   "execution_count": 12,
   "metadata": {},
   "outputs": [],
   "source": [
    "import unicodedata\n",
    "\n",
    "\n",
    "def clean_text(text):\n",
    "\n",
    "    # lower case conversion\n",
    "    text = text.lower()\n",
    "\n",
    "    # Decontrating: rewriting text without the contrations. Ex.: I'm = I am; aren't = are not ...\n",
    "    if type(text) is str:\n",
    "        for key in contractions:\n",
    "            value = contractions[key]\n",
    "            text = text.replace(key, value)\n",
    "\n",
    "    # remove emails\n",
    "    text = re.sub(\n",
    "        r\"([a-zA-Z0-9+._-]+@[a-zA-Z0-9+._-]+\\.[a-zA-Z0-9+._-]+)\", \" \", text)\n",
    "\n",
    "    # remove hyperlink\n",
    "    text = re.sub(\n",
    "        r\"(http|ftp|https)://([\\w_-]+(?:(?:\\.[\\w_-]+)+))([\\w.,@?^=%&:/~+#-]*[\\w@?^=%&/~+#-])?\", \" \", text)\n",
    "\n",
    "    # remove rt\n",
    "    text = re.sub(r\"RT[\\s]+\", \"\", text)\n",
    "\n",
    "    # Remove empty spaces\n",
    "    text = \" \".join([t.strip() for t in text.split()])\n",
    "\n",
    "    # Deleting user mention (@user):\n",
    "    text = re.sub(r\"@[A-Za-z0-9]+\", \"\", text)\n",
    "\n",
    "    # remove accented characters\n",
    "    text = unicodedata.normalize(\"NFKD\", text).encode(\n",
    "        \"ascii\", \"ignore\").decode(\"utf-8\", \"ignore\")\n",
    "\n",
    "    # remove remaining special caracters\n",
    "    text = re.sub(r\"[^A-Za-z\\s]\", \"\", text)\n",
    "\n",
    "    return text"
   ]
  },
  {
   "cell_type": "code",
   "execution_count": 13,
   "metadata": {},
   "outputs": [],
   "source": [
    "df[\"text\"] = df[\"text\"].apply(clean_text)"
   ]
  },
  {
   "cell_type": "code",
   "execution_count": 16,
   "metadata": {},
   "outputs": [
    {
     "name": "stdout",
     "output_type": "stream",
     "text": [
      "Collecting en-core-web-sm==3.7.1\n",
      "  Downloading https://github.com/explosion/spacy-models/releases/download/en_core_web_sm-3.7.1/en_core_web_sm-3.7.1-py3-none-any.whl (12.8 MB)\n",
      "\u001b[2K     \u001b[38;2;114;156;31m━━━━━━━━━━━━━━━━━━━━━━━━━━━━━━━━━━━━━━━\u001b[0m \u001b[32m12.8/12.8 MB\u001b[0m \u001b[31m220.0 kB/s\u001b[0m eta \u001b[36m0:00:00\u001b[0mm eta \u001b[36m0:00:01\u001b[0m[36m0:00:02\u001b[0m\n",
      "\u001b[?25hRequirement already satisfied: spacy<3.8.0,>=3.7.2 in ./venv/lib64/python3.11/site-packages (from en-core-web-sm==3.7.1) (3.7.4)\n",
      "Requirement already satisfied: spacy-legacy<3.1.0,>=3.0.11 in ./venv/lib64/python3.11/site-packages (from spacy<3.8.0,>=3.7.2->en-core-web-sm==3.7.1) (3.0.12)\n",
      "Requirement already satisfied: spacy-loggers<2.0.0,>=1.0.0 in ./venv/lib64/python3.11/site-packages (from spacy<3.8.0,>=3.7.2->en-core-web-sm==3.7.1) (1.0.5)\n",
      "Requirement already satisfied: murmurhash<1.1.0,>=0.28.0 in ./venv/lib64/python3.11/site-packages (from spacy<3.8.0,>=3.7.2->en-core-web-sm==3.7.1) (1.0.10)\n",
      "Requirement already satisfied: cymem<2.1.0,>=2.0.2 in ./venv/lib64/python3.11/site-packages (from spacy<3.8.0,>=3.7.2->en-core-web-sm==3.7.1) (2.0.8)\n",
      "Requirement already satisfied: preshed<3.1.0,>=3.0.2 in ./venv/lib64/python3.11/site-packages (from spacy<3.8.0,>=3.7.2->en-core-web-sm==3.7.1) (3.0.9)\n",
      "Requirement already satisfied: thinc<8.3.0,>=8.2.2 in ./venv/lib64/python3.11/site-packages (from spacy<3.8.0,>=3.7.2->en-core-web-sm==3.7.1) (8.2.3)\n",
      "Requirement already satisfied: wasabi<1.2.0,>=0.9.1 in ./venv/lib64/python3.11/site-packages (from spacy<3.8.0,>=3.7.2->en-core-web-sm==3.7.1) (1.1.2)\n",
      "Requirement already satisfied: srsly<3.0.0,>=2.4.3 in ./venv/lib64/python3.11/site-packages (from spacy<3.8.0,>=3.7.2->en-core-web-sm==3.7.1) (2.4.8)\n",
      "Requirement already satisfied: catalogue<2.1.0,>=2.0.6 in ./venv/lib64/python3.11/site-packages (from spacy<3.8.0,>=3.7.2->en-core-web-sm==3.7.1) (2.0.10)\n",
      "Requirement already satisfied: weasel<0.4.0,>=0.1.0 in ./venv/lib64/python3.11/site-packages (from spacy<3.8.0,>=3.7.2->en-core-web-sm==3.7.1) (0.3.4)\n",
      "Requirement already satisfied: typer<0.10.0,>=0.3.0 in ./venv/lib64/python3.11/site-packages (from spacy<3.8.0,>=3.7.2->en-core-web-sm==3.7.1) (0.9.4)\n",
      "Requirement already satisfied: smart-open<7.0.0,>=5.2.1 in ./venv/lib64/python3.11/site-packages (from spacy<3.8.0,>=3.7.2->en-core-web-sm==3.7.1) (6.4.0)\n",
      "Requirement already satisfied: tqdm<5.0.0,>=4.38.0 in ./venv/lib64/python3.11/site-packages (from spacy<3.8.0,>=3.7.2->en-core-web-sm==3.7.1) (4.66.4)\n",
      "Requirement already satisfied: requests<3.0.0,>=2.13.0 in ./venv/lib64/python3.11/site-packages (from spacy<3.8.0,>=3.7.2->en-core-web-sm==3.7.1) (2.31.0)\n",
      "Requirement already satisfied: pydantic!=1.8,!=1.8.1,<3.0.0,>=1.7.4 in ./venv/lib64/python3.11/site-packages (from spacy<3.8.0,>=3.7.2->en-core-web-sm==3.7.1) (2.7.1)\n",
      "Requirement already satisfied: jinja2 in ./venv/lib64/python3.11/site-packages (from spacy<3.8.0,>=3.7.2->en-core-web-sm==3.7.1) (3.1.3)\n",
      "Requirement already satisfied: setuptools in ./venv/lib64/python3.11/site-packages (from spacy<3.8.0,>=3.7.2->en-core-web-sm==3.7.1) (65.5.1)\n",
      "Requirement already satisfied: packaging>=20.0 in ./venv/lib64/python3.11/site-packages (from spacy<3.8.0,>=3.7.2->en-core-web-sm==3.7.1) (24.0)\n",
      "Requirement already satisfied: langcodes<4.0.0,>=3.2.0 in ./venv/lib64/python3.11/site-packages (from spacy<3.8.0,>=3.7.2->en-core-web-sm==3.7.1) (3.4.0)\n",
      "Requirement already satisfied: numpy>=1.19.0 in ./venv/lib64/python3.11/site-packages (from spacy<3.8.0,>=3.7.2->en-core-web-sm==3.7.1) (1.26.4)\n",
      "Requirement already satisfied: language-data>=1.2 in ./venv/lib64/python3.11/site-packages (from langcodes<4.0.0,>=3.2.0->spacy<3.8.0,>=3.7.2->en-core-web-sm==3.7.1) (1.2.0)\n",
      "Requirement already satisfied: annotated-types>=0.4.0 in ./venv/lib64/python3.11/site-packages (from pydantic!=1.8,!=1.8.1,<3.0.0,>=1.7.4->spacy<3.8.0,>=3.7.2->en-core-web-sm==3.7.1) (0.6.0)\n",
      "Requirement already satisfied: pydantic-core==2.18.2 in ./venv/lib64/python3.11/site-packages (from pydantic!=1.8,!=1.8.1,<3.0.0,>=1.7.4->spacy<3.8.0,>=3.7.2->en-core-web-sm==3.7.1) (2.18.2)\n",
      "Requirement already satisfied: typing-extensions>=4.6.1 in ./venv/lib64/python3.11/site-packages (from pydantic!=1.8,!=1.8.1,<3.0.0,>=1.7.4->spacy<3.8.0,>=3.7.2->en-core-web-sm==3.7.1) (4.11.0)\n",
      "Requirement already satisfied: charset-normalizer<4,>=2 in ./venv/lib64/python3.11/site-packages (from requests<3.0.0,>=2.13.0->spacy<3.8.0,>=3.7.2->en-core-web-sm==3.7.1) (3.3.2)\n",
      "Requirement already satisfied: idna<4,>=2.5 in ./venv/lib64/python3.11/site-packages (from requests<3.0.0,>=2.13.0->spacy<3.8.0,>=3.7.2->en-core-web-sm==3.7.1) (3.7)\n",
      "Requirement already satisfied: urllib3<3,>=1.21.1 in ./venv/lib64/python3.11/site-packages (from requests<3.0.0,>=2.13.0->spacy<3.8.0,>=3.7.2->en-core-web-sm==3.7.1) (2.2.1)\n",
      "Requirement already satisfied: certifi>=2017.4.17 in ./venv/lib64/python3.11/site-packages (from requests<3.0.0,>=2.13.0->spacy<3.8.0,>=3.7.2->en-core-web-sm==3.7.1) (2024.2.2)\n",
      "Requirement already satisfied: blis<0.8.0,>=0.7.8 in ./venv/lib64/python3.11/site-packages (from thinc<8.3.0,>=8.2.2->spacy<3.8.0,>=3.7.2->en-core-web-sm==3.7.1) (0.7.11)\n",
      "Requirement already satisfied: confection<1.0.0,>=0.0.1 in ./venv/lib64/python3.11/site-packages (from thinc<8.3.0,>=8.2.2->spacy<3.8.0,>=3.7.2->en-core-web-sm==3.7.1) (0.1.4)\n",
      "Requirement already satisfied: click<9.0.0,>=7.1.1 in ./venv/lib64/python3.11/site-packages (from typer<0.10.0,>=0.3.0->spacy<3.8.0,>=3.7.2->en-core-web-sm==3.7.1) (8.1.7)\n",
      "Requirement already satisfied: cloudpathlib<0.17.0,>=0.7.0 in ./venv/lib64/python3.11/site-packages (from weasel<0.4.0,>=0.1.0->spacy<3.8.0,>=3.7.2->en-core-web-sm==3.7.1) (0.16.0)\n",
      "Requirement already satisfied: MarkupSafe>=2.0 in ./venv/lib64/python3.11/site-packages (from jinja2->spacy<3.8.0,>=3.7.2->en-core-web-sm==3.7.1) (2.1.5)\n",
      "Requirement already satisfied: marisa-trie>=0.7.7 in ./venv/lib64/python3.11/site-packages (from language-data>=1.2->langcodes<4.0.0,>=3.2.0->spacy<3.8.0,>=3.7.2->en-core-web-sm==3.7.1) (1.1.0)\n",
      "Installing collected packages: en-core-web-sm\n",
      "Successfully installed en-core-web-sm-3.7.1\n",
      "\n",
      "\u001b[1m[\u001b[0m\u001b[34;49mnotice\u001b[0m\u001b[1;39;49m]\u001b[0m\u001b[39;49m A new release of pip available: \u001b[0m\u001b[31;49m22.3.1\u001b[0m\u001b[39;49m -> \u001b[0m\u001b[32;49m24.0\u001b[0m\n",
      "\u001b[1m[\u001b[0m\u001b[34;49mnotice\u001b[0m\u001b[1;39;49m]\u001b[0m\u001b[39;49m To update, run: \u001b[0m\u001b[32;49mpip install --upgrade pip\u001b[0m\n",
      "\u001b[38;5;2m✔ Download and installation successful\u001b[0m\n",
      "You can now load the package via spacy.load('en_core_web_sm')\n"
     ]
    }
   ],
   "source": [
    "!python -m spacy download en_core_web_sm\n",
    "\n",
    "import spacy\n",
    "nlp = spacy.load('en_core_web_sm')\n",
    "\n",
    "\n",
    "def filter_words(tweet):\n",
    "\n",
    "    # remove stop words\n",
    "    stop_words = set(stopwords.words(\"english\"))\n",
    "    tweet = \" \".join([word for word in tweet.split()\n",
    "                     if word not in stop_words])\n",
    "\n",
    "    # convert verbs into root form\n",
    "    tweet_list = []\n",
    "    for token in nlp(tweet):\n",
    "        lemma = str(token.lemma_)\n",
    "        if lemma == \"-PRON-\" or lemma == \"be\":\n",
    "            lemma = token.text\n",
    "        tweet_list.append(lemma)\n",
    "    tweet = \" \".join(tweet_list)\n",
    "\n",
    "    return tweet"
   ]
  },
  {
   "cell_type": "code",
   "execution_count": 17,
   "metadata": {},
   "outputs": [],
   "source": [
    "df[\"text\"] = df[\"text\"].apply(filter_words)"
   ]
  },
  {
   "cell_type": "code",
   "execution_count": 18,
   "metadata": {},
   "outputs": [
    {
     "data": {
      "text/plain": [
       "0                      always feel ashamed lose temper book\n",
       "1                           want tell people feel humiliate\n",
       "2                      feel rotten let excuse ease friction\n",
       "3         start miss natural hair colour feeling bit reg...\n",
       "4         tired feeling beat bruise sometimes even know ...\n",
       "                                ...                        \n",
       "509330    many player current crop go end game crazy thi...\n",
       "509331                                                     \n",
       "509332                                hi know dinner starve\n",
       "509333     still think ac milans defence seem well organize\n",
       "509334                                                fever\n",
       "Name: text, Length: 509335, dtype: object"
      ]
     },
     "execution_count": 18,
     "metadata": {},
     "output_type": "execute_result"
    }
   ],
   "source": [
    "df[\"text\"]"
   ]
  },
  {
   "cell_type": "markdown",
   "metadata": {},
   "source": [
    "## Entrenamiento del Modelo"
   ]
  },
  {
   "cell_type": "code",
   "execution_count": 19,
   "metadata": {},
   "outputs": [],
   "source": [
    "df_train, df_test = train_test_split(df , test_size=0.2 , random_state=50)"
   ]
  },
  {
   "cell_type": "code",
   "execution_count": 20,
   "metadata": {},
   "outputs": [
    {
     "data": {
      "text/html": [
       "<div>\n",
       "<style scoped>\n",
       "    .dataframe tbody tr th:only-of-type {\n",
       "        vertical-align: middle;\n",
       "    }\n",
       "\n",
       "    .dataframe tbody tr th {\n",
       "        vertical-align: top;\n",
       "    }\n",
       "\n",
       "    .dataframe thead th {\n",
       "        text-align: right;\n",
       "    }\n",
       "</style>\n",
       "<table border=\"1\" class=\"dataframe\">\n",
       "  <thead>\n",
       "    <tr style=\"text-align: right;\">\n",
       "      <th></th>\n",
       "      <th>text</th>\n",
       "      <th>label</th>\n",
       "    </tr>\n",
       "  </thead>\n",
       "  <tbody>\n",
       "    <tr>\n",
       "      <th>343958</th>\n",
       "      <td>still figure like set flat uphill flat droppin...</td>\n",
       "      <td>4.0</td>\n",
       "    </tr>\n",
       "    <tr>\n",
       "      <th>277391</th>\n",
       "      <td>I m feel enrage another person action consider...</td>\n",
       "      <td>3.0</td>\n",
       "    </tr>\n",
       "    <tr>\n",
       "      <th>39123</th>\n",
       "      <td>feel stress kid vulnerability</td>\n",
       "      <td>0.0</td>\n",
       "    </tr>\n",
       "    <tr>\n",
       "      <th>204258</th>\n",
       "      <td>feel generous behave well today might persuade...</td>\n",
       "      <td>2.0</td>\n",
       "    </tr>\n",
       "    <tr>\n",
       "      <th>148745</th>\n",
       "      <td>say dentist make feel really reassure</td>\n",
       "      <td>1.0</td>\n",
       "    </tr>\n",
       "    <tr>\n",
       "      <th>...</th>\n",
       "      <td>...</td>\n",
       "      <td>...</td>\n",
       "    </tr>\n",
       "    <tr>\n",
       "      <th>441633</th>\n",
       "      <td>oh mean time world control individual land own...</td>\n",
       "      <td>6.0</td>\n",
       "    </tr>\n",
       "    <tr>\n",
       "      <th>153709</th>\n",
       "      <td>feel hopeful</td>\n",
       "      <td>1.0</td>\n",
       "    </tr>\n",
       "    <tr>\n",
       "      <th>239499</th>\n",
       "      <td>feel someone insult publically sue defamation</td>\n",
       "      <td>3.0</td>\n",
       "    </tr>\n",
       "    <tr>\n",
       "      <th>103904</th>\n",
       "      <td>stress worried lack movement feel shelby reass...</td>\n",
       "      <td>1.0</td>\n",
       "    </tr>\n",
       "    <tr>\n",
       "      <th>407216</th>\n",
       "      <td>feel enthralled often move moment feel connect...</td>\n",
       "      <td>5.0</td>\n",
       "    </tr>\n",
       "  </tbody>\n",
       "</table>\n",
       "<p>407468 rows × 2 columns</p>\n",
       "</div>"
      ],
      "text/plain": [
       "                                                     text  label\n",
       "343958  still figure like set flat uphill flat droppin...    4.0\n",
       "277391  I m feel enrage another person action consider...    3.0\n",
       "39123                       feel stress kid vulnerability    0.0\n",
       "204258  feel generous behave well today might persuade...    2.0\n",
       "148745              say dentist make feel really reassure    1.0\n",
       "...                                                   ...    ...\n",
       "441633  oh mean time world control individual land own...    6.0\n",
       "153709                                       feel hopeful    1.0\n",
       "239499      feel someone insult publically sue defamation    3.0\n",
       "103904  stress worried lack movement feel shelby reass...    1.0\n",
       "407216  feel enthralled often move moment feel connect...    5.0\n",
       "\n",
       "[407468 rows x 2 columns]"
      ]
     },
     "execution_count": 20,
     "metadata": {},
     "output_type": "execute_result"
    }
   ],
   "source": [
    "df_train"
   ]
  },
  {
   "cell_type": "code",
   "execution_count": 21,
   "metadata": {},
   "outputs": [
    {
     "data": {
      "text/plain": [
       "<407468x2000 sparse matrix of type '<class 'numpy.float64'>'\n",
       "\twith 2821430 stored elements in Compressed Sparse Row format>"
      ]
     },
     "execution_count": 21,
     "metadata": {},
     "output_type": "execute_result"
    }
   ],
   "source": [
    "vectorizer = TfidfVectorizer(max_features=2000)\n",
    "X_train = vectorizer.fit_transform(df_train['text'])\n",
    "X_train"
   ]
  },
  {
   "cell_type": "code",
   "execution_count": 22,
   "metadata": {},
   "outputs": [
    {
     "data": {
      "text/plain": [
       "<101867x2000 sparse matrix of type '<class 'numpy.float64'>'\n",
       "\twith 704089 stored elements in Compressed Sparse Row format>"
      ]
     },
     "execution_count": 22,
     "metadata": {},
     "output_type": "execute_result"
    }
   ],
   "source": [
    "X_test = vectorizer.transform(df_test['text'])\n",
    "X_test"
   ]
  },
  {
   "cell_type": "code",
   "execution_count": 23,
   "metadata": {},
   "outputs": [],
   "source": [
    "Y_train = df_train['label']\n",
    "Y_test = df_test['label']"
   ]
  },
  {
   "cell_type": "code",
   "execution_count": 24,
   "metadata": {},
   "outputs": [
    {
     "name": "stdout",
     "output_type": "stream",
     "text": [
      "Train acc: 0.8634911207751284\n",
      "Test acc: 0.8560279580236976\n"
     ]
    }
   ],
   "source": [
    "model = LogisticRegression(max_iter=1500)\n",
    "model.fit(X_train, Y_train)\n",
    "print(\"Train acc:\", model.score(X_train, Y_train))\n",
    "print(\"Test acc:\", model.score(X_test, Y_test))"
   ]
  },
  {
   "cell_type": "code",
   "execution_count": 25,
   "metadata": {},
   "outputs": [
    {
     "data": {
      "text/plain": [
       "array([5., 3., 3., ..., 3., 1., 0.])"
      ]
     },
     "execution_count": 25,
     "metadata": {},
     "output_type": "execute_result"
    }
   ],
   "source": [
    "P_train = model.predict(X_train)\n",
    "P_test = model.predict(X_test)\n",
    "P_train"
   ]
  },
  {
   "cell_type": "code",
   "execution_count": 26,
   "metadata": {},
   "outputs": [
    {
     "data": {
      "text/plain": [
       "array([[0.87459196, 0.02528249, 0.01348085, 0.03454175, 0.02650659,\n",
       "        0.0049592 , 0.02063716],\n",
       "       [0.02147143, 0.81436742, 0.07788474, 0.01028254, 0.00945431,\n",
       "        0.01376735, 0.05277222],\n",
       "       [0.01264225, 0.04693287, 0.90345768, 0.00781092, 0.00542051,\n",
       "        0.00309743, 0.02063834],\n",
       "       [0.026876  , 0.01321103, 0.00914128, 0.85164199, 0.03017876,\n",
       "        0.00328711, 0.06566384],\n",
       "       [0.02143158, 0.0106222 , 0.00572445, 0.02333453, 0.85587497,\n",
       "        0.04972626, 0.03328602],\n",
       "       [0.01300078, 0.02882781, 0.00946796, 0.00816081, 0.07698015,\n",
       "        0.76100473, 0.10255776],\n",
       "       [0.01044513, 0.0189074 , 0.01334915, 0.01308373, 0.00605786,\n",
       "        0.00896189, 0.92919484]])"
      ]
     },
     "execution_count": 26,
     "metadata": {},
     "output_type": "execute_result"
    }
   ],
   "source": [
    "cm = confusion_matrix(Y_train, P_train, normalize='true')\n",
    "cm"
   ]
  },
  {
   "cell_type": "code",
   "execution_count": 27,
   "metadata": {},
   "outputs": [
    {
     "data": {
      "text/plain": [
       "(array([ 1.,  0.,  0.,  0.,  0.,  0.,  0.,  0.,  0.,  0.,  0.,  0.,  0.,\n",
       "         0.,  0.,  0.,  0.,  0.,  0.,  1.,  1.,  0.,  0.,  0.,  0.,  1.,\n",
       "         0.,  0.,  0.,  0.,  0.,  1.,  0.,  2.,  0.,  1.,  1.,  0.,  1.,\n",
       "         0.,  0.,  2.,  2.,  1.,  2.,  2.,  1.,  1.,  1.,  4.,  1.,  1.,\n",
       "         3.,  1.,  4.,  2.,  2.,  3.,  0.,  0.,  1.,  1.,  7.,  2.,  5.,\n",
       "         7.,  5.,  6.,  6.,  8.,  7.,  5.,  7.,  6.,  6.,  6.,  8., 11.,\n",
       "         7.,  9.,  7.,  6.,  5.,  4., 13.,  8.,  1.,  8.,  8.,  3.,  4.,\n",
       "         8.,  5.,  7.,  3.,  2.,  7.,  0.,  2.,  3.,  8.,  3.,  6.,  6.,\n",
       "         9., 11., 10., 17., 23., 27., 31., 41., 29., 46., 59., 59., 74.,\n",
       "        71., 71., 70., 75., 79., 94., 61., 79., 72., 68., 50., 58., 48.,\n",
       "        44., 36., 33., 23., 17., 15., 20., 11., 10., 13., 10.,  4.,  4.,\n",
       "         3.,  3.,  0.,  0.,  1.,  0.,  1.,  1.,  1.,  0.,  2.,  0.,  1.,\n",
       "         0.,  1.,  0.,  2.,  0.,  1.,  1.,  0.,  0.,  0.,  0.,  1.,  0.,\n",
       "         0.,  0.,  0.,  0.,  1.,  0.,  1.,  1.,  0.,  0.,  0.,  0.,  0.,\n",
       "         0.,  1.,  0.,  1.,  1.,  0.,  0.,  1.,  0.,  2.,  0.,  0.,  2.,\n",
       "         0.,  1.,  0.,  0.,  0.,  0.,  0.,  2.,  1.,  2.,  0.,  3.,  0.,\n",
       "         0.,  0.,  0.,  0.,  1.,  0.,  0.,  0.,  0.,  0.,  0.,  1.,  1.,\n",
       "         0.,  0.,  2.,  0.,  2.,  0.,  0.,  1.,  1.,  0.,  1.,  2.,  1.,\n",
       "         1.,  2.,  1.,  1.,  1.,  1.,  0.,  0.,  2.,  0.,  1.,  2.,  0.,\n",
       "         1.,  1.,  0.,  0.,  1.,  0.,  0.,  1.,  5.,  3.,  1.,  3.,  3.,\n",
       "         1.,  2.,  0.,  2.,  1.,  0.,  0.,  4.,  1.,  0.,  1.,  1.,  2.,\n",
       "         0.,  2.,  0.,  0.,  1.,  1.,  0.,  0.,  4.,  2.,  1.,  0.,  2.,\n",
       "         1.,  3.,  2.,  1.,  0.,  1.,  1.,  1.,  1.,  0.,  0.,  1.,  1.,\n",
       "         2.,  0.,  0.,  0.,  1.,  0.,  2.,  2.,  0.,  0.,  1.,  1.,  0.,\n",
       "         2.,  0.,  0.,  0.,  0.,  0.,  0.,  0.,  0.,  0.,  0.,  1.,  0.,\n",
       "         0.,  0.,  0.,  0.,  0.,  0.,  1.,  0.,  0.,  0.,  0.,  0.,  0.,\n",
       "         0.,  0.,  0.,  0.,  0.,  0.,  0.,  0.,  0.,  0.,  0.,  0.,  0.,\n",
       "         0.,  0.,  0.,  0.,  0.,  0.,  0.,  0.,  0.,  0.,  0.,  0.,  0.,\n",
       "         0.,  0.,  0.,  0.,  0.,  0.,  0.,  0.,  0.,  0.,  0.,  0.,  0.,\n",
       "         0.,  0.,  0.,  0.,  0.,  0.,  0.,  0.,  0.,  0.,  0.,  0.,  0.,\n",
       "         0.,  0.,  0.,  0.,  0.,  0.,  0.,  0.,  0.,  1.]),\n",
       " array([-5.76445931, -5.71579946, -5.6671396 , -5.61847975, -5.56981989,\n",
       "        -5.52116004, -5.47250018, -5.42384033, -5.37518047, -5.32652062,\n",
       "        -5.27786076, -5.22920091, -5.18054105, -5.1318812 , -5.08322134,\n",
       "        -5.03456149, -4.98590163, -4.93724178, -4.88858193, -4.83992207,\n",
       "        -4.79126222, -4.74260236, -4.69394251, -4.64528265, -4.5966228 ,\n",
       "        -4.54796294, -4.49930309, -4.45064323, -4.40198338, -4.35332352,\n",
       "        -4.30466367, -4.25600381, -4.20734396, -4.1586841 , -4.11002425,\n",
       "        -4.06136439, -4.01270454, -3.96404468, -3.91538483, -3.86672498,\n",
       "        -3.81806512, -3.76940527, -3.72074541, -3.67208556, -3.6234257 ,\n",
       "        -3.57476585, -3.52610599, -3.47744614, -3.42878628, -3.38012643,\n",
       "        -3.33146657, -3.28280672, -3.23414686, -3.18548701, -3.13682715,\n",
       "        -3.0881673 , -3.03950744, -2.99084759, -2.94218774, -2.89352788,\n",
       "        -2.84486803, -2.79620817, -2.74754832, -2.69888846, -2.65022861,\n",
       "        -2.60156875, -2.5529089 , -2.50424904, -2.45558919, -2.40692933,\n",
       "        -2.35826948, -2.30960962, -2.26094977, -2.21228991, -2.16363006,\n",
       "        -2.1149702 , -2.06631035, -2.01765049, -1.96899064, -1.92033079,\n",
       "        -1.87167093, -1.82301108, -1.77435122, -1.72569137, -1.67703151,\n",
       "        -1.62837166, -1.5797118 , -1.53105195, -1.48239209, -1.43373224,\n",
       "        -1.38507238, -1.33641253, -1.28775267, -1.23909282, -1.19043296,\n",
       "        -1.14177311, -1.09311325, -1.0444534 , -0.99579355, -0.94713369,\n",
       "        -0.89847384, -0.84981398, -0.80115413, -0.75249427, -0.70383442,\n",
       "        -0.65517456, -0.60651471, -0.55785485, -0.509195  , -0.46053514,\n",
       "        -0.41187529, -0.36321543, -0.31455558, -0.26589572, -0.21723587,\n",
       "        -0.16857601, -0.11991616, -0.0712563 , -0.02259645,  0.0260634 ,\n",
       "         0.07472326,  0.12338311,  0.17204297,  0.22070282,  0.26936268,\n",
       "         0.31802253,  0.36668239,  0.41534224,  0.4640021 ,  0.51266195,\n",
       "         0.56132181,  0.60998166,  0.65864152,  0.70730137,  0.75596123,\n",
       "         0.80462108,  0.85328094,  0.90194079,  0.95060064,  0.9992605 ,\n",
       "         1.04792035,  1.09658021,  1.14524006,  1.19389992,  1.24255977,\n",
       "         1.29121963,  1.33987948,  1.38853934,  1.43719919,  1.48585905,\n",
       "         1.5345189 ,  1.58317876,  1.63183861,  1.68049847,  1.72915832,\n",
       "         1.77781818,  1.82647803,  1.87513789,  1.92379774,  1.97245759,\n",
       "         2.02111745,  2.0697773 ,  2.11843716,  2.16709701,  2.21575687,\n",
       "         2.26441672,  2.31307658,  2.36173643,  2.41039629,  2.45905614,\n",
       "         2.507716  ,  2.55637585,  2.60503571,  2.65369556,  2.70235542,\n",
       "         2.75101527,  2.79967513,  2.84833498,  2.89699484,  2.94565469,\n",
       "         2.99431454,  3.0429744 ,  3.09163425,  3.14029411,  3.18895396,\n",
       "         3.23761382,  3.28627367,  3.33493353,  3.38359338,  3.43225324,\n",
       "         3.48091309,  3.52957295,  3.5782328 ,  3.62689266,  3.67555251,\n",
       "         3.72421237,  3.77287222,  3.82153208,  3.87019193,  3.91885178,\n",
       "         3.96751164,  4.01617149,  4.06483135,  4.1134912 ,  4.16215106,\n",
       "         4.21081091,  4.25947077,  4.30813062,  4.35679048,  4.40545033,\n",
       "         4.45411019,  4.50277004,  4.5514299 ,  4.60008975,  4.64874961,\n",
       "         4.69740946,  4.74606932,  4.79472917,  4.84338903,  4.89204888,\n",
       "         4.94070873,  4.98936859,  5.03802844,  5.0866883 ,  5.13534815,\n",
       "         5.18400801,  5.23266786,  5.28132772,  5.32998757,  5.37864743,\n",
       "         5.42730728,  5.47596714,  5.52462699,  5.57328685,  5.6219467 ,\n",
       "         5.67060656,  5.71926641,  5.76792627,  5.81658612,  5.86524597,\n",
       "         5.91390583,  5.96256568,  6.01122554,  6.05988539,  6.10854525,\n",
       "         6.1572051 ,  6.20586496,  6.25452481,  6.30318467,  6.35184452,\n",
       "         6.40050438,  6.44916423,  6.49782409,  6.54648394,  6.5951438 ,\n",
       "         6.64380365,  6.69246351,  6.74112336,  6.78978322,  6.83844307,\n",
       "         6.88710292,  6.93576278,  6.98442263,  7.03308249,  7.08174234,\n",
       "         7.1304022 ,  7.17906205,  7.22772191,  7.27638176,  7.32504162,\n",
       "         7.37370147,  7.42236133,  7.47102118,  7.51968104,  7.56834089,\n",
       "         7.61700075,  7.6656606 ,  7.71432046,  7.76298031,  7.81164016,\n",
       "         7.86030002,  7.90895987,  7.95761973,  8.00627958,  8.05493944,\n",
       "         8.10359929,  8.15225915,  8.200919  ,  8.24957886,  8.29823871,\n",
       "         8.34689857,  8.39555842,  8.44421828,  8.49287813,  8.54153799,\n",
       "         8.59019784,  8.6388577 ,  8.68751755,  8.73617741,  8.78483726,\n",
       "         8.83349711,  8.88215697,  8.93081682,  8.97947668,  9.02813653,\n",
       "         9.07679639,  9.12545624,  9.1741161 ,  9.22277595,  9.27143581,\n",
       "         9.32009566,  9.36875552,  9.41741537,  9.46607523,  9.51473508,\n",
       "         9.56339494,  9.61205479,  9.66071465,  9.7093745 ,  9.75803435,\n",
       "         9.80669421,  9.85535406,  9.90401392,  9.95267377, 10.00133363,\n",
       "        10.04999348, 10.09865334, 10.14731319, 10.19597305, 10.2446329 ,\n",
       "        10.29329276, 10.34195261, 10.39061247, 10.43927232, 10.48793218,\n",
       "        10.53659203, 10.58525189, 10.63391174, 10.6825716 , 10.73123145,\n",
       "        10.7798913 , 10.82855116, 10.87721101, 10.92587087, 10.97453072,\n",
       "        11.02319058, 11.07185043, 11.12051029, 11.16917014, 11.21783   ,\n",
       "        11.26648985, 11.31514971, 11.36380956, 11.41246942, 11.46112927,\n",
       "        11.50978913, 11.55844898, 11.60710884, 11.65576869, 11.70442855,\n",
       "        11.7530884 , 11.80174825, 11.85040811, 11.89906796, 11.94772782,\n",
       "        11.99638767, 12.04504753, 12.09370738, 12.14236724, 12.19102709,\n",
       "        12.23968695, 12.2883468 , 12.33700666, 12.38566651, 12.43432637,\n",
       "        12.48298622, 12.53164608, 12.58030593, 12.62896579, 12.67762564,\n",
       "        12.72628549, 12.77494535, 12.8236052 , 12.87226506, 12.92092491,\n",
       "        12.96958477, 13.01824462, 13.06690448, 13.11556433, 13.16422419,\n",
       "        13.21288404, 13.2615439 , 13.31020375, 13.35886361, 13.40752346,\n",
       "        13.45618332, 13.50484317, 13.55350303, 13.60216288, 13.65082274,\n",
       "        13.69948259]),\n",
       " <BarContainer object of 400 artists>)"
      ]
     },
     "execution_count": 27,
     "metadata": {},
     "output_type": "execute_result"
    },
    {
     "data": {
      "image/png": "[encoded data removed]",
      "text/plain": [
       "<Figure size 640x480 with 1 Axes>"
      ]
     },
     "metadata": {},
     "output_type": "display_data"
    }
   ],
   "source": [
    "plt.hist(model.coef_[0], bins=400)"
   ]
  },
  {
   "cell_type": "code",
   "execution_count": 28,
   "metadata": {},
   "outputs": [
    {
     "name": "stdout",
     "output_type": "stream",
     "text": [
      "Sentimiento predicho para la oración: [6.]\n"
     ]
    }
   ],
   "source": [
    "mi_oracion = \"this text i so complicated im impacient\"\n",
    "mi_oracion_vectorizada = vectorizer.transform([mi_oracion])\n",
    "sentimiento_predicho = model.predict(mi_oracion_vectorizada)\n",
    "print(\"Sentimiento predicho para la oración:\", sentimiento_predicho)"
   ]
  },
  {
   "cell_type": "code",
   "execution_count": 48,
   "metadata": {},
   "outputs": [],
   "source": [
    "sentiments = {\"sad\": 0, \"happy\": 1, \"love\": 2, \"angry\": 3, \"fear\": 4, \"surprise\": 5, \"anxious\": 6, \"neutarl\": 7}\n",
    "\n",
    "def expression_check(prediction_input):\n",
    "  for i, prediction in enumerate(prediction_input):\n",
    "    sentiment = next((key for key, value in sentiments.items() if value == prediction), None)\n",
    "    if sentiment is not None:\n",
    "      print(f\"Input statement {i} has {sentiment} sentiment\")\n",
    "    else:\n",
    "      print(f\"Input statement {i} has unknown sentiment\")\n"
   ]
  },
  {
   "cell_type": "code",
   "execution_count": 53,
   "metadata": {},
   "outputs": [],
   "source": [
    "def sentiment_predictor(input):\n",
    "  input = [clean_text(text) for text in input]\n",
    "  input = [filter_words(text) for text in input]\n",
    "  transformed_input = vectorizer.transform(input)\n",
    "  prediction = model.predict(transformed_input)\n",
    "  expression_check(prediction)"
   ]
  },
  {
   "cell_type": "code",
   "execution_count": 50,
   "metadata": {},
   "outputs": [],
   "source": [
    "input = [\n",
    "    \"I'm truly devastated to hear about this news. My heart goes out to you during this difficult time. If there's anything I can do to support you, please don't hesitate to reach out. We're all here for you. 😔\",\n",
    "\n",
    "    \"I'm absolutely overjoyed to hear this wonderful news! Congratulations on this incredible achievement! You've worked so hard, and it's truly paying off. Wishing you continued success and happiness. 🎉\",\n",
    "\n",
    "    \"Love is such a beautiful thing, and it's wonderful to see it shining through. Your love for each other is inspiring and heartwarming. Wishing you both a lifetime of happiness together. 💕\",\n",
    "\n",
    "    \"I'm seething with anger over this situation. It's completely unacceptable, and I understand why you're feeling frustrated. Let's work together to find a solution and make things right. We won't let this stand. 😡\",\n",
    "\n",
    "    \"The unknown can be terrifying, and it's completely normal to feel anxious about what lies ahead. Just know that you're not alone. We're here to support you every step of the way, and together, we'll get through this. 😨\",\n",
    "\n",
    "    \"What an unexpected and delightful surprise! It's moments like these that remind us of the beauty and joy in life. Let's savor this moment and cherish the memories it brings. 😯\",\n",
    "\n",
    "    \"I understand that you're feeling apprehensive about the outcome, but remember, you've done everything you can to prepare. Now it's time to trust in yourself and stay positive. We're all rooting for you, and no matter what happens, we'll be here to support you. 🤞\",\n",
    "\n",
    "    \"Everything may seem calm on the surface, but I can sense the tension in the air. It's important to stay vigilant and prepared for whatever may come our way. Let's keep a watchful eye and be ready to act if needed. 😐\"\n",
    "]"
   ]
  },
  {
   "cell_type": "code",
   "execution_count": 52,
   "metadata": {},
   "outputs": [
    {
     "name": "stdout",
     "output_type": "stream",
     "text": [
      "Input statement 0 has anxious sentiment\n",
      "Input statement 1 has happy sentiment\n",
      "Input statement 2 has happy sentiment\n",
      "Input statement 3 has angry sentiment\n",
      "Input statement 4 has fear sentiment\n",
      "Input statement 5 has surprise sentiment\n",
      "Input statement 6 has fear sentiment\n",
      "Input statement 7 has anxious sentiment\n"
     ]
    }
   ],
   "source": [
    "sentiment_predictor(input)"
   ]
  },
  {
   "cell_type": "markdown",
   "metadata": {},
   "source": [
    "## Saving the model"
   ]
  },
  {
   "cell_type": "code",
   "execution_count": 55,
   "metadata": {},
   "outputs": [
    {
     "data": {
      "text/plain": [
       "['Modeloscsv/modelo_AI.pkl']"
      ]
     },
     "execution_count": 55,
     "metadata": {},
     "output_type": "execute_result"
    }
   ],
   "source": [
    "dump(model, 'Modeloscsv/modelo_AI.pkl')"
   ]
  }
 ],
 "metadata": {
  "kernelspec": {
   "display_name": "base",
   "language": "python",
   "name": "python3"
  },
  "language_info": {
   "codemirror_mode": {
    "name": "ipython",
    "version": 3
   },
   "file_extension": ".py",
   "mimetype": "text/x-python",
   "name": "python",
   "nbconvert_exporter": "python",
   "pygments_lexer": "ipython3",
   "version": "3.11.9"
  }
 },
 "nbformat": 4,
 "nbformat_minor": 2
}
